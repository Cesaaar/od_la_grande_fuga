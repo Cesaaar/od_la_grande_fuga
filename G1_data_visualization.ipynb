{
 "cells": [
  {
   "cell_type": "code",
   "execution_count": 175,
   "metadata": {
    "collapsed": false
   },
   "outputs": [
    {
     "name": "stdout",
     "output_type": "stream",
     "text": [
      "Populating the interactive namespace from numpy and matplotlib\n"
     ]
    }
   ],
   "source": [
    "# Librerie\n",
    "import os\n",
    "import pandas as pd\n",
    "import numpy as np\n",
    "import folium\n",
    "import matplotlib.pyplot as plt\n",
    "plt.style.use('ggplot')\n",
    "get_ipython().magic('pylab inline')"
   ]
  },
  {
   "cell_type": "code",
   "execution_count": 2,
   "metadata": {
    "collapsed": true
   },
   "outputs": [],
   "source": [
    "# Cartelle Input/Output\n",
    "dir_df = os.path.join(os.path.abspath(''),'stg')\n",
    "dir_out = os.path.join(os.path.abspath(''),'output')"
   ]
  },
  {
   "cell_type": "code",
   "execution_count": 3,
   "metadata": {
    "collapsed": true
   },
   "outputs": [],
   "source": [
    "df_g1_filename = r'df_g1.pkl'\n",
    "df_g1_fullpath = os.path.join(dir_df, df_g1_filename)\n",
    "df_g1 = pd.read_pickle(df_g1_fullpath)"
   ]
  },
  {
   "cell_type": "code",
   "execution_count": 7,
   "metadata": {
    "collapsed": false
   },
   "outputs": [],
   "source": [
    "df_g1 = df_g1[df_g1['Territorio']!='Italia']"
   ]
  },
  {
   "cell_type": "code",
   "execution_count": 8,
   "metadata": {
    "collapsed": false
   },
   "outputs": [
    {
     "data": {
      "text/html": [
       "<div>\n",
       "<table border=\"1\" class=\"dataframe\">\n",
       "  <thead>\n",
       "    <tr style=\"text-align: right;\">\n",
       "      <th></th>\n",
       "      <th>Territorio</th>\n",
       "      <th>Popolazione residente</th>\n",
       "      <th>Speranza di vita alla nascita</th>\n",
       "      <th>Reddito pro capite</th>\n",
       "    </tr>\n",
       "  </thead>\n",
       "  <tbody>\n",
       "    <tr>\n",
       "      <th>1</th>\n",
       "      <td>Nord</td>\n",
       "      <td>27799803</td>\n",
       "      <td>82.8</td>\n",
       "      <td>32964.21</td>\n",
       "    </tr>\n",
       "    <tr>\n",
       "      <th>2</th>\n",
       "      <td>Sud</td>\n",
       "      <td>14149806</td>\n",
       "      <td>81.7</td>\n",
       "      <td>17867.38</td>\n",
       "    </tr>\n",
       "  </tbody>\n",
       "</table>\n",
       "</div>"
      ],
      "text/plain": [
       "  Territorio  Popolazione residente  Speranza di vita alla nascita  \\\n",
       "1       Nord               27799803                           82.8   \n",
       "2        Sud               14149806                           81.7   \n",
       "\n",
       "   Reddito pro capite  \n",
       "1            32964.21  \n",
       "2            17867.38  "
      ]
     },
     "execution_count": 8,
     "metadata": {},
     "output_type": "execute_result"
    }
   ],
   "source": [
    "df_g1.head(2)"
   ]
  },
  {
   "cell_type": "code",
   "execution_count": 9,
   "metadata": {
    "collapsed": false
   },
   "outputs": [],
   "source": [
    "df_g1['Popolazione residente'] = df_g1['Popolazione residente']/100000"
   ]
  },
  {
   "cell_type": "code",
   "execution_count": 243,
   "metadata": {
    "collapsed": false,
    "scrolled": true
   },
   "outputs": [
    {
     "data": {
      "image/png": "[encoded data removed]",
      "text/plain": [
       "<matplotlib.figure.Figure at 0x117b3ffd0>"
      ]
     },
     "metadata": {},
     "output_type": "display_data"
    }
   ],
   "source": [
    "style.use('fivethirtyeight')\n",
    "import matplotlib.ticker as mtick\n",
    "# Report G1\n",
    "tp = df_g1.plot(\n",
    "        x='Reddito pro capite', \n",
    "        y='Speranza di vita alla nascita', \n",
    "        s=df_g1['Popolazione residente'],\n",
    "        kind='scatter',\n",
    "        xlim=(0,75000), \n",
    "        ylim=(0,90),\n",
    "        legend = False,\n",
    "        figsize = (6,4))\n",
    "\n",
    "for i, txt in enumerate(df_g1.Territorio):\n",
    "    tp.annotate(txt, (df_g1['Reddito pro capite'].iat[i]*1.070,df_g1['Speranza di vita alla nascita'].iat[i]))\n",
    "    tp.plot()\n",
    "    \n",
    "tp.tick_params(axis = 'both', which = 'major', labelsize = 10)\n",
    "\n",
    "# Generate a bolded horizontal line at y = 0 \n",
    "tp.axhline(y = 0, color = 'black', linewidth = 4, alpha = 0.7)\n",
    "tp.axvline(x = 500, color = 'black', linewidth = 0.8, alpha = 0.7)\n",
    "\n",
    "# Remove the label of the x-axis\n",
    "#tp.xaxis.label.set_visible(False)\n",
    "#tp.yaxis.label.set_visible(False)\n",
    "tp.set_ylabel('Speranza di vita alla nascita (anni)',fontsize=8)\n",
    "tp.set_xlabel('Reddito pro capite (euro)',fontsize=8)\n",
    "\n",
    "fmt = '{x:,.0f}'\n",
    "tick = mtick.StrMethodFormatter(fmt)\n",
    "tp.xaxis.set_major_formatter(tick)\n",
    "\n",
    "text = tp.text(x = -7000, y = -17,\n",
    "    s = 'www.ildatomancante.it                                                                              Fonte: Istat',\n",
    "    fontsize = 10, color = '#f0f0f0', backgroundcolor = 'grey')\n",
    "\n",
    "text.set_url('http://www.ildatomancante.it/opendata/popolazione/799/la-grande-fuga-salute-ricchezza-e-origini-della-disuguaglianza-in-italia/')\n",
    "\n",
    "# Adding a title and a subtitle Reddito e aspettativa di vita\n",
    "tp.text(x = 1000, y = 106, s = \"Reddito e aspettativa di vita in Italia (2015)\",\n",
    "               fontsize = 14, weight = 'bold', alpha = .75)\n",
    "tp.text(x = 1000, y = 96, \n",
    "               s = '''Relazione tra l'aspettativa di vita e il reddito pro capite dei cittadini \\nitaliani.''',\n",
    "              fontsize = 10, alpha = .85)\n",
    "\n",
    "fig_prj = tp.get_figure()\n",
    "fig_prj.savefig(os.path.join(dir_out,'g1.png'), format='png', dpi=300,bbox_inches='tight')\n",
    "fig_prj.savefig(os.path.join(dir_out,'g1.svg'), format='svg', dpi=300,bbox_inches='tight')"
   ]
  },
  {
   "cell_type": "code",
   "execution_count": 244,
   "metadata": {
    "collapsed": true
   },
   "outputs": [],
   "source": [
    "df_g1.to_csv(os.path.join(dir_out,r'G1_Preston.csv'),header=True, index=False)"
   ]
  }
 ],
 "metadata": {
  "anaconda-cloud": {},
  "kernelspec": {
   "display_name": "Python 3",
   "language": "python",
   "name": "python3"
  },
  "language_info": {
   "codemirror_mode": {
    "name": "ipython",
    "version": 3
   },
   "file_extension": ".py",
   "mimetype": "text/x-python",
   "name": "python",
   "nbconvert_exporter": "python",
   "pygments_lexer": "ipython3",
   "version": "3.6.0"
  }
 },
 "nbformat": 4,
 "nbformat_minor": 1
}
