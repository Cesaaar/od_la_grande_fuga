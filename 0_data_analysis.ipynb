{
 "cells": [
  {
   "cell_type": "markdown",
   "metadata": {},
   "source": [
    "# La Grande Fuga\n",
    "Sulla base del libro di Angus Deaton \"La Grande Fuga - salute, ricchezza e origini della disuguaglianza\", sarà replicata a livello base l'analisi svolta approfondendo le dinamiche di \"speranza di vita\" e \"reddito\" che caratterizzano l'Italia e le regioni italiane\n",
    "\n",
    "- Open Data -> ISTAT"
   ]
  },
  {
   "cell_type": "code",
   "execution_count": 1,
   "metadata": {
    "collapsed": false
   },
   "outputs": [
    {
     "name": "stdout",
     "output_type": "stream",
     "text": [
      "cache_dir is '/home/acesarini/opendata/tmp/od_la_grande_fuga/istat_cached'\n"
     ]
    }
   ],
   "source": [
    "# Import librerie per analisi dati (Pandas) e dati Istat\n",
    "import os\n",
    "import pandas as pd\n",
    "import numpy as np\n",
    "from IPython.core.display import HTML\n",
    "import istat\n",
    "import jsonstat\n",
    "\n",
    "# cache dir per velocizzare analisi in locale\n",
    "cache_dir = os.path.abspath(os.path.join(\"..\", \"tmp/od_la_grande_fuga\", \"istat_cached\"))\n",
    "istat.cache_dir(cache_dir)\n",
    "istat.lang(0)  # lingua italiano\n",
    "print(\"cache_dir is '{}'\".format(istat.cache_dir()))"
   ]
  },
  {
   "cell_type": "code",
   "execution_count": 2,
   "metadata": {
    "collapsed": false
   },
   "outputs": [],
   "source": [
    "# Lista Aree\n",
    "# istat.areas()\n",
    "istat_area_pop = istat.area(8)"
   ]
  },
  {
   "cell_type": "markdown",
   "metadata": {},
   "source": [
    "## Speranza di vita alla nascita"
   ]
  },
  {
   "cell_type": "code",
   "execution_count": 4,
   "metadata": {
    "collapsed": false
   },
   "outputs": [
    {
     "data": {
      "text/html": [
       "DCIS_INDDEMOG1(3):Indicatori  demografici</br><table><tr><th>nr</th><th>name</th><th>nr. values</th><th>values (first 3 values)</th></tr><tr><td>0</td><td>Territorio</td><td>140</td><td>1:'Italia', 3:'Nord', 4:'Nord-ovest' ...</td></td></tr><tr><td>1</td><td>Tipo indicatore</td><td>22</td><td>64:'tasso di natalità (per mille abitanti)', 65:'tasso di mortalità (per mille abitanti)', 66:'tasso di nuzialità (per mille abitanti)' ...</td></td></tr><tr><td>2</td><td>Anno</td><td>15</td><td>2148:'2013', 2053:'2008', 1958:'2003' ...</td></td></tr></table>"
      ],
      "text/plain": [
       "DCIS_INDDEMOG1(3):Indicatori  demografici"
      ]
     },
     "execution_count": 4,
     "metadata": {},
     "output_type": "execute_result"
    }
   ],
   "source": [
    "# Lista Dataset - Popolazione -> KPI: Speranza di vita alla nascita\n",
    "istat_dataset_popolazione = istat_area_pop.dataset('DCIS_INDDEMOG1')\n",
    "istat_dataset_popolazione"
   ]
  },
  {
   "cell_type": "code",
   "execution_count": 5,
   "metadata": {
    "collapsed": false
   },
   "outputs": [],
   "source": [
    "# Lista di tutte le Dimensioni\n",
    "#istat_dataset_popolazione.dimensions()"
   ]
  },
  {
   "cell_type": "code",
   "execution_count": 6,
   "metadata": {
    "collapsed": false
   },
   "outputs": [],
   "source": [
    "# Speranza di Vita Maschi\n",
    "spec1 = {\n",
    "    #\"Territorio\":1,                 # 1 -> Italia\n",
    "    #\"Anno\":2167,                   # ALL\n",
    "    \"Tipo indicatore\":75            # 75 -> Speranza di vita alla nascita - maschi\n",
    "}\n",
    "\n",
    "collection1 = istat_dataset_popolazione.getvalues(spec1)\n",
    "ds = collection1.dataset(0)\n",
    "df_m = ds.to_data_frame('Territorio')"
   ]
  },
  {
   "cell_type": "code",
   "execution_count": 7,
   "metadata": {
    "collapsed": false
   },
   "outputs": [],
   "source": [
    "# Speranza di Vita Femmine\n",
    "spec2 = {\n",
    "    #\"Territorio\":1,                # 1 -> Italia\n",
    "    #\"Anno\":2167,                   # ALL\n",
    "    \"Tipo indicatore\":77            # 77 -> Speranza di vita alla nascita - femmine\n",
    "}\n",
    "\n",
    "collection2 = istat_dataset_popolazione.getvalues(spec2)\n",
    "ds2 = collection2.dataset(0)\n",
    "df_f = ds2.to_data_frame('Territorio')"
   ]
  },
  {
   "cell_type": "code",
   "execution_count": 8,
   "metadata": {
    "collapsed": false
   },
   "outputs": [
    {
     "data": {
      "text/plain": [
       "Anno     1946\n",
       "Value    1946\n",
       "dtype: int64"
      ]
     },
     "execution_count": 8,
     "metadata": {},
     "output_type": "execute_result"
    }
   ],
   "source": [
    "df_f.count()"
   ]
  },
  {
   "cell_type": "code",
   "execution_count": 9,
   "metadata": {
    "collapsed": false
   },
   "outputs": [
    {
     "data": {
      "text/plain": [
       "Anno     1946\n",
       "Value    1946\n",
       "dtype: int64"
      ]
     },
     "execution_count": 9,
     "metadata": {},
     "output_type": "execute_result"
    }
   ],
   "source": [
    "df_m.count()"
   ]
  },
  {
   "cell_type": "code",
   "execution_count": 50,
   "metadata": {
    "collapsed": true
   },
   "outputs": [],
   "source": [
    "# Calcolo Speranza di Vita alla Nascita (media tra maschi e femmine) - Territorio Italia, Nord e Sud\n",
    "df_merge = pd.concat([df_m, df_f], axis=1)\n",
    "df_merge.columns = ['Anno', 'Value_M', 'Anno_F', 'Value_F']\n",
    "df_merge = df_merge.drop('Anno_F', 1)\n",
    "df_merge.reset_index(level=0, inplace=True)\n",
    "\n",
    "def value(x):\n",
    "    return round(((x['Value_F'] + x['Value_M'])/2),1)\n",
    "\n",
    "df_merge['Value'] = df_merge.apply(lambda x: value(x), axis=1)\n",
    "df_merge = df_merge.drop('Value_F', 1)\n",
    "df_merge = df_merge.drop('Value_M', 1)\n",
    "\n",
    "df_merge=df_merge[(df_merge['Territorio']=='Italia') |\n",
    "                  (df_merge['Territorio']=='Nord') |\n",
    "                  (df_merge['Territorio']=='Sud')]"
   ]
  },
  {
   "cell_type": "code",
   "execution_count": 49,
   "metadata": {
    "collapsed": false
   },
   "outputs": [
    {
     "data": {
      "text/html": [
       "<div>\n",
       "<table border=\"1\" class=\"dataframe\">\n",
       "  <thead>\n",
       "    <tr style=\"text-align: right;\">\n",
       "      <th></th>\n",
       "      <th>Territorio</th>\n",
       "      <th>Anno</th>\n",
       "      <th>Value</th>\n",
       "    </tr>\n",
       "  </thead>\n",
       "  <tbody>\n",
       "    <tr>\n",
       "      <th>0</th>\n",
       "      <td>Italia</td>\n",
       "      <td>2002</td>\n",
       "      <td>80.1</td>\n",
       "    </tr>\n",
       "    <tr>\n",
       "      <th>1</th>\n",
       "      <td>Italia</td>\n",
       "      <td>2003</td>\n",
       "      <td>80.0</td>\n",
       "    </tr>\n",
       "    <tr>\n",
       "      <th>2</th>\n",
       "      <td>Italia</td>\n",
       "      <td>2004</td>\n",
       "      <td>80.8</td>\n",
       "    </tr>\n",
       "    <tr>\n",
       "      <th>3</th>\n",
       "      <td>Italia</td>\n",
       "      <td>2005</td>\n",
       "      <td>80.8</td>\n",
       "    </tr>\n",
       "    <tr>\n",
       "      <th>4</th>\n",
       "      <td>Italia</td>\n",
       "      <td>2006</td>\n",
       "      <td>81.2</td>\n",
       "    </tr>\n",
       "    <tr>\n",
       "      <th>5</th>\n",
       "      <td>Italia</td>\n",
       "      <td>2007</td>\n",
       "      <td>81.2</td>\n",
       "    </tr>\n",
       "    <tr>\n",
       "      <th>6</th>\n",
       "      <td>Italia</td>\n",
       "      <td>2008</td>\n",
       "      <td>81.3</td>\n",
       "    </tr>\n",
       "    <tr>\n",
       "      <th>7</th>\n",
       "      <td>Italia</td>\n",
       "      <td>2009</td>\n",
       "      <td>81.5</td>\n",
       "    </tr>\n",
       "    <tr>\n",
       "      <th>8</th>\n",
       "      <td>Italia</td>\n",
       "      <td>2010</td>\n",
       "      <td>81.8</td>\n",
       "    </tr>\n",
       "    <tr>\n",
       "      <th>9</th>\n",
       "      <td>Italia</td>\n",
       "      <td>2011</td>\n",
       "      <td>82.0</td>\n",
       "    </tr>\n",
       "    <tr>\n",
       "      <th>10</th>\n",
       "      <td>Italia</td>\n",
       "      <td>2012</td>\n",
       "      <td>82.0</td>\n",
       "    </tr>\n",
       "    <tr>\n",
       "      <th>11</th>\n",
       "      <td>Italia</td>\n",
       "      <td>2013</td>\n",
       "      <td>82.2</td>\n",
       "    </tr>\n",
       "    <tr>\n",
       "      <th>12</th>\n",
       "      <td>Italia</td>\n",
       "      <td>2014</td>\n",
       "      <td>82.7</td>\n",
       "    </tr>\n",
       "    <tr>\n",
       "      <th>13</th>\n",
       "      <td>Italia</td>\n",
       "      <td>2015</td>\n",
       "      <td>82.3</td>\n",
       "    </tr>\n",
       "    <tr>\n",
       "      <th>14</th>\n",
       "      <td>Nord</td>\n",
       "      <td>2002</td>\n",
       "      <td>80.2</td>\n",
       "    </tr>\n",
       "    <tr>\n",
       "      <th>15</th>\n",
       "      <td>Nord</td>\n",
       "      <td>2003</td>\n",
       "      <td>80.2</td>\n",
       "    </tr>\n",
       "    <tr>\n",
       "      <th>16</th>\n",
       "      <td>Nord</td>\n",
       "      <td>2004</td>\n",
       "      <td>81.0</td>\n",
       "    </tr>\n",
       "    <tr>\n",
       "      <th>17</th>\n",
       "      <td>Nord</td>\n",
       "      <td>2005</td>\n",
       "      <td>81.1</td>\n",
       "    </tr>\n",
       "    <tr>\n",
       "      <th>18</th>\n",
       "      <td>Nord</td>\n",
       "      <td>2006</td>\n",
       "      <td>81.4</td>\n",
       "    </tr>\n",
       "    <tr>\n",
       "      <th>19</th>\n",
       "      <td>Nord</td>\n",
       "      <td>2007</td>\n",
       "      <td>81.6</td>\n",
       "    </tr>\n",
       "  </tbody>\n",
       "</table>\n",
       "</div>"
      ],
      "text/plain": [
       "   Territorio  Anno  Value\n",
       "0      Italia  2002   80.1\n",
       "1      Italia  2003   80.0\n",
       "2      Italia  2004   80.8\n",
       "3      Italia  2005   80.8\n",
       "4      Italia  2006   81.2\n",
       "5      Italia  2007   81.2\n",
       "6      Italia  2008   81.3\n",
       "7      Italia  2009   81.5\n",
       "8      Italia  2010   81.8\n",
       "9      Italia  2011   82.0\n",
       "10     Italia  2012   82.0\n",
       "11     Italia  2013   82.2\n",
       "12     Italia  2014   82.7\n",
       "13     Italia  2015   82.3\n",
       "14       Nord  2002   80.2\n",
       "15       Nord  2003   80.2\n",
       "16       Nord  2004   81.0\n",
       "17       Nord  2005   81.1\n",
       "18       Nord  2006   81.4\n",
       "19       Nord  2007   81.6"
      ]
     },
     "execution_count": 49,
     "metadata": {},
     "output_type": "execute_result"
    }
   ],
   "source": [
    "# df_merge.head(2)\n",
    "\n",
    "# writer = pd.ExcelWriter('Vita.xlsx')\n",
    "# df_merge.to_excel(writer,'vita')\n",
    "# writer.save()\n"
   ]
  },
  {
   "cell_type": "code",
   "execution_count": 52,
   "metadata": {
    "collapsed": false
   },
   "outputs": [],
   "source": [
    "# Directory dove salvare i file, da utilizzare in data_visualization\n",
    "dir_df = os.path.join(os.path.abspath(''),'stg')\n",
    "\n",
    "df_merge_filename = r'df_vita.pkl'\n",
    "df_merge_fullpath = os.path.join(dir_df, df_merge_filename)\n",
    "df_merge.to_pickle(df_merge_fullpath)"
   ]
  },
  {
   "cell_type": "markdown",
   "metadata": {},
   "source": [
    "## Reddito pro capite"
   ]
  },
  {
   "cell_type": "code",
   "execution_count": 56,
   "metadata": {
    "collapsed": false
   },
   "outputs": [
    {
     "data": {
      "text/html": [
       "DCCN_TNA(10):Valore aggiunto, Redditi da lavoro, Spesa per consumi finali (famiglie e PA), Investimenti fissi lordi, Valori pro capite</br><table><tr><th>nr</th><th>name</th><th>nr. values</th><th>values (first 3 values)</th></tr><tr><td>0</td><td>Territorio</td><td>142</td><td>1:'Italia', 2:'Centro-nord', 3:'Nord' ...</td></td></tr><tr><td>1</td><td>Tipo aggregato</td><td>22</td><td>2:'spesa per consumi finali sul territorio economico delle famiglie residenti e non residenti', 5:'spesa per consumi finali delle amministrazioni pubbliche', 8:'investimenti fissi lordi, interni' ...</td></td></tr><tr><td>2</td><td>Branca di attività (NACE Rev2)</td><td>43</td><td>128:'fabbricazione di coke e prodotti derivanti dalla raffinazione del petrolio, fabbricazione di prodotti chimici e farmaceutici', 192:'attività immobiliari', 130:'industrie tessili, confezione di articoli di abbigliamento e di articoli in pelle e simili' ...</td></td></tr><tr><td>3</td><td>Attività non finanziarie</td><td>3</td><td>3:'totale capitale fisso per tipo di attività', 4:'totale costruzioni', 79:'non applicabile' ...</td></td></tr><tr><td>4</td><td>Funzione di spesa (coicop/cofog)</td><td>28</td><td>64:'istruzione', 2:'alimentari e bevande non alcoliche', 3:'bevande alcoliche, tabacco,narcotici' ...</td></td></tr><tr><td>5</td><td>Valutazione</td><td>3</td><td>16:'valori concatenati con anno di riferimento 2010', 9:'prezzi correnti', 10:'prezzi dell'anno precedente' ...</td></td></tr><tr><td>6</td><td>Correzione</td><td>1</td><td>1:'dati grezzi'</td></td></tr><tr><td>7</td><td>Tipologia di prezzo</td><td>2</td><td>1:'prezzi base', 7:'non applicabile'</td></td></tr><tr><td>8</td><td>Edizione</td><td>3</td><td>2203:'Nov-2015', 2223:'Dic-2016', 2183:'Ott-2014' ...</td></td></tr><tr><td>9</td><td>Tempo e frequenza</td><td>21</td><td>1920:'2001', 1825:'1996', 2148:'2013' ...</td></td></tr></table>"
      ],
      "text/plain": [
       "DCCN_TNA(10):Valore aggiunto, Redditi da lavoro, Spesa per consumi finali (famiglie e PA), Investimenti fissi lordi, Valori pro capite"
      ]
     },
     "execution_count": 56,
     "metadata": {},
     "output_type": "execute_result"
    }
   ],
   "source": [
    "istat_area_cn = istat.area(17)\n",
    "istat_dataset_reddito = istat_area_cn.dataset('DCCN_TNA')\n",
    "istat_dataset_reddito"
   ]
  },
  {
   "cell_type": "code",
   "execution_count": 76,
   "metadata": {
    "collapsed": false
   },
   "outputs": [],
   "source": [
    "#istat_dataset_reddito.dimensions()"
   ]
  },
  {
   "cell_type": "code",
   "execution_count": 112,
   "metadata": {
    "collapsed": false
   },
   "outputs": [],
   "source": [
    "# Prodotto Interno Lordo ai prezzi di mercato per abitante\n",
    "\n",
    "spec2 = {\n",
    "#\"Territorio\":1,\n",
    "\"Tipo aggregato\":27,\n",
    "#\"Branca di attività (NACE Rev2)\":128,\n",
    "#\"Attività non finanziarie\":3,\n",
    "#\"Funzione di spesa (coicop/cofog)\":3,\n",
    "\"Valutazione\":9,\n",
    "#\"Correzione\":1,\n",
    "#\"Tipologia di prezzo\":1,\n",
    "\"Edizione\":2223\n",
    "#\"Tempo e frequenza\":1920\n",
    "}\n",
    "\n",
    "collection2 = istat_dataset_reddito.getvalues(spec2)\n",
    "#ds = collection.dataset(0)"
   ]
  },
  {
   "cell_type": "code",
   "execution_count": 113,
   "metadata": {
    "collapsed": false,
    "scrolled": true
   },
   "outputs": [],
   "source": [
    "ds = collection2.dataset(0)\n",
    "df_red = ds.to_data_frame('Tempo e frequenza')\n",
    "df_red.reset_index(level=0, inplace=True)\n",
    "df_red = df_red[['Tempo e frequenza','Territorio', 'Value']]"
   ]
  },
  {
   "cell_type": "code",
   "execution_count": 114,
   "metadata": {
    "collapsed": false
   },
   "outputs": [],
   "source": [
    "df_red=df_red[(df_red['Territorio']=='Italia') |\n",
    "                  (df_red['Territorio']=='Nord') |\n",
    "                  (df_red['Territorio']=='Sud')]"
   ]
  },
  {
   "cell_type": "code",
   "execution_count": 115,
   "metadata": {
    "collapsed": false
   },
   "outputs": [],
   "source": [
    "#writer = pd.ExcelWriter('Reddito.xlsx')\n",
    "#df_red.to_excel(writer,'reddito')\n",
    "#writer.save()"
   ]
  },
  {
   "cell_type": "code",
   "execution_count": 116,
   "metadata": {
    "collapsed": true
   },
   "outputs": [],
   "source": [
    "df_red_filename = r'df_reddito.pkl'\n",
    "df_red_fullpath = os.path.join(dir_df, df_red_filename)\n",
    "df_red.to_pickle(df_red_fullpath)"
   ]
  }
 ],
 "metadata": {
  "anaconda-cloud": {},
  "kernelspec": {
   "display_name": "Python [conda env:opendata]",
   "language": "python",
   "name": "conda-env-opendata-py"
  },
  "language_info": {
   "codemirror_mode": {
    "name": "ipython",
    "version": 3
   },
   "file_extension": ".py",
   "mimetype": "text/x-python",
   "name": "python",
   "nbconvert_exporter": "python",
   "pygments_lexer": "ipython3",
   "version": "3.5.2"
  }
 },
 "nbformat": 4,
 "nbformat_minor": 1
}
