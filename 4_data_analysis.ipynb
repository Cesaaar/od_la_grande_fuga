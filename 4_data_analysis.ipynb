{
 "cells": [
  {
   "cell_type": "markdown",
   "metadata": {},
   "source": [
    "# G5 - PIL pro capite, reddito personale e spesa per consumi"
   ]
  },
  {
   "cell_type": "code",
   "execution_count": 1,
   "metadata": {
    "collapsed": false
   },
   "outputs": [
    {
     "data": {
      "text/plain": [
       "0"
      ]
     },
     "execution_count": 1,
     "metadata": {},
     "output_type": "execute_result"
    }
   ],
   "source": [
    "# Import librerie per analisi dati (Pandas) e dati Istat\n",
    "import os\n",
    "import pandas as pd\n",
    "import numpy as np\n",
    "from IPython.core.display import HTML\n",
    "import istat\n",
    "import jsonstat\n",
    "\n",
    "# cache dir per velocizzare analisi in locale\n",
    "cache_dir = os.path.abspath(os.path.join(\"..\", \"tmp/od_la_grande_fuga\", \"istat_cached\"))\n",
    "istat.cache_dir(cache_dir)\n",
    "istat.lang(0)  # lingua italiano"
   ]
  },
  {
   "cell_type": "code",
   "execution_count": 46,
   "metadata": {
    "collapsed": true
   },
   "outputs": [],
   "source": [
    "dir_df = os.path.join(os.path.abspath(''),'stg')"
   ]
  },
  {
   "cell_type": "code",
   "execution_count": 2,
   "metadata": {
    "collapsed": false
   },
   "outputs": [],
   "source": [
    "#istat.areas()\n",
    "istat_area_redditi = istat.area(17)"
   ]
  },
  {
   "cell_type": "code",
   "execution_count": 3,
   "metadata": {
    "collapsed": false
   },
   "outputs": [
    {
     "data": {
      "text/html": [
       "<table><tr><th>cod</th><th>name</th><th>dim</th></tr><tr><td>DCCN_AGGREGBRANCAN</td><td>Aggregati dei conti nazionali annuali per branca di attività economica (NACE Rev.1.1) (milioni di euro)</td><td>11</td></td></tr><tr><td>DCCN_AGGREGBRANCANREV2</td><td>Aggregati dei conti nazionali annuali per branca di attività economica (NACE Rev.2) (milioni di euro) - edizioni precedenti ottobre 2014</td><td>10</td></td></tr><tr><td>DCCN_AGGREGBRANCAQ</td><td>Aggregati dei conti nazionali trimestrali per branca di attività economica (NACE Rev.1.1) (milioni di euro)</td><td>11</td></td></tr><tr><td>DCCN_AGGREGBRANCAQREV2</td><td>Aggregati dei conti nazionali trimestrali per branca di attività economica (NACE Rev.2) (milioni di euro) - edizioni precedenti ottobre 2014</td><td>10</td></td></tr><tr><td>DCCN_AGGREGBRANCAT</td><td>Aggregati dei conti territoriali per branca di attività economica (NACE Rev.1.1) (milioni di euro)</td><td>11</td></td></tr><tr><td>DCCN_AGGREGBRANCATREV2</td><td>Aggregati dei conti territoriali per branca di attività economica (NACE Rev.2) (milioni di euro) - edizioni precedenti ottobre 2014</td><td>10</td></td></tr><tr><td>DCCN_AGGRPIL</td><td>Principali aggregati del Prodotto interno lordo - dati nazionali annuali (milioni di euro) - edizioni precedenti ottobre 2014</td><td>7</td></td></tr><tr><td>DCCN_ANA</td><td>Produzione e valore aggiunto, Redditi da lavoro, Imposte e contributi alla produzione, Spesa per consumi finali famiglie, Investimenti fissi lordi, Stock di capitale e ammortamenti, Valori pro capite</td><td>10</td></td></tr><tr><td>DCCN_CAPITALN</td><td>Investimenti fissi lordi, stock di capitale e ammortamenti per branca proprietaria (Nace Rev 1.1) - dati nazionali annuali (milioni di euro)</td><td>10</td></td></tr><tr><td>DCCN_CAPITALNREV2</td><td>Investimenti fissi lordi, stock di capitale e ammortamenti per branca proprietaria (Nace Rev. 2) - dati nazionali annuali (milioni di euro) - edizioni precedenti ottobre 2014</td><td>9</td></td></tr><tr><td>DCCN_CAPITALT</td><td>Investimenti fissi lordi per branca proprietaria (Nace Rev 1.1) - dati territoriali (milioni di euro)</td><td>10</td></td></tr><tr><td>DCCN_CAPITALTREV2</td><td>Investimenti fissi lordi per branca proprietaria (Nace Rev. 2) - dati territoriali (milioni di euro) - edizioni precedenti ottobre 2014</td><td>9</td></td></tr><tr><td>DCCN_CONSFAMN</td><td>Spesa per consumi finali delle famiglie - dati nazionali annuali (milioni di euro) - dati nazionali annuali (milioni di euro) - edizioni precedenti ottobre 2014</td><td>10</td></td></tr><tr><td>DCCN_CONSFAMQ</td><td>Spesa per consumi finali delle famiglie - dati nazionali trimestrali (milioni di euro) - edizioni precedenti ottobre 2014</td><td>10</td></td></tr><tr><td>DCCN_CONSFAMT</td><td>Spesa per consumi finali delle famiglie - dati territoriali (milioni di euro) - edizioni precedenti ottobre 2014</td><td>10</td></td></tr><tr><td>DCCN_CONSPAT</td><td>Spesa per consumi finali della pubblica amministrazione (milioni di euro) - edizioni precedenti ottobre 2014</td><td>9</td></td></tr><tr><td>DCCN_CONTIEMATM</td><td>Emissioni atmosferiche NAMEA (Nace Rev.1.1)</td><td>10</td></td></tr><tr><td>DCCN_CONTIEMATMREV2</td><td>Emissioni atmosferiche NAMEA (Nace Rev.2)</td><td>10</td></td></tr><tr><td>DCCN_CONTRIBQ</td><td>Contributi alla crescita del PIL (punti percentuali) - dati nazionali trimestrali - edizioni precedenti ottobre 2014</td><td>8</td></td></tr><tr><td>DCCN_COSTMARGQ</td><td>Costi e margini per branca di attività economica (NACE Rev.1.1) numeri indice 2000=100 - dati nazionali trimestrali</td><td>9</td></td></tr><tr><td>DCCN_COSTMARGQREV2</td><td>Costi e margini per branca di attività economica (NACE Rev.2) - edizioni precedenti ottobre 2014</td><td>8</td></td></tr><tr><td>DCCN_FLUMAT</td><td>Conti dei flussi di materia</td><td>6</td></td></tr><tr><td>DCCN_FPA</td><td>Conto annuale per sottosettore</td><td>9</td></td></tr><tr><td>DCCN_FPQ</td><td>Conto trimestrale</td><td>9</td></td></tr><tr><td>DCCN_IMPAMB1</td><td>Gettito delle imposte ambientali  </td><td>11</td></td></tr><tr><td>DCCN_INVESTIN</td><td>Investimenti fissi lordi (P51) - dati nazionali annuali (milioni di euro) - edizioni precedenti ottobre 2014</td><td>10</td></td></tr><tr><td>DCCN_INVESTIQ</td><td>Investimenti fissi lordi (P51) - dati nazionali trimestrali (milioni di euro) - edizioni precedenti ottobre 2014</td><td>10</td></td></tr><tr><td>DCCN_ISTITUZ_ANA</td><td>Sequenza dei conti e stock di attività non finanziarie, per settore istituzionale</td><td>9</td></td></tr><tr><td>DCCN_ISTITUZ_QNA</td><td>Sequenza dei conti trimestrali per settore istituzionale</td><td>9</td></td></tr><tr><td>DCCN_ISTITUZ_TNA</td><td>Reddito disponibile delle famiglie nelle regioni italiane</td><td>9</td></td></tr><tr><td>DCCN_OCCNSEC2010</td><td>Occupazione per branca di attività economica  (NACE Rev. 2) - dati nazionali annuali</td><td>9</td></td></tr><tr><td>DCCN_OCCQSEC2010</td><td>Occupazione per branca di attività economica (NACE Rev.2) - dati nazionali trimestrali</td><td>9</td></td></tr><tr><td>DCCN_OCCSISEC2010</td><td>Occupazione per branca di attività economica (NACE Rev. 2)</td><td>9</td></td></tr><tr><td>DCCN_OCCTSEC2010</td><td>Occupazione per branca di attività economica  (NACE Rev. 2) - dati territoriali annuali</td><td>9</td></td></tr><tr><td>DCCN_OCCUPIREV2</td><td>Occupazione per branca di attività economica (NACE Rev.2) - edizioni precedenti ottobre 2014</td><td>10</td></td></tr><tr><td>DCCN_OCCUPNREV2</td><td>Occupazione per branca di attività economica (NACE Rev. 2) -  dati nazionali annuali - edizioni precedenti ottobre 2014</td><td>10</td></td></tr><tr><td>DCCN_OCCUPQ</td><td>Occupazione per branca di attività economica (NACE Rev.1.1) - dati nazionali trimestrali (migliaia)</td><td>10</td></td></tr><tr><td>DCCN_OCCUPQREV2</td><td>Occupazione per branca di attività economica (NACE Rev. 2) - dati nazionali trimestrali - edizioni precedenti ottobre 2014</td><td>10</td></td></tr><tr><td>DCCN_OCCUPT</td><td>Occupazione per branca di attività economica (NACE Rev.1.1) - dati territoriali (migliaia)</td><td>10</td></td></tr><tr><td>DCCN_OCCUPTREV2</td><td>Occupazione per branca di attività economica (NACE Rev. 2) -  dati territoriali annuali - edizioni precedenti ottobre 2014</td><td>10</td></td></tr><tr><td>DCCN_OTEPPA</td><td>Uscite annuali per funzione e sottosettore</td><td>9</td></td></tr><tr><td>DCCN_PILN</td><td>Principali aggregati del Prodotto interno lordo (milioni di euro)</td><td>6</td></td></tr><tr><td>DCCN_PILPRODQ</td><td>Prodotto interno lordo lato produzione - dati nazionali trimestrali (milioni di euro) - edizioni precedenti ottobre 2014</td><td>9</td></td></tr><tr><td>DCCN_PILPRODT</td><td>Prodotto interno lordo lato produzione - dati territoriali (milioni di euro) - edizioni precedenti ottobre 2014</td><td>9</td></td></tr><tr><td>DCCN_PILQ</td><td>Principali aggregati del Prodotto interno lordo (milioni di euro)</td><td>6</td></td></tr><tr><td>DCCN_PILT</td><td>Prodotto interno lordo lato produzione (milioni di euro)</td><td>6</td></td></tr><tr><td>DCCN_PRODUTTIVITA</td><td>Misure di produttività</td><td>7</td></td></tr><tr><td>DCCN_PROTSOC</td><td>Conti della Protezione sociale (milioni di euro)</td><td>7</td></td></tr><tr><td>DCCN_QNA</td><td>Valore aggiunto, Redditi da lavoro, Investimenti fissi lordi, Spesa per consumi finali famiglie, Costi e margini </td><td>10</td></td></tr><tr><td>DCCN_SEQCONTIASA</td><td>Sequenza dei conti per settore istituzionale (milioni di euro) - edizioni precedenti ottobre 2015</td><td>8</td></td></tr><tr><td>DCCN_SEQCONTIASQ</td><td>Sequenza dei conti trimestrali per settore istituzionale (milioni di euro) - edizioni precedenti ottobre 2014</td><td>9</td></td></tr><tr><td>DCCN_SEQCONTIRFT</td><td>Reddito disponibile delle famiglie nelle regioni italiane (milioni di euro)  edizioni precedenti novembre 2015</td><td>7</td></td></tr><tr><td>DCCN_SEQZCONTIN</td><td>Sequenza dei conti - dati nazionali annuali (milioni di euro) - edizioni precedenti ottobre 2014</td><td>8</td></td></tr><tr><td>DCCN_SEQZCONTIQ</td><td>Conto economico delle risorse e degli impieghi - dati nazionali trimestrali (milioni di euro)- edizioni precedenti ottobre 2014</td><td>8</td></td></tr><tr><td>DCCN_SEQZCONTIT</td><td>Sequenza dei conti - dati territoriali (milioni di euro) - edizioni precedenti ottobre 2014</td><td>8</td></td></tr><tr><td>DCCN_SQCN</td><td>Sequenza dei conti  (milioni di euro)</td><td>6</td></td></tr><tr><td>DCCN_SQCQ</td><td>Conto economico delle risorse e degli impieghi  e contributi alla crescita del Pil</td><td>6</td></td></tr><tr><td>DCCN_SQCT</td><td>Sequenza dei conti (milioni di euro)</td><td>6</td></td></tr><tr><td>DCCN_TNA</td><td>Valore aggiunto, Redditi da lavoro, Spesa per consumi finali (famiglie e PA), Investimenti fissi lordi, Valori pro capite</td><td>10</td></td></tr><tr><td>DCCN_VAAGSIPET</td><td>Produzione, consumi intermedi e valore aggiunto di agricoltura, silvicoltura e pesca (Nace rev.2)</td><td>8</td></td></tr><tr><td>DCCN_VALPROCAPN</td><td>Valori pro capite - dati nazionali annuali (euro) - edizioni precedenti ottobre 2014</td><td>7</td></td></tr><tr><td>DCCN_VALPROCAPT</td><td>Valori pro capite - dati territoriali (euro) - edizioni precedenti ottobre 2014</td><td>7</td></td></tr></table>"
      ],
      "text/plain": [
       "[DCCN_AGGREGBRANCAN(11):Aggregati dei conti nazionali annuali per branca di attività economica (NACE Rev.1.1) (milioni di euro),\n",
       " DCCN_AGGREGBRANCANREV2(10):Aggregati dei conti nazionali annuali per branca di attività economica (NACE Rev.2) (milioni di euro) - edizioni precedenti ottobre 2014,\n",
       " DCCN_AGGREGBRANCAQ(11):Aggregati dei conti nazionali trimestrali per branca di attività economica (NACE Rev.1.1) (milioni di euro),\n",
       " DCCN_AGGREGBRANCAQREV2(10):Aggregati dei conti nazionali trimestrali per branca di attività economica (NACE Rev.2) (milioni di euro) - edizioni precedenti ottobre 2014,\n",
       " DCCN_AGGREGBRANCAT(11):Aggregati dei conti territoriali per branca di attività economica (NACE Rev.1.1) (milioni di euro),\n",
       " DCCN_AGGREGBRANCATREV2(10):Aggregati dei conti territoriali per branca di attività economica (NACE Rev.2) (milioni di euro) - edizioni precedenti ottobre 2014,\n",
       " DCCN_AGGRPIL(7):Principali aggregati del Prodotto interno lordo - dati nazionali annuali (milioni di euro) - edizioni precedenti ottobre 2014,\n",
       " DCCN_ANA(10):Produzione e valore aggiunto, Redditi da lavoro, Imposte e contributi alla produzione, Spesa per consumi finali famiglie, Investimenti fissi lordi, Stock di capitale e ammortamenti, Valori pro capite,\n",
       " DCCN_CAPITALN(10):Investimenti fissi lordi, stock di capitale e ammortamenti per branca proprietaria (Nace Rev 1.1) - dati nazionali annuali (milioni di euro),\n",
       " DCCN_CAPITALNREV2(9):Investimenti fissi lordi, stock di capitale e ammortamenti per branca proprietaria (Nace Rev. 2) - dati nazionali annuali (milioni di euro) - edizioni precedenti ottobre 2014,\n",
       " DCCN_CAPITALT(10):Investimenti fissi lordi per branca proprietaria (Nace Rev 1.1) - dati territoriali (milioni di euro),\n",
       " DCCN_CAPITALTREV2(9):Investimenti fissi lordi per branca proprietaria (Nace Rev. 2) - dati territoriali (milioni di euro) - edizioni precedenti ottobre 2014,\n",
       " DCCN_CONSFAMN(10):Spesa per consumi finali delle famiglie - dati nazionali annuali (milioni di euro) - dati nazionali annuali (milioni di euro) - edizioni precedenti ottobre 2014,\n",
       " DCCN_CONSFAMQ(10):Spesa per consumi finali delle famiglie - dati nazionali trimestrali (milioni di euro) - edizioni precedenti ottobre 2014,\n",
       " DCCN_CONSFAMT(10):Spesa per consumi finali delle famiglie - dati territoriali (milioni di euro) - edizioni precedenti ottobre 2014,\n",
       " DCCN_CONSPAT(9):Spesa per consumi finali della pubblica amministrazione (milioni di euro) - edizioni precedenti ottobre 2014,\n",
       " DCCN_CONTIEMATM(10):Emissioni atmosferiche NAMEA (Nace Rev.1.1),\n",
       " DCCN_CONTIEMATMREV2(10):Emissioni atmosferiche NAMEA (Nace Rev.2),\n",
       " DCCN_CONTRIBQ(8):Contributi alla crescita del PIL (punti percentuali) - dati nazionali trimestrali - edizioni precedenti ottobre 2014,\n",
       " DCCN_COSTMARGQ(9):Costi e margini per branca di attività economica (NACE Rev.1.1) numeri indice 2000=100 - dati nazionali trimestrali,\n",
       " DCCN_COSTMARGQREV2(8):Costi e margini per branca di attività economica (NACE Rev.2) - edizioni precedenti ottobre 2014,\n",
       " DCCN_FLUMAT(6):Conti dei flussi di materia,\n",
       " DCCN_FPA(9):Conto annuale per sottosettore,\n",
       " DCCN_FPQ(9):Conto trimestrale,\n",
       " DCCN_IMPAMB1(11):Gettito delle imposte ambientali  ,\n",
       " DCCN_INVESTIN(10):Investimenti fissi lordi (P51) - dati nazionali annuali (milioni di euro) - edizioni precedenti ottobre 2014,\n",
       " DCCN_INVESTIQ(10):Investimenti fissi lordi (P51) - dati nazionali trimestrali (milioni di euro) - edizioni precedenti ottobre 2014,\n",
       " DCCN_ISTITUZ_ANA(9):Sequenza dei conti e stock di attività non finanziarie, per settore istituzionale,\n",
       " DCCN_ISTITUZ_QNA(9):Sequenza dei conti trimestrali per settore istituzionale,\n",
       " DCCN_ISTITUZ_TNA(9):Reddito disponibile delle famiglie nelle regioni italiane,\n",
       " DCCN_OCCNSEC2010(9):Occupazione per branca di attività economica  (NACE Rev. 2) - dati nazionali annuali,\n",
       " DCCN_OCCQSEC2010(9):Occupazione per branca di attività economica (NACE Rev.2) - dati nazionali trimestrali,\n",
       " DCCN_OCCSISEC2010(9):Occupazione per branca di attività economica (NACE Rev. 2),\n",
       " DCCN_OCCTSEC2010(9):Occupazione per branca di attività economica  (NACE Rev. 2) - dati territoriali annuali,\n",
       " DCCN_OCCUPIREV2(10):Occupazione per branca di attività economica (NACE Rev.2) - edizioni precedenti ottobre 2014,\n",
       " DCCN_OCCUPNREV2(10):Occupazione per branca di attività economica (NACE Rev. 2) -  dati nazionali annuali - edizioni precedenti ottobre 2014,\n",
       " DCCN_OCCUPQ(10):Occupazione per branca di attività economica (NACE Rev.1.1) - dati nazionali trimestrali (migliaia),\n",
       " DCCN_OCCUPQREV2(10):Occupazione per branca di attività economica (NACE Rev. 2) - dati nazionali trimestrali - edizioni precedenti ottobre 2014,\n",
       " DCCN_OCCUPT(10):Occupazione per branca di attività economica (NACE Rev.1.1) - dati territoriali (migliaia),\n",
       " DCCN_OCCUPTREV2(10):Occupazione per branca di attività economica (NACE Rev. 2) -  dati territoriali annuali - edizioni precedenti ottobre 2014,\n",
       " DCCN_OTEPPA(9):Uscite annuali per funzione e sottosettore,\n",
       " DCCN_PILN(6):Principali aggregati del Prodotto interno lordo (milioni di euro),\n",
       " DCCN_PILPRODQ(9):Prodotto interno lordo lato produzione - dati nazionali trimestrali (milioni di euro) - edizioni precedenti ottobre 2014,\n",
       " DCCN_PILPRODT(9):Prodotto interno lordo lato produzione - dati territoriali (milioni di euro) - edizioni precedenti ottobre 2014,\n",
       " DCCN_PILQ(6):Principali aggregati del Prodotto interno lordo (milioni di euro),\n",
       " DCCN_PILT(6):Prodotto interno lordo lato produzione (milioni di euro),\n",
       " DCCN_PRODUTTIVITA(7):Misure di produttività,\n",
       " DCCN_PROTSOC(7):Conti della Protezione sociale (milioni di euro),\n",
       " DCCN_QNA(10):Valore aggiunto, Redditi da lavoro, Investimenti fissi lordi, Spesa per consumi finali famiglie, Costi e margini ,\n",
       " DCCN_SEQCONTIASA(8):Sequenza dei conti per settore istituzionale (milioni di euro) - edizioni precedenti ottobre 2015,\n",
       " DCCN_SEQCONTIASQ(9):Sequenza dei conti trimestrali per settore istituzionale (milioni di euro) - edizioni precedenti ottobre 2014,\n",
       " DCCN_SEQCONTIRFT(7):Reddito disponibile delle famiglie nelle regioni italiane (milioni di euro)  edizioni precedenti novembre 2015,\n",
       " DCCN_SEQZCONTIN(8):Sequenza dei conti - dati nazionali annuali (milioni di euro) - edizioni precedenti ottobre 2014,\n",
       " DCCN_SEQZCONTIQ(8):Conto economico delle risorse e degli impieghi - dati nazionali trimestrali (milioni di euro)- edizioni precedenti ottobre 2014,\n",
       " DCCN_SEQZCONTIT(8):Sequenza dei conti - dati territoriali (milioni di euro) - edizioni precedenti ottobre 2014,\n",
       " DCCN_SQCN(6):Sequenza dei conti  (milioni di euro),\n",
       " DCCN_SQCQ(6):Conto economico delle risorse e degli impieghi  e contributi alla crescita del Pil,\n",
       " DCCN_SQCT(6):Sequenza dei conti (milioni di euro),\n",
       " DCCN_TNA(10):Valore aggiunto, Redditi da lavoro, Spesa per consumi finali (famiglie e PA), Investimenti fissi lordi, Valori pro capite,\n",
       " DCCN_VAAGSIPET(8):Produzione, consumi intermedi e valore aggiunto di agricoltura, silvicoltura e pesca (Nace rev.2),\n",
       " DCCN_VALPROCAPN(7):Valori pro capite - dati nazionali annuali (euro) - edizioni precedenti ottobre 2014,\n",
       " DCCN_VALPROCAPT(7):Valori pro capite - dati territoriali (euro) - edizioni precedenti ottobre 2014]"
      ]
     },
     "execution_count": 3,
     "metadata": {},
     "output_type": "execute_result"
    }
   ],
   "source": [
    "istat_area_redditi.datasets()"
   ]
  },
  {
   "cell_type": "code",
   "execution_count": 4,
   "metadata": {
    "collapsed": false
   },
   "outputs": [],
   "source": [
    "#istat_area_redditi.datasets()\n",
    "ds_redditi_pro_capite = istat_area_redditi.dataset('DCCN_TNA')"
   ]
  },
  {
   "cell_type": "code",
   "execution_count": 20,
   "metadata": {
    "collapsed": false
   },
   "outputs": [],
   "source": [
    "#ds_redditi_pro_capite.dimension('Tipo aggregato')"
   ]
  },
  {
   "cell_type": "code",
   "execution_count": 21,
   "metadata": {
    "collapsed": false
   },
   "outputs": [
    {
     "data": {
      "text/html": [
       "DCCN_TNA(10):Valore aggiunto, Redditi da lavoro, Spesa per consumi finali (famiglie e PA), Investimenti fissi lordi, Valori pro capite</br><table><tr><th>nr</th><th>name</th><th>nr. values</th><th>values (first 3 values)</th></tr><tr><td>0</td><td>Territorio</td><td>142</td><td>1:'Italia', 2:'Centro-nord', 3:'Nord' ...</td></td></tr><tr><td>1</td><td>Tipo aggregato</td><td>22</td><td>2:'spesa per consumi finali sul territorio economico delle famiglie residenti e non residenti', 5:'spesa per consumi finali delle amministrazioni pubbliche', 8:'investimenti fissi lordi, interni' ...</td></td></tr><tr><td>2</td><td>Branca di attività (NACE Rev2)</td><td>43</td><td>113:'non applicabile', 114:'totale attività economiche', 116:'agricoltura, silvicoltura e pesca' ...</td></td></tr><tr><td>3</td><td>Attività non finanziarie</td><td>3</td><td>3:'totale capitale fisso per tipo di attività', 4:'totale costruzioni', 79:'non applicabile' ...</td></td></tr><tr><td>4</td><td>Funzione di spesa (coicop/cofog)</td><td>28</td><td>2:'alimentari e bevande non alcoliche', 3:'bevande alcoliche, tabacco,narcotici', 22:'vestiario e calzature' ...</td></td></tr><tr><td>5</td><td>Valutazione</td><td>3</td><td>9:'prezzi correnti', 10:'prezzi dell'anno precedente', 16:'valori concatenati con anno di riferimento 2010' ...</td></td></tr><tr><td>6</td><td>Correzione</td><td>1</td><td>1:'dati grezzi'</td></td></tr><tr><td>7</td><td>Tipologia di prezzo</td><td>2</td><td>1:'prezzi base', 7:'non applicabile'</td></td></tr><tr><td>8</td><td>Edizione</td><td>3</td><td>2183:'Ott-2014', 2203:'Nov-2015', 2223:'Dic-2016' ...</td></td></tr><tr><td>9</td><td>Tempo e frequenza</td><td>21</td><td>1806:'1995', 1825:'1996', 1844:'1997' ...</td></td></tr></table>"
      ],
      "text/plain": [
       "DCCN_TNA(10):Valore aggiunto, Redditi da lavoro, Spesa per consumi finali (famiglie e PA), Investimenti fissi lordi, Valori pro capite"
      ]
     },
     "execution_count": 21,
     "metadata": {},
     "output_type": "execute_result"
    }
   ],
   "source": [
    "#ds_redditi_pro_capite.dimensions()\n",
    "ds_redditi_pro_capite"
   ]
  },
  {
   "cell_type": "code",
   "execution_count": 22,
   "metadata": {
    "collapsed": false
   },
   "outputs": [],
   "source": [
    "# NORD\n",
    "# Prodotto Interno Lordo ai prezzi di mercato per abitante -> OK\n",
    "spec_n_pil = {\n",
    "\"Territorio\":3,\n",
    "\"Tipo aggregato\":27,\n",
    "\"Valutazione\":9,\n",
    "\"Edizione\":2223\n",
    "}\n",
    "\n",
    "# Reddito Disponibile per abitante -> OK\n",
    "spec_n_red = {\n",
    "\"Territorio\":3,\n",
    "\"Tipo aggregato\":46,\n",
    "\"Valutazione\":9,\n",
    "\"Edizione\":2223\n",
    "}\n",
    "\n",
    "# Consumi finali interni per abitante -> OK\n",
    "spec_n_cons = {\n",
    "\"Territorio\":3,\n",
    "\"Tipo aggregato\":34,\n",
    "\"Valutazione\":9,\n",
    "\"Edizione\":2223\n",
    "}"
   ]
  },
  {
   "cell_type": "code",
   "execution_count": 41,
   "metadata": {
    "collapsed": true
   },
   "outputs": [],
   "source": [
    "# SUD\n",
    "# Prodotto Interno Lordo ai prezzi di mercato per abitante\n",
    "\n",
    "spec_s_pil = {\n",
    "\"Territorio\":89,\n",
    "\"Tipo aggregato\":27,\n",
    "\"Valutazione\":9,\n",
    "\"Edizione\":2223\n",
    "}\n",
    "\n",
    "# Reddito Disponibile per abitante -> OK\n",
    "spec_s_red = {\n",
    "\"Territorio\":89,\n",
    "\"Tipo aggregato\":46,\n",
    "\"Valutazione\":9,\n",
    "\"Edizione\":2223\n",
    "}\n",
    "\n",
    "# Consumi finali interni per abitante -> OK\n",
    "spec_s_cons = {\n",
    "\"Territorio\":89,\n",
    "\"Tipo aggregato\":34,\n",
    "\"Valutazione\":9,\n",
    "\"Edizione\":2223\n",
    "}"
   ]
  },
  {
   "cell_type": "code",
   "execution_count": 27,
   "metadata": {
    "collapsed": true
   },
   "outputs": [],
   "source": [
    "def crea_df(ds,s,nome):\n",
    "    c = ds.getvalues(s)\n",
    "    ds = c.dataset(0)\n",
    "    df = ds.to_data_frame('Tempo e frequenza')\n",
    "    df.reset_index(level=0, inplace=True)\n",
    "    df = df[['Tempo e frequenza', 'Value']]\n",
    "    df.columns = ['Anno',nome]\n",
    "    return df"
   ]
  },
  {
   "cell_type": "code",
   "execution_count": 32,
   "metadata": {
    "collapsed": false
   },
   "outputs": [],
   "source": [
    "df_pil_nord = crea_df(ds_redditi_pro_capite,spec_n_pil,'PIL pro capite')\n",
    "df_red_nord = crea_df(ds_redditi_pro_capite,spec_n_red,'Reddito Disponibile pro capite')\n",
    "df_con_nord = crea_df(ds_redditi_pro_capite,spec_n_cons,'Consumi pro capite')"
   ]
  },
  {
   "cell_type": "code",
   "execution_count": 36,
   "metadata": {
    "collapsed": false
   },
   "outputs": [],
   "source": [
    "df_n1 = pd.merge(df_pil_nord,df_red_nord, how='inner', on=['Anno', 'Anno'])\n",
    "df_nord = pd.merge(df_n1,df_con_nord, how='inner', on=['Anno', 'Anno'])"
   ]
  },
  {
   "cell_type": "code",
   "execution_count": 49,
   "metadata": {
    "collapsed": false
   },
   "outputs": [
    {
     "data": {
      "text/html": [
       "<div>\n",
       "<table border=\"1\" class=\"dataframe\">\n",
       "  <thead>\n",
       "    <tr style=\"text-align: right;\">\n",
       "      <th></th>\n",
       "      <th>Anno</th>\n",
       "      <th>PIL pro capite</th>\n",
       "      <th>Reddito Disponibile pro capite</th>\n",
       "      <th>Consumi pro capite</th>\n",
       "    </tr>\n",
       "  </thead>\n",
       "  <tbody>\n",
       "    <tr>\n",
       "      <th>0</th>\n",
       "      <td>1995</td>\n",
       "      <td>21198.57</td>\n",
       "      <td>15113.67</td>\n",
       "      <td>14880.05</td>\n",
       "    </tr>\n",
       "    <tr>\n",
       "      <th>1</th>\n",
       "      <td>1996</td>\n",
       "      <td>22497.36</td>\n",
       "      <td>15883.94</td>\n",
       "      <td>15731.73</td>\n",
       "    </tr>\n",
       "    <tr>\n",
       "      <th>2</th>\n",
       "      <td>1997</td>\n",
       "      <td>23412.17</td>\n",
       "      <td>16218.77</td>\n",
       "      <td>16618.91</td>\n",
       "    </tr>\n",
       "    <tr>\n",
       "      <th>3</th>\n",
       "      <td>1998</td>\n",
       "      <td>24325.36</td>\n",
       "      <td>16308.00</td>\n",
       "      <td>17382.68</td>\n",
       "    </tr>\n",
       "    <tr>\n",
       "      <th>4</th>\n",
       "      <td>1999</td>\n",
       "      <td>25010.61</td>\n",
       "      <td>16696.39</td>\n",
       "      <td>18113.77</td>\n",
       "    </tr>\n",
       "    <tr>\n",
       "      <th>5</th>\n",
       "      <td>2000</td>\n",
       "      <td>26462.49</td>\n",
       "      <td>17283.39</td>\n",
       "      <td>19183.36</td>\n",
       "    </tr>\n",
       "    <tr>\n",
       "      <th>6</th>\n",
       "      <td>2001</td>\n",
       "      <td>27590.01</td>\n",
       "      <td>18083.96</td>\n",
       "      <td>19875.68</td>\n",
       "    </tr>\n",
       "    <tr>\n",
       "      <th>7</th>\n",
       "      <td>2002</td>\n",
       "      <td>28397.77</td>\n",
       "      <td>18660.34</td>\n",
       "      <td>20391.52</td>\n",
       "    </tr>\n",
       "    <tr>\n",
       "      <th>8</th>\n",
       "      <td>2003</td>\n",
       "      <td>29192.10</td>\n",
       "      <td>19031.45</td>\n",
       "      <td>21005.80</td>\n",
       "    </tr>\n",
       "    <tr>\n",
       "      <th>9</th>\n",
       "      <td>2004</td>\n",
       "      <td>30057.68</td>\n",
       "      <td>19675.75</td>\n",
       "      <td>21656.16</td>\n",
       "    </tr>\n",
       "    <tr>\n",
       "      <th>10</th>\n",
       "      <td>2005</td>\n",
       "      <td>30661.82</td>\n",
       "      <td>20064.66</td>\n",
       "      <td>22260.75</td>\n",
       "    </tr>\n",
       "    <tr>\n",
       "      <th>11</th>\n",
       "      <td>2006</td>\n",
       "      <td>31624.40</td>\n",
       "      <td>20745.47</td>\n",
       "      <td>23059.24</td>\n",
       "    </tr>\n",
       "    <tr>\n",
       "      <th>12</th>\n",
       "      <td>2007</td>\n",
       "      <td>32717.34</td>\n",
       "      <td>21349.26</td>\n",
       "      <td>23710.59</td>\n",
       "    </tr>\n",
       "    <tr>\n",
       "      <th>13</th>\n",
       "      <td>2008</td>\n",
       "      <td>33043.99</td>\n",
       "      <td>21540.20</td>\n",
       "      <td>24139.36</td>\n",
       "    </tr>\n",
       "    <tr>\n",
       "      <th>14</th>\n",
       "      <td>2009</td>\n",
       "      <td>31287.80</td>\n",
       "      <td>20700.09</td>\n",
       "      <td>23801.19</td>\n",
       "    </tr>\n",
       "    <tr>\n",
       "      <th>15</th>\n",
       "      <td>2010</td>\n",
       "      <td>32144.41</td>\n",
       "      <td>20615.18</td>\n",
       "      <td>24310.17</td>\n",
       "    </tr>\n",
       "    <tr>\n",
       "      <th>16</th>\n",
       "      <td>2011</td>\n",
       "      <td>32843.73</td>\n",
       "      <td>21142.01</td>\n",
       "      <td>24750.99</td>\n",
       "    </tr>\n",
       "    <tr>\n",
       "      <th>17</th>\n",
       "      <td>2012</td>\n",
       "      <td>32157.74</td>\n",
       "      <td>20477.63</td>\n",
       "      <td>24413.62</td>\n",
       "    </tr>\n",
       "    <tr>\n",
       "      <th>18</th>\n",
       "      <td>2013</td>\n",
       "      <td>32039.88</td>\n",
       "      <td>20545.99</td>\n",
       "      <td>24085.51</td>\n",
       "    </tr>\n",
       "    <tr>\n",
       "      <th>19</th>\n",
       "      <td>2014</td>\n",
       "      <td>32495.92</td>\n",
       "      <td>20619.42</td>\n",
       "      <td>24130.75</td>\n",
       "    </tr>\n",
       "  </tbody>\n",
       "</table>\n",
       "</div>"
      ],
      "text/plain": [
       "    Anno  PIL pro capite  Reddito Disponibile pro capite  Consumi pro capite\n",
       "0   1995        21198.57                        15113.67            14880.05\n",
       "1   1996        22497.36                        15883.94            15731.73\n",
       "2   1997        23412.17                        16218.77            16618.91\n",
       "3   1998        24325.36                        16308.00            17382.68\n",
       "4   1999        25010.61                        16696.39            18113.77\n",
       "5   2000        26462.49                        17283.39            19183.36\n",
       "6   2001        27590.01                        18083.96            19875.68\n",
       "7   2002        28397.77                        18660.34            20391.52\n",
       "8   2003        29192.10                        19031.45            21005.80\n",
       "9   2004        30057.68                        19675.75            21656.16\n",
       "10  2005        30661.82                        20064.66            22260.75\n",
       "11  2006        31624.40                        20745.47            23059.24\n",
       "12  2007        32717.34                        21349.26            23710.59\n",
       "13  2008        33043.99                        21540.20            24139.36\n",
       "14  2009        31287.80                        20700.09            23801.19\n",
       "15  2010        32144.41                        20615.18            24310.17\n",
       "16  2011        32843.73                        21142.01            24750.99\n",
       "17  2012        32157.74                        20477.63            24413.62\n",
       "18  2013        32039.88                        20545.99            24085.51\n",
       "19  2014        32495.92                        20619.42            24130.75"
      ]
     },
     "execution_count": 49,
     "metadata": {},
     "output_type": "execute_result"
    }
   ],
   "source": [
    "df_nord"
   ]
  },
  {
   "cell_type": "code",
   "execution_count": 42,
   "metadata": {
    "collapsed": false
   },
   "outputs": [],
   "source": [
    "df_pil_sud = crea_df(ds_redditi_pro_capite,spec_s_pil,'PIL pro capite')\n",
    "df_red_sud = crea_df(ds_redditi_pro_capite,spec_s_red,'Reddito Disponibile pro capite')\n",
    "df_con_sud = crea_df(ds_redditi_pro_capite,spec_s_cons,'Consumi pro capite')"
   ]
  },
  {
   "cell_type": "code",
   "execution_count": 43,
   "metadata": {
    "collapsed": true
   },
   "outputs": [],
   "source": [
    "df_s1 = pd.merge(df_pil_sud,df_red_sud, how='inner', on=['Anno', 'Anno'])\n",
    "df_sud = pd.merge(df_s1,df_con_sud, how='inner', on=['Anno', 'Anno'])"
   ]
  },
  {
   "cell_type": "code",
   "execution_count": 48,
   "metadata": {
    "collapsed": false
   },
   "outputs": [
    {
     "data": {
      "text/html": [
       "<div>\n",
       "<table border=\"1\" class=\"dataframe\">\n",
       "  <thead>\n",
       "    <tr style=\"text-align: right;\">\n",
       "      <th></th>\n",
       "      <th>Anno</th>\n",
       "      <th>PIL pro capite</th>\n",
       "      <th>Reddito Disponibile pro capite</th>\n",
       "      <th>Consumi pro capite</th>\n",
       "    </tr>\n",
       "  </thead>\n",
       "  <tbody>\n",
       "    <tr>\n",
       "      <th>0</th>\n",
       "      <td>1995</td>\n",
       "      <td>11480.85</td>\n",
       "      <td>8757.74</td>\n",
       "      <td>11127.85</td>\n",
       "    </tr>\n",
       "    <tr>\n",
       "      <th>1</th>\n",
       "      <td>1996</td>\n",
       "      <td>12133.36</td>\n",
       "      <td>9294.86</td>\n",
       "      <td>11688.62</td>\n",
       "    </tr>\n",
       "    <tr>\n",
       "      <th>2</th>\n",
       "      <td>1997</td>\n",
       "      <td>12749.77</td>\n",
       "      <td>9545.17</td>\n",
       "      <td>12275.37</td>\n",
       "    </tr>\n",
       "    <tr>\n",
       "      <th>3</th>\n",
       "      <td>1998</td>\n",
       "      <td>13330.18</td>\n",
       "      <td>9745.97</td>\n",
       "      <td>12879.54</td>\n",
       "    </tr>\n",
       "    <tr>\n",
       "      <th>4</th>\n",
       "      <td>1999</td>\n",
       "      <td>13901.87</td>\n",
       "      <td>10047.99</td>\n",
       "      <td>13367.10</td>\n",
       "    </tr>\n",
       "    <tr>\n",
       "      <th>5</th>\n",
       "      <td>2000</td>\n",
       "      <td>14652.81</td>\n",
       "      <td>10593.50</td>\n",
       "      <td>14216.27</td>\n",
       "    </tr>\n",
       "    <tr>\n",
       "      <th>6</th>\n",
       "      <td>2001</td>\n",
       "      <td>15363.46</td>\n",
       "      <td>11145.01</td>\n",
       "      <td>14846.27</td>\n",
       "    </tr>\n",
       "    <tr>\n",
       "      <th>7</th>\n",
       "      <td>2002</td>\n",
       "      <td>15855.83</td>\n",
       "      <td>11640.67</td>\n",
       "      <td>15268.99</td>\n",
       "    </tr>\n",
       "    <tr>\n",
       "      <th>8</th>\n",
       "      <td>2003</td>\n",
       "      <td>16201.75</td>\n",
       "      <td>12010.11</td>\n",
       "      <td>15895.10</td>\n",
       "    </tr>\n",
       "    <tr>\n",
       "      <th>9</th>\n",
       "      <td>2004</td>\n",
       "      <td>16653.87</td>\n",
       "      <td>12228.85</td>\n",
       "      <td>16399.19</td>\n",
       "    </tr>\n",
       "    <tr>\n",
       "      <th>10</th>\n",
       "      <td>2005</td>\n",
       "      <td>17070.09</td>\n",
       "      <td>12513.35</td>\n",
       "      <td>16985.82</td>\n",
       "    </tr>\n",
       "    <tr>\n",
       "      <th>11</th>\n",
       "      <td>2006</td>\n",
       "      <td>17803.92</td>\n",
       "      <td>12935.19</td>\n",
       "      <td>17533.84</td>\n",
       "    </tr>\n",
       "    <tr>\n",
       "      <th>12</th>\n",
       "      <td>2007</td>\n",
       "      <td>18351.60</td>\n",
       "      <td>13303.27</td>\n",
       "      <td>17923.23</td>\n",
       "    </tr>\n",
       "    <tr>\n",
       "      <th>13</th>\n",
       "      <td>2008</td>\n",
       "      <td>18380.62</td>\n",
       "      <td>13428.76</td>\n",
       "      <td>18159.06</td>\n",
       "    </tr>\n",
       "    <tr>\n",
       "      <th>14</th>\n",
       "      <td>2009</td>\n",
       "      <td>17842.47</td>\n",
       "      <td>13161.39</td>\n",
       "      <td>17797.28</td>\n",
       "    </tr>\n",
       "    <tr>\n",
       "      <th>15</th>\n",
       "      <td>2010</td>\n",
       "      <td>17820.39</td>\n",
       "      <td>13026.64</td>\n",
       "      <td>18022.46</td>\n",
       "    </tr>\n",
       "    <tr>\n",
       "      <th>16</th>\n",
       "      <td>2011</td>\n",
       "      <td>18026.10</td>\n",
       "      <td>13310.39</td>\n",
       "      <td>18159.41</td>\n",
       "    </tr>\n",
       "    <tr>\n",
       "      <th>17</th>\n",
       "      <td>2012</td>\n",
       "      <td>17871.58</td>\n",
       "      <td>12914.62</td>\n",
       "      <td>17703.89</td>\n",
       "    </tr>\n",
       "    <tr>\n",
       "      <th>18</th>\n",
       "      <td>2013</td>\n",
       "      <td>17543.85</td>\n",
       "      <td>12870.14</td>\n",
       "      <td>17511.11</td>\n",
       "    </tr>\n",
       "    <tr>\n",
       "      <th>19</th>\n",
       "      <td>2014</td>\n",
       "      <td>17538.88</td>\n",
       "      <td>12934.90</td>\n",
       "      <td>17504.18</td>\n",
       "    </tr>\n",
       "  </tbody>\n",
       "</table>\n",
       "</div>"
      ],
      "text/plain": [
       "    Anno  PIL pro capite  Reddito Disponibile pro capite  Consumi pro capite\n",
       "0   1995        11480.85                         8757.74            11127.85\n",
       "1   1996        12133.36                         9294.86            11688.62\n",
       "2   1997        12749.77                         9545.17            12275.37\n",
       "3   1998        13330.18                         9745.97            12879.54\n",
       "4   1999        13901.87                        10047.99            13367.10\n",
       "5   2000        14652.81                        10593.50            14216.27\n",
       "6   2001        15363.46                        11145.01            14846.27\n",
       "7   2002        15855.83                        11640.67            15268.99\n",
       "8   2003        16201.75                        12010.11            15895.10\n",
       "9   2004        16653.87                        12228.85            16399.19\n",
       "10  2005        17070.09                        12513.35            16985.82\n",
       "11  2006        17803.92                        12935.19            17533.84\n",
       "12  2007        18351.60                        13303.27            17923.23\n",
       "13  2008        18380.62                        13428.76            18159.06\n",
       "14  2009        17842.47                        13161.39            17797.28\n",
       "15  2010        17820.39                        13026.64            18022.46\n",
       "16  2011        18026.10                        13310.39            18159.41\n",
       "17  2012        17871.58                        12914.62            17703.89\n",
       "18  2013        17543.85                        12870.14            17511.11\n",
       "19  2014        17538.88                        12934.90            17504.18"
      ]
     },
     "execution_count": 48,
     "metadata": {},
     "output_type": "execute_result"
    }
   ],
   "source": [
    "df_sud"
   ]
  },
  {
   "cell_type": "code",
   "execution_count": 47,
   "metadata": {
    "collapsed": true
   },
   "outputs": [],
   "source": [
    "df_filename = r'df_g5_nord.pkl'\n",
    "df_fullpath = os.path.join(dir_df, df_filename)\n",
    "df_nord.to_pickle(df_fullpath)\n",
    "\n",
    "df_filename = r'df_g5_sud.pkl'\n",
    "df_fullpath = os.path.join(dir_df, df_filename)\n",
    "df_sud.to_pickle(df_fullpath)"
   ]
  }
 ],
 "metadata": {
  "kernelspec": {
   "display_name": "Python 3",
   "language": "python",
   "name": "python3"
  },
  "language_info": {
   "codemirror_mode": {
    "name": "ipython",
    "version": 3
   },
   "file_extension": ".py",
   "mimetype": "text/x-python",
   "name": "python",
   "nbconvert_exporter": "python",
   "pygments_lexer": "ipython3",
   "version": "3.6.0"
  }
 },
 "nbformat": 4,
 "nbformat_minor": 2
}
