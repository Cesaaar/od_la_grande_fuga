{
 "cells": [
  {
   "cell_type": "markdown",
   "metadata": {},
   "source": [
    "## G7 - Disuguaglianza di Reddito - Quintili"
   ]
  },
  {
   "cell_type": "code",
   "execution_count": 1,
   "metadata": {
    "collapsed": true
   },
   "outputs": [],
   "source": [
    "# Import librerie per analisi dati (Pandas) e dati Istat\n",
    "import os\n",
    "import pandas as pd\n",
    "import numpy as np\n",
    "from IPython.core.display import HTML\n",
    "import istat\n",
    "import jsonstat\n",
    "\n",
    "# cache dir per velocizzare analisi in locale\n",
    "cache_dir = os.path.abspath(os.path.join(\"..\", \"tmp/od_la_grande_fuga\", \"istat_cached\"))\n",
    "istat.cache_dir(cache_dir)\n",
    "istat.lang(0)  # lingua italiano\n",
    "\n",
    "dir_df = os.path.join(os.path.abspath(''),'stg')"
   ]
  },
  {
   "cell_type": "code",
   "execution_count": 2,
   "metadata": {
    "collapsed": false
   },
   "outputs": [
    {
     "data": {
      "text/html": [
       "<table><tr><th>cod</th><th>name</th><th>dim</th></tr><tr><td>DCCV_ABITAFFOLL</td><td>Affollamento nell'abitazione</td><td>14</td></td></tr><tr><td>DCCV_ABITAFFOLL_PROVA</td><td>Affollamento nell'abitazione PROVA</td><td>14</td></td></tr><tr><td>DCCV_ABITPROBL</td><td>Problemi nell'abitazione</td><td>14</td></td></tr><tr><td>DCCV_ABITSPESA</td><td>Spesa per l'abitazione</td><td>12</td></td></tr><tr><td>DCCV_ABITSPESA_STRA</td><td>Spesa per l'abitazione delle famiglie con componenti stranieri </td><td>14</td></td></tr><tr><td>DCCV_ARRETRATI</td><td>Arretrati per alcune voci di spesa</td><td>13</td></td></tr><tr><td>DCCV_CARICOPES</td><td>Carico delle spese pesante</td><td>13</td></td></tr><tr><td>DCCV_DIFFBENDUR</td><td>Difficoltà acquisto beni durevoli</td><td>13</td></td></tr><tr><td>DCCV_FAMCOMPORT</td><td>Comportamento di spesa delle famiglia</td><td>6</td></td></tr><tr><td>DCCV_FAMNOVOCISPESA</td><td>Famiglie che non possono permettersi alcune voci di spesa</td><td>13</td></td></tr><tr><td>DCCV_FONTEPRED</td><td>Fonte principale di reddito familiare</td><td>13</td></td></tr><tr><td>DCCV_GINIREDD</td><td>Indicatori sulla distribuzione reddito netto familiare</td><td>5</td></td></tr><tr><td>DCCV_IMPREV</td><td>Capacità di risparmio e far fronte a spese impreviste</td><td>12</td></td></tr><tr><td>DCCV_INCPOVAFAM</td><td>Incidenza di povertà assoluta familiare</td><td>11</td></td></tr><tr><td>DCCV_INCPOVRFAM</td><td>Incidenza di povertà relativa familiare</td><td>11</td></td></tr><tr><td>DCCV_INDCONSUMI</td><td>Indicatori sulla distribuzione dei consumi</td><td>6</td></td></tr><tr><td>DCCV_INDPOVASS</td><td>Indicatori di povertà assoluta</td><td>3</td></td></tr><tr><td>DCCV_INDPOVREL</td><td>Indicatori di povertà relativa </td><td>3</td></td></tr><tr><td>DCCV_INTPOVAFAM</td><td>Intensità di povertà assoluta familiare</td><td>4</td></td></tr><tr><td>DCCV_INTPOVRFAM</td><td>Intensità di povertà relativa familiare</td><td>4</td></td></tr><tr><td>DCCV_NOSOLDI</td><td>Famiglie che dichiarano in alcuni periodi dell anno di non avere soldi per voci di spesa</td><td>13</td></td></tr><tr><td>DCCV_POVERTA</td><td>Povertà nuove serie</td><td>11</td></td></tr><tr><td>DCCV_PROBLZONRES_2</td><td>Presenza di problemi nella zona di residenza delle famiglie</td><td>14</td></td></tr><tr><td>DCCV_QUINTOREDD</td><td>Quinto di reddito equivalente</td><td>14</td></td></tr><tr><td>DCCV_REDDFINMES</td><td>Giudizio sul reddito minimo per arrivare a fine mese senza difficoltà</td><td>13</td></td></tr><tr><td>DCCV_REDNETFAMFONTERED</td><td>Reddito  netto familiare</td><td>14</td></td></tr><tr><td>DCCV_SOGLIAPOVA</td><td>Soglia di povertà assoluta</td><td>6</td></td></tr><tr><td>DCCV_SOGLIAPOVR</td><td>Soglia di povertà relativa</td><td>5</td></td></tr><tr><td>DCCV_SPEFFCOMP</td><td>famiglie che hanno effettuato la spesa per alcune voci di spesa</td><td>5</td></td></tr><tr><td>DCCV_SPEFFDETT</td><td>Dettaglio della spesa effettiva</td><td>5</td></td></tr><tr><td>DCCV_SPEMEFAM</td><td>Spese nuove serie</td><td>11</td></td></tr><tr><td>DCCV_SPEMMFAM</td><td>Spesa media mensile familiare</td><td>8</td></td></tr><tr><td>DCCV_SPQUINTO</td><td>Quinto di spesa della famiglia</td><td>8</td></td></tr><tr><td>DCCV_TITGODABIT</td><td>Titolo di godimento dell'abitazione </td><td>14</td></td></tr><tr><td>DCSC_FIDCONS</td><td>Fiducia dei consumatori</td><td>8</td></td></tr><tr><td>PERCEPIT</td><td>Giudizio sulla condizione economica percepita</td><td>13</td></td></tr></table>"
      ],
      "text/plain": [
       "[DCCV_ABITAFFOLL(14):Affollamento nell'abitazione,\n",
       " DCCV_ABITAFFOLL_PROVA(14):Affollamento nell'abitazione PROVA,\n",
       " DCCV_ABITPROBL(14):Problemi nell'abitazione,\n",
       " DCCV_ABITSPESA(12):Spesa per l'abitazione,\n",
       " DCCV_ABITSPESA_STRA(14):Spesa per l'abitazione delle famiglie con componenti stranieri ,\n",
       " DCCV_ARRETRATI(13):Arretrati per alcune voci di spesa,\n",
       " DCCV_CARICOPES(13):Carico delle spese pesante,\n",
       " DCCV_DIFFBENDUR(13):Difficoltà acquisto beni durevoli,\n",
       " DCCV_FAMCOMPORT(6):Comportamento di spesa delle famiglia,\n",
       " DCCV_FAMNOVOCISPESA(13):Famiglie che non possono permettersi alcune voci di spesa,\n",
       " DCCV_FONTEPRED(13):Fonte principale di reddito familiare,\n",
       " DCCV_GINIREDD(5):Indicatori sulla distribuzione reddito netto familiare,\n",
       " DCCV_IMPREV(12):Capacità di risparmio e far fronte a spese impreviste,\n",
       " DCCV_INCPOVAFAM(11):Incidenza di povertà assoluta familiare,\n",
       " DCCV_INCPOVRFAM(11):Incidenza di povertà relativa familiare,\n",
       " DCCV_INDCONSUMI(6):Indicatori sulla distribuzione dei consumi,\n",
       " DCCV_INDPOVASS(3):Indicatori di povertà assoluta,\n",
       " DCCV_INDPOVREL(3):Indicatori di povertà relativa ,\n",
       " DCCV_INTPOVAFAM(4):Intensità di povertà assoluta familiare,\n",
       " DCCV_INTPOVRFAM(4):Intensità di povertà relativa familiare,\n",
       " DCCV_NOSOLDI(13):Famiglie che dichiarano in alcuni periodi dell anno di non avere soldi per voci di spesa,\n",
       " DCCV_POVERTA(11):Povertà nuove serie,\n",
       " DCCV_PROBLZONRES_2(14):Presenza di problemi nella zona di residenza delle famiglie,\n",
       " DCCV_QUINTOREDD(14):Quinto di reddito equivalente,\n",
       " DCCV_REDDFINMES(13):Giudizio sul reddito minimo per arrivare a fine mese senza difficoltà,\n",
       " DCCV_REDNETFAMFONTERED(14):Reddito  netto familiare,\n",
       " DCCV_SOGLIAPOVA(6):Soglia di povertà assoluta,\n",
       " DCCV_SOGLIAPOVR(5):Soglia di povertà relativa,\n",
       " DCCV_SPEFFCOMP(5):famiglie che hanno effettuato la spesa per alcune voci di spesa,\n",
       " DCCV_SPEFFDETT(5):Dettaglio della spesa effettiva,\n",
       " DCCV_SPEMEFAM(11):Spese nuove serie,\n",
       " DCCV_SPEMMFAM(8):Spesa media mensile familiare,\n",
       " DCCV_SPQUINTO(8):Quinto di spesa della famiglia,\n",
       " DCCV_TITGODABIT(14):Titolo di godimento dell'abitazione ,\n",
       " DCSC_FIDCONS(8):Fiducia dei consumatori,\n",
       " PERCEPIT(13):Giudizio sulla condizione economica percepita]"
      ]
     },
     "execution_count": 2,
     "metadata": {},
     "output_type": "execute_result"
    }
   ],
   "source": [
    "istat_area_condizioni = istat.area(9)\n",
    "istat_area_condizioni.datasets()"
   ]
  },
  {
   "cell_type": "code",
   "execution_count": 3,
   "metadata": {
    "collapsed": false,
    "scrolled": true
   },
   "outputs": [
    {
     "data": {
      "text/html": [
       "DCCV_QUINTOREDD(14):Quinto di reddito equivalente</br><table><tr><th>nr</th><th>name</th><th>nr. values</th><th>values (first 3 values)</th></tr><tr><td>0</td><td>Territorio</td><td>27</td><td>1:'Italia', 4:'Nord-ovest', 33:'Nord-est' ...</td></td></tr><tr><td>1</td><td>Tipo dato</td><td>1</td><td>51:'famiglie per quinto di reddito equivalente  (per famiglie con le stesse caratteristiche)'</td></td></tr><tr><td>2</td><td>Misura</td><td>1</td><td>10:'valori per cento'</td></td></tr><tr><td>3</td><td>Quinto di reddito equivalente</td><td>5</td><td>1:'primo', 2:'secondo', 3:'terzo' ...</td></td></tr><tr><td>4</td><td>Presenza dei fitti imputati</td><td>1</td><td>1:'inclusi fitti imputati'</td></td></tr><tr><td>5</td><td>Numero di componenti</td><td>6</td><td>1:'uno', 2:'due', 3:'tre' ...</td></td></tr><tr><td>6</td><td>Tipologia familiare</td><td>10</td><td>2:'persona sola con meno di 65 anni', 5:'persona sola con 65 anni o più', 7:'coppia senza figli con p.r. con meno di 65 anni' ...</td></td></tr><tr><td>7</td><td>Numero di minori in famiglia</td><td>5</td><td>1:'1 figlio minore', 2:'2 figli minori', 3:'3 figli minori o più' ...</td></td></tr><tr><td>8</td><td>Numero di anziani in famiglia</td><td>4</td><td>1:'1 anziano', 2:'2 anziani o più', 4:'nessun anziano' ...</td></td></tr><tr><td>9</td><td>Sesso del principale percettore</td><td>3</td><td>1:'maschi', 2:'femmine', 3:'totale' ...</td></td></tr><tr><td>10</td><td>Classe di età del principale percettore</td><td>6</td><td>1:'fino a 35 anni', 2:'35-44 anni', 3:'45-54 anni' ...</td></td></tr><tr><td>11</td><td>Titolo di studio del principale percettore</td><td>5</td><td>3:'licenza di scuola elementare, nessun titolo di studio', 4:'licenza di scuola media', 7:'diploma' ...</td></td></tr><tr><td>12</td><td>Condizione professionale prevalente nell anno del principale percettore</td><td>6</td><td>2:'indipendente', 5:'dipendente', 9:'ritirato dal lavoro' ...</td></td></tr><tr><td>13</td><td>Anno</td><td>12</td><td>1958:'2003', 1977:'2004', 1996:'2005' ...</td></td></tr></table>"
      ],
      "text/plain": [
       "DCCV_QUINTOREDD(14):Quinto di reddito equivalente"
      ]
     },
     "execution_count": 3,
     "metadata": {},
     "output_type": "execute_result"
    }
   ],
   "source": [
    "# Indicatori di reddito\n",
    "ds_reddito = istat_area_condizioni.dataset('DCCV_QUINTOREDD')\n",
    "ds_reddito"
   ]
  },
  {
   "cell_type": "code",
   "execution_count": 4,
   "metadata": {
    "collapsed": false
   },
   "outputs": [
    {
     "data": {
      "text/plain": [
       "'Territorio' (1:'Italia', 4:'Nord-ovest', 33:'Nord-est', 62:'Centro', 89:'Sud', 119:'Isole', 5:'Piemonte', 14:'Valle d'Aosta / Vallée d'Aoste', 16:'Liguria', 21:'Lombardia', 35:'Provincia Autonoma Bolzano / Bozen', 37:'Provincia Autonoma Trento', 39:'Veneto', 47:'Friuli-Venezia Giulia', 52:'Emilia-Romagna', 63:'Toscana', 74:'Umbria', 77:'Marche', 82:'Lazio', 90:'Abruzzo', 95:'Molise', 98:'Campania', 104:'Puglia', 110:'Basilicata', 113:'Calabria', 120:'Sicilia', 130:'Sardegna')"
      ]
     },
     "execution_count": 4,
     "metadata": {},
     "output_type": "execute_result"
    }
   ],
   "source": [
    "ds_reddito.dimension('Territorio')"
   ]
  },
  {
   "cell_type": "code",
   "execution_count": 5,
   "metadata": {
    "collapsed": true
   },
   "outputs": [],
   "source": [
    "# NORD\n",
    "spec_ne = {\n",
    "\"Territorio\":4\n",
    "}\n",
    "spec_no = {\n",
    "\"Territorio\":33\n",
    "}\n",
    "\n",
    "#SUD\n",
    "spec_s = {\n",
    "\"Territorio\":89\n",
    "}"
   ]
  },
  {
   "cell_type": "code",
   "execution_count": 6,
   "metadata": {
    "collapsed": false
   },
   "outputs": [],
   "source": [
    "def quintili(ds, spec, nome):\n",
    "    c = ds_reddito.getvalues(spec)\n",
    "    ds = c.dataset(0)\n",
    "    df = ds.to_data_frame('Anno')\n",
    "    df.reset_index(level=0, inplace=True)\n",
    "    df = df[['Anno','Quinto di reddito equivalente','Value']]\n",
    "    df.columns = ['Anno','Quintile',nome]\n",
    "    df=df[(df['Quintile']=='primo') |\n",
    "           (df['Quintile']=='quinto')\n",
    "         ]\n",
    "    return df"
   ]
  },
  {
   "cell_type": "code",
   "execution_count": 7,
   "metadata": {
    "collapsed": false
   },
   "outputs": [],
   "source": [
    "df_s = quintili(ds_reddito,spec_s, 'Sud')\n",
    "df_ne = quintili(ds_reddito,spec_ne, 'NordE')\n",
    "df_no = quintili(ds_reddito,spec_no, 'NordO')"
   ]
  },
  {
   "cell_type": "code",
   "execution_count": 8,
   "metadata": {
    "collapsed": false
   },
   "outputs": [],
   "source": [
    "df_ne.columns = ['AnnoE','QuintileE','NordE']\n",
    "df_n = pd.concat([df_no,df_ne],axis=1)"
   ]
  },
  {
   "cell_type": "code",
   "execution_count": 9,
   "metadata": {
    "collapsed": false
   },
   "outputs": [],
   "source": [
    "def nord(x):\n",
    "    return round(((x['NordE'] + x['NordO'])/2),1)\n",
    "df_n['Nord'] = df_n.apply(lambda x: nord(x), axis=1)\n",
    "df_n = df_n[['Anno','Quintile','Nord']]"
   ]
  },
  {
   "cell_type": "code",
   "execution_count": 10,
   "metadata": {
    "collapsed": false
   },
   "outputs": [],
   "source": [
    "# Reshape Nord\n",
    "df_n1=df_n[(df_n['Quintile']=='primo')]\n",
    "df_n1=df_n1[['Anno','Nord']]\n",
    "df_n1.columns = ['Anno','1° Quintile']\n",
    "df_n5=df_n[(df_n['Quintile']=='quinto')]\n",
    "df_n5=df_n5[['Anno','Nord']]\n",
    "df_n5.columns = ['Anno','5° Quintile']"
   ]
  },
  {
   "cell_type": "code",
   "execution_count": 11,
   "metadata": {
    "collapsed": true
   },
   "outputs": [],
   "source": [
    "df_n1 = df_n1.set_index(['Anno'])\n",
    "df_n5 = df_n5.set_index(['Anno'])"
   ]
  },
  {
   "cell_type": "code",
   "execution_count": 12,
   "metadata": {
    "collapsed": false
   },
   "outputs": [
    {
     "data": {
      "text/html": [
       "<div>\n",
       "<table border=\"1\" class=\"dataframe\">\n",
       "  <thead>\n",
       "    <tr style=\"text-align: right;\">\n",
       "      <th></th>\n",
       "      <th>1° Quintile</th>\n",
       "      <th>5° Quintile</th>\n",
       "    </tr>\n",
       "    <tr>\n",
       "      <th>Anno</th>\n",
       "      <th></th>\n",
       "      <th></th>\n",
       "    </tr>\n",
       "  </thead>\n",
       "  <tbody>\n",
       "    <tr>\n",
       "      <th>2003</th>\n",
       "      <td>10.8</td>\n",
       "      <td>24.9</td>\n",
       "    </tr>\n",
       "    <tr>\n",
       "      <th>2004</th>\n",
       "      <td>10.6</td>\n",
       "      <td>24.3</td>\n",
       "    </tr>\n",
       "    <tr>\n",
       "      <th>2005</th>\n",
       "      <td>10.9</td>\n",
       "      <td>24.5</td>\n",
       "    </tr>\n",
       "    <tr>\n",
       "      <th>2006</th>\n",
       "      <td>10.7</td>\n",
       "      <td>24.8</td>\n",
       "    </tr>\n",
       "    <tr>\n",
       "      <th>2007</th>\n",
       "      <td>11.5</td>\n",
       "      <td>24.7</td>\n",
       "    </tr>\n",
       "    <tr>\n",
       "      <th>2008</th>\n",
       "      <td>11.3</td>\n",
       "      <td>25.0</td>\n",
       "    </tr>\n",
       "    <tr>\n",
       "      <th>2009</th>\n",
       "      <td>11.6</td>\n",
       "      <td>25.2</td>\n",
       "    </tr>\n",
       "    <tr>\n",
       "      <th>2010</th>\n",
       "      <td>11.2</td>\n",
       "      <td>25.4</td>\n",
       "    </tr>\n",
       "    <tr>\n",
       "      <th>2011</th>\n",
       "      <td>11.3</td>\n",
       "      <td>25.4</td>\n",
       "    </tr>\n",
       "    <tr>\n",
       "      <th>2012</th>\n",
       "      <td>10.9</td>\n",
       "      <td>26.0</td>\n",
       "    </tr>\n",
       "    <tr>\n",
       "      <th>2013</th>\n",
       "      <td>11.1</td>\n",
       "      <td>25.9</td>\n",
       "    </tr>\n",
       "    <tr>\n",
       "      <th>2014</th>\n",
       "      <td>10.9</td>\n",
       "      <td>26.4</td>\n",
       "    </tr>\n",
       "  </tbody>\n",
       "</table>\n",
       "</div>"
      ],
      "text/plain": [
       "      1° Quintile  5° Quintile\n",
       "Anno                          \n",
       "2003         10.8         24.9\n",
       "2004         10.6         24.3\n",
       "2005         10.9         24.5\n",
       "2006         10.7         24.8\n",
       "2007         11.5         24.7\n",
       "2008         11.3         25.0\n",
       "2009         11.6         25.2\n",
       "2010         11.2         25.4\n",
       "2011         11.3         25.4\n",
       "2012         10.9         26.0\n",
       "2013         11.1         25.9\n",
       "2014         10.9         26.4"
      ]
     },
     "execution_count": 12,
     "metadata": {},
     "output_type": "execute_result"
    }
   ],
   "source": [
    "df_n = pd.concat([df_n1,df_n5],axis=1)\n",
    "df_n"
   ]
  },
  {
   "cell_type": "code",
   "execution_count": 13,
   "metadata": {
    "collapsed": false
   },
   "outputs": [],
   "source": [
    "# Reshape Sud\n",
    "df_s1=df_s[(df_s['Quintile']=='primo')]\n",
    "df_s1=df_s1[['Anno','Sud']]\n",
    "df_s1.columns = ['Anno','1° Quintile']\n",
    "df_s5=df_s[(df_s['Quintile']=='quinto')]\n",
    "df_s5=df_s5[['Anno','Sud']]\n",
    "df_s5.columns = ['Anno','5° Quintile']"
   ]
  },
  {
   "cell_type": "code",
   "execution_count": 14,
   "metadata": {
    "collapsed": true
   },
   "outputs": [],
   "source": [
    "df_s1 = df_s1.set_index(['Anno'])\n",
    "df_s5 = df_s5.set_index(['Anno'])"
   ]
  },
  {
   "cell_type": "code",
   "execution_count": 15,
   "metadata": {
    "collapsed": false
   },
   "outputs": [
    {
     "data": {
      "text/html": [
       "<div>\n",
       "<table border=\"1\" class=\"dataframe\">\n",
       "  <thead>\n",
       "    <tr style=\"text-align: right;\">\n",
       "      <th></th>\n",
       "      <th>1° Quintile</th>\n",
       "      <th>5° Quintile</th>\n",
       "    </tr>\n",
       "    <tr>\n",
       "      <th>Anno</th>\n",
       "      <th></th>\n",
       "      <th></th>\n",
       "    </tr>\n",
       "  </thead>\n",
       "  <tbody>\n",
       "    <tr>\n",
       "      <th>2003</th>\n",
       "      <td>36.7</td>\n",
       "      <td>9.5</td>\n",
       "    </tr>\n",
       "    <tr>\n",
       "      <th>2004</th>\n",
       "      <td>37.0</td>\n",
       "      <td>9.6</td>\n",
       "    </tr>\n",
       "    <tr>\n",
       "      <th>2005</th>\n",
       "      <td>36.8</td>\n",
       "      <td>9.4</td>\n",
       "    </tr>\n",
       "    <tr>\n",
       "      <th>2006</th>\n",
       "      <td>36.9</td>\n",
       "      <td>9.6</td>\n",
       "    </tr>\n",
       "    <tr>\n",
       "      <th>2007</th>\n",
       "      <td>36.1</td>\n",
       "      <td>9.3</td>\n",
       "    </tr>\n",
       "    <tr>\n",
       "      <th>2008</th>\n",
       "      <td>35.8</td>\n",
       "      <td>9.8</td>\n",
       "    </tr>\n",
       "    <tr>\n",
       "      <th>2009</th>\n",
       "      <td>35.2</td>\n",
       "      <td>9.4</td>\n",
       "    </tr>\n",
       "    <tr>\n",
       "      <th>2010</th>\n",
       "      <td>35.3</td>\n",
       "      <td>9.1</td>\n",
       "    </tr>\n",
       "    <tr>\n",
       "      <th>2011</th>\n",
       "      <td>35.1</td>\n",
       "      <td>9.1</td>\n",
       "    </tr>\n",
       "    <tr>\n",
       "      <th>2012</th>\n",
       "      <td>35.3</td>\n",
       "      <td>7.7</td>\n",
       "    </tr>\n",
       "    <tr>\n",
       "      <th>2013</th>\n",
       "      <td>35.4</td>\n",
       "      <td>8.2</td>\n",
       "    </tr>\n",
       "    <tr>\n",
       "      <th>2014</th>\n",
       "      <td>36.0</td>\n",
       "      <td>7.4</td>\n",
       "    </tr>\n",
       "  </tbody>\n",
       "</table>\n",
       "</div>"
      ],
      "text/plain": [
       "      1° Quintile  5° Quintile\n",
       "Anno                          \n",
       "2003         36.7          9.5\n",
       "2004         37.0          9.6\n",
       "2005         36.8          9.4\n",
       "2006         36.9          9.6\n",
       "2007         36.1          9.3\n",
       "2008         35.8          9.8\n",
       "2009         35.2          9.4\n",
       "2010         35.3          9.1\n",
       "2011         35.1          9.1\n",
       "2012         35.3          7.7\n",
       "2013         35.4          8.2\n",
       "2014         36.0          7.4"
      ]
     },
     "execution_count": 15,
     "metadata": {},
     "output_type": "execute_result"
    }
   ],
   "source": [
    "df_s = pd.concat([df_s1,df_s5],axis=1)\n",
    "df_s"
   ]
  },
  {
   "cell_type": "code",
   "execution_count": 16,
   "metadata": {
    "collapsed": true
   },
   "outputs": [],
   "source": [
    "df_filename = r'df_g7_nord.pkl'\n",
    "df_fullpath = os.path.join(dir_df, df_filename)\n",
    "df_n.to_pickle(df_fullpath)\n",
    "\n",
    "df_filename = r'df_g7_sud.pkl'\n",
    "df_fullpath = os.path.join(dir_df, df_filename)\n",
    "df_s.to_pickle(df_fullpath)"
   ]
  }
 ],
 "metadata": {
  "kernelspec": {
   "display_name": "Python 3",
   "language": "python",
   "name": "python3"
  },
  "language_info": {
   "codemirror_mode": {
    "name": "ipython",
    "version": 3
   },
   "file_extension": ".py",
   "mimetype": "text/x-python",
   "name": "python",
   "nbconvert_exporter": "python",
   "pygments_lexer": "ipython3",
   "version": "3.6.0"
  }
 },
 "nbformat": 4,
 "nbformat_minor": 2
}
