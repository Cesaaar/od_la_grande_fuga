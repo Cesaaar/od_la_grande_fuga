{
 "cells": [
  {
   "cell_type": "markdown",
   "metadata": {},
   "source": [
    "## G8 - Lavoro e Disoccupazione"
   ]
  },
  {
   "cell_type": "code",
   "execution_count": 1,
   "metadata": {
    "collapsed": true
   },
   "outputs": [],
   "source": [
    "# Import librerie per analisi dati (Pandas) e dati Istat\n",
    "import os\n",
    "import pandas as pd\n",
    "import numpy as np\n",
    "from IPython.core.display import HTML\n",
    "import istat\n",
    "import jsonstat\n",
    "\n",
    "# cache dir per velocizzare analisi in locale\n",
    "cache_dir = os.path.abspath(os.path.join(\"..\", \"tmp/od_la_grande_fuga\", \"istat_cached\"))\n",
    "istat.cache_dir(cache_dir)\n",
    "istat.lang(0)  # lingua italiano\n",
    "\n",
    "dir_df = os.path.join(os.path.abspath(''),'stg')"
   ]
  },
  {
   "cell_type": "code",
   "execution_count": 6,
   "metadata": {
    "collapsed": false
   },
   "outputs": [
    {
     "data": {
      "text/html": [
       "<table><tr><th>cod</th><th>name</th><th>dim</th></tr><tr><td>DCCV_COMPL</td><td>Indicatori complementari</td><td>12</td></td></tr><tr><td>DCCV_DISOCCUPT</td><td>Disoccupati</td><td>10</td></td></tr><tr><td>DCCV_DISOCCUPTDE</td><td>Disoccupati - dati destagionalizzati</td><td>7</td></td></tr><tr><td>DCCV_DISOCCUPTMENS</td><td>Disoccupati - dati mensili</td><td>8</td></td></tr><tr><td>DCCV_FORZLV</td><td>Forze di lavoro</td><td>8</td></td></tr><tr><td>DCCV_FORZLVDE</td><td>Forze di lavoro - dati destagionalizzati</td><td>7</td></td></tr><tr><td>DCCV_FORZLVMENS</td><td>Forze lavoro - dati mensili</td><td>8</td></td></tr><tr><td>DCCV_INATTIV</td><td>Inattivi</td><td>11</td></td></tr><tr><td>DCCV_INATTIVDE</td><td>Inattivi - dati destagionalizzati</td><td>7</td></td></tr><tr><td>DCCV_INATTIVMENS</td><td>Inattivi - dati mensili</td><td>8</td></td></tr><tr><td>DCCV_NEET</td><td>NEET (giovani non occupati e non in istruzione e formazione)</td><td>10</td></td></tr><tr><td>DCCV_OCCUPATIMENS</td><td>Occupati - dati mensili</td><td>8</td></td></tr><tr><td>DCCV_OCCUPATIT</td><td> Occupati                                                      </td><td>14</td></td></tr><tr><td>DCCV_OCCUPATITDE</td><td>Occupati - dati destagionalizzati</td><td>8</td></td></tr><tr><td>DCCV_ORELAVMED</td><td>Occupati per ore settimanali lavorate e numero di ore settimanali lavorate procapite</td><td>12</td></td></tr><tr><td>DCCV_POPCOND</td><td>Popolazione per condizione professionale</td><td>10</td></td></tr><tr><td>DCCV_TAXATVT</td><td>Tasso di attività</td><td>8</td></td></tr><tr><td>DCCV_TAXATVTDE</td><td>Tasso di attività - dati destagionalizzati</td><td>7</td></td></tr><tr><td>DCCV_TAXATVTMENS</td><td>Tasso di attività - dati mensili</td><td>8</td></td></tr><tr><td>DCCV_TAXDISOCCU</td><td>Tasso di disoccupazione</td><td>9</td></td></tr><tr><td>DCCV_TAXDISOCCUDE</td><td>Tasso di disoccupazione - dati destagionalizzati</td><td>7</td></td></tr><tr><td>DCCV_TAXDISOCCUMENS</td><td>Tasso di disoccupazione - dati mensili</td><td>8</td></td></tr><tr><td>DCCV_TAXINATT</td><td>Tasso di inattività</td><td>8</td></td></tr><tr><td>DCCV_TAXINATTDE</td><td>Tasso di inattività - dati destagionalizzati</td><td>7</td></td></tr><tr><td>DCCV_TAXINATTMENS</td><td>Tasso di inattività - dati mensili</td><td>8</td></td></tr><tr><td>DCCV_TAXOCCU</td><td>Tasso di occupazione</td><td>8</td></td></tr><tr><td>DCCV_TAXOCCUDE</td><td>Tasso di occupazione - dati destagionalizzati</td><td>7</td></td></tr><tr><td>DCCV_TAXOCCUMENS</td><td>Tasso di occupazione - dati mensili</td><td>8</td></td></tr><tr><td>DCIS_RICSTAT</td><td>Ricostruzione statistica delle serie regionali di popolazione del periodo 1/1/2002-1/1/2014</td><td>6</td></td></tr><tr><td>DCSC_COSTLAVSTRUT_1</td><td>Imprese ed enti pubblici con almeno 10 dipendenti</td><td>6</td></td></tr><tr><td>DCSC_COSTLAVULAOROS_1</td><td>Indicatori - Imprese con dipendenti</td><td>5</td></td></tr><tr><td>DCSC_GI_COS</td><td>Imprese con almeno 500 dipendenti</td><td>6</td></td></tr><tr><td>DCSC_GI_OCC</td><td>Posizioni lavorative - Imprese con almeno 500 dipendenti</td><td>6</td></td></tr><tr><td>DCSC_GI_ORE</td><td>Ore lavorate - Imprese con almeno 500 dipendenti</td><td>6</td></td></tr><tr><td>DCSC_GI_RE</td><td>Retribuzioni lorde - Imprese con almeno 500 dipendenti</td><td>6</td></td></tr><tr><td>DCSC_ORE10_1</td><td>Ore lavorate - Imprese con almeno 10 dipendenti</td><td>5</td></td></tr><tr><td>DCSC_OROS_1</td><td>Posizioni lavorative alle dipendenze</td><td>5</td></td></tr><tr><td>DCSC_POSTIVAC_1</td><td>Posti vacanti - Imprese con almeno 10 dipendenti</td><td>5</td></td></tr><tr><td>DCSC_RETRATECO1</td><td>Retribuzioni contrattuali per settore economico (Ateco)</td><td>6</td></td></tr><tr><td>DCSC_RETRCASSCOMPPA</td><td>Retribuzioni contrattuali nella Pubblica amministrazione</td><td>7</td></td></tr><tr><td>DCSC_RETRCONTR1C</td><td>Retribuzioni contrattuali per tipo di contratto</td><td>6</td></td></tr><tr><td>DCSC_RETRCONTR1O</td><td>Orario contrattuale, ferie e altre riduzioni orarie - dipendenti a tempo pieno</td><td>6</td></td></tr><tr><td>DCSC_RETRCONTR1T</td><td>Tensione contrattuale</td><td>6</td></td></tr><tr><td>DCSC_RETRULAOROS_1</td><td>Retribuzioni lorde - Imprese con dipendenti</td><td>5</td></td></tr></table>"
      ],
      "text/plain": [
       "[DCCV_COMPL(12):Indicatori complementari,\n",
       " DCCV_DISOCCUPT(10):Disoccupati,\n",
       " DCCV_DISOCCUPTDE(7):Disoccupati - dati destagionalizzati,\n",
       " DCCV_DISOCCUPTMENS(8):Disoccupati - dati mensili,\n",
       " DCCV_FORZLV(8):Forze di lavoro,\n",
       " DCCV_FORZLVDE(7):Forze di lavoro - dati destagionalizzati,\n",
       " DCCV_FORZLVMENS(8):Forze lavoro - dati mensili,\n",
       " DCCV_INATTIV(11):Inattivi,\n",
       " DCCV_INATTIVDE(7):Inattivi - dati destagionalizzati,\n",
       " DCCV_INATTIVMENS(8):Inattivi - dati mensili,\n",
       " DCCV_NEET(10):NEET (giovani non occupati e non in istruzione e formazione),\n",
       " DCCV_OCCUPATIMENS(8):Occupati - dati mensili,\n",
       " DCCV_OCCUPATIT(14): Occupati                                                      ,\n",
       " DCCV_OCCUPATITDE(8):Occupati - dati destagionalizzati,\n",
       " DCCV_ORELAVMED(12):Occupati per ore settimanali lavorate e numero di ore settimanali lavorate procapite,\n",
       " DCCV_POPCOND(10):Popolazione per condizione professionale,\n",
       " DCCV_TAXATVT(8):Tasso di attività,\n",
       " DCCV_TAXATVTDE(7):Tasso di attività - dati destagionalizzati,\n",
       " DCCV_TAXATVTMENS(8):Tasso di attività - dati mensili,\n",
       " DCCV_TAXDISOCCU(9):Tasso di disoccupazione,\n",
       " DCCV_TAXDISOCCUDE(7):Tasso di disoccupazione - dati destagionalizzati,\n",
       " DCCV_TAXDISOCCUMENS(8):Tasso di disoccupazione - dati mensili,\n",
       " DCCV_TAXINATT(8):Tasso di inattività,\n",
       " DCCV_TAXINATTDE(7):Tasso di inattività - dati destagionalizzati,\n",
       " DCCV_TAXINATTMENS(8):Tasso di inattività - dati mensili,\n",
       " DCCV_TAXOCCU(8):Tasso di occupazione,\n",
       " DCCV_TAXOCCUDE(7):Tasso di occupazione - dati destagionalizzati,\n",
       " DCCV_TAXOCCUMENS(8):Tasso di occupazione - dati mensili,\n",
       " DCIS_RICSTAT(6):Ricostruzione statistica delle serie regionali di popolazione del periodo 1/1/2002-1/1/2014,\n",
       " DCSC_COSTLAVSTRUT_1(6):Imprese ed enti pubblici con almeno 10 dipendenti,\n",
       " DCSC_COSTLAVULAOROS_1(5):Indicatori - Imprese con dipendenti,\n",
       " DCSC_GI_COS(6):Imprese con almeno 500 dipendenti,\n",
       " DCSC_GI_OCC(6):Posizioni lavorative - Imprese con almeno 500 dipendenti,\n",
       " DCSC_GI_ORE(6):Ore lavorate - Imprese con almeno 500 dipendenti,\n",
       " DCSC_GI_RE(6):Retribuzioni lorde - Imprese con almeno 500 dipendenti,\n",
       " DCSC_ORE10_1(5):Ore lavorate - Imprese con almeno 10 dipendenti,\n",
       " DCSC_OROS_1(5):Posizioni lavorative alle dipendenze,\n",
       " DCSC_POSTIVAC_1(5):Posti vacanti - Imprese con almeno 10 dipendenti,\n",
       " DCSC_RETRATECO1(6):Retribuzioni contrattuali per settore economico (Ateco),\n",
       " DCSC_RETRCASSCOMPPA(7):Retribuzioni contrattuali nella Pubblica amministrazione,\n",
       " DCSC_RETRCONTR1C(6):Retribuzioni contrattuali per tipo di contratto,\n",
       " DCSC_RETRCONTR1O(6):Orario contrattuale, ferie e altre riduzioni orarie - dipendenti a tempo pieno,\n",
       " DCSC_RETRCONTR1T(6):Tensione contrattuale,\n",
       " DCSC_RETRULAOROS_1(5):Retribuzioni lorde - Imprese con dipendenti]"
      ]
     },
     "execution_count": 6,
     "metadata": {},
     "output_type": "execute_result"
    }
   ],
   "source": [
    "area_lavoro = istat.area('LAB')\n",
    "area_lavoro.datasets()"
   ]
  },
  {
   "cell_type": "code",
   "execution_count": 60,
   "metadata": {
    "collapsed": false,
    "scrolled": true
   },
   "outputs": [
    {
     "data": {
      "text/plain": [
       "'Classe di età' (3:'20-24 anni', 4:'15-24 anni', 8:'25-34 anni', 9:'35-54 anni', 11:'35 anni e più', 14:'35-44 anni', 17:'45-54 anni', 19:'55 anni e più', 21:'55-64 anni', 22:'15-64 anni', 28:'15 anni e più', 30:'15-29 anni', 31:'15-74 anni', 32:'18-29 anni')"
      ]
     },
     "execution_count": 60,
     "metadata": {},
     "output_type": "execute_result"
    }
   ],
   "source": [
    "# Indicatori di lavoro - Tasso Disoccupazione\n",
    "ds_lavoro = area_lavoro.dataset('DCCV_TAXDISOCCU')\n",
    "ds_lavoro.dimension('Classe di età')"
   ]
  },
  {
   "cell_type": "code",
   "execution_count": 62,
   "metadata": {
    "collapsed": true
   },
   "outputs": [],
   "source": [
    "# NORD\n",
    "spec_n = {\n",
    "    \"Territorio\":3,\n",
    "    \"Sesso\":3,\n",
    "    \"Cittadinanza\":3,\n",
    "    \"Durata disoccupazione\":3,\n",
    "    \"Titolo di studio\":12,\n",
    "    \"Classe di età\":28\n",
    "}\n",
    "\n",
    "#SUD\n",
    "spec_s = {\n",
    "    \"Territorio\":88,\n",
    "    \"Sesso\":3,\n",
    "    \"Cittadinanza\":3,\n",
    "    \"Durata disoccupazione\":3,\n",
    "    \"Titolo di studio\":12,\n",
    "    \"Classe di età\":28\n",
    "}"
   ]
  },
  {
   "cell_type": "code",
   "execution_count": 75,
   "metadata": {
    "collapsed": false
   },
   "outputs": [],
   "source": [
    "def disoccupati(ds, spec,nome):\n",
    "    c = ds.getvalues(spec)\n",
    "    ds = c.dataset(0)\n",
    "    df = ds.to_data_frame('Tempo e frequenza')\n",
    "    df.reset_index(level=0, inplace=True)\n",
    "    df.columns = ['Anno',nome]\n",
    "    df = df[(df['Anno'].str.contains(\"T\")==False)]\n",
    "    return df"
   ]
  },
  {
   "cell_type": "code",
   "execution_count": 80,
   "metadata": {
    "collapsed": false
   },
   "outputs": [],
   "source": [
    "df_s = disoccupati(ds_lavoro, spec_s, 'Sud')\n",
    "df_n = disoccupati(ds_lavoro, spec_n, 'Nord')"
   ]
  },
  {
   "cell_type": "code",
   "execution_count": 83,
   "metadata": {
    "collapsed": false
   },
   "outputs": [
    {
     "data": {
      "text/html": [
       "<div>\n",
       "<table border=\"1\" class=\"dataframe\">\n",
       "  <thead>\n",
       "    <tr style=\"text-align: right;\">\n",
       "      <th></th>\n",
       "      <th>Nord</th>\n",
       "      <th>Sud</th>\n",
       "    </tr>\n",
       "    <tr>\n",
       "      <th>Anno</th>\n",
       "      <th></th>\n",
       "      <th></th>\n",
       "    </tr>\n",
       "  </thead>\n",
       "  <tbody>\n",
       "    <tr>\n",
       "      <th>1977</th>\n",
       "      <td>5.76</td>\n",
       "      <td>8.05</td>\n",
       "    </tr>\n",
       "    <tr>\n",
       "      <th>1978</th>\n",
       "      <td>6.09</td>\n",
       "      <td>7.98</td>\n",
       "    </tr>\n",
       "    <tr>\n",
       "      <th>1979</th>\n",
       "      <td>6.14</td>\n",
       "      <td>8.60</td>\n",
       "    </tr>\n",
       "    <tr>\n",
       "      <th>1980</th>\n",
       "      <td>6.15</td>\n",
       "      <td>8.89</td>\n",
       "    </tr>\n",
       "    <tr>\n",
       "      <th>1981</th>\n",
       "      <td>6.76</td>\n",
       "      <td>9.44</td>\n",
       "    </tr>\n",
       "  </tbody>\n",
       "</table>\n",
       "</div>"
      ],
      "text/plain": [
       "      Nord   Sud\n",
       "Anno            \n",
       "1977  5.76  8.05\n",
       "1978  6.09  7.98\n",
       "1979  6.14  8.60\n",
       "1980  6.15  8.89\n",
       "1981  6.76  9.44"
      ]
     },
     "execution_count": 83,
     "metadata": {},
     "output_type": "execute_result"
    }
   ],
   "source": [
    "df = pd.merge(df_n,df_s, how='inner', on=['Anno', 'Anno'])\n",
    "df = df.set_index(['Anno'])\n",
    "df.head(5)"
   ]
  },
  {
   "cell_type": "code",
   "execution_count": 84,
   "metadata": {
    "collapsed": true
   },
   "outputs": [],
   "source": [
    "df_filename = r'df_g8.pkl'\n",
    "df_fullpath = os.path.join(dir_df, df_filename)\n",
    "df.to_pickle(df_fullpath)"
   ]
  }
 ],
 "metadata": {
  "kernelspec": {
   "display_name": "Python 3",
   "language": "python",
   "name": "python3"
  },
  "language_info": {
   "codemirror_mode": {
    "name": "ipython",
    "version": 3
   },
   "file_extension": ".py",
   "mimetype": "text/x-python",
   "name": "python",
   "nbconvert_exporter": "python",
   "pygments_lexer": "ipython3",
   "version": "3.6.0"
  }
 },
 "nbformat": 4,
 "nbformat_minor": 2
}
