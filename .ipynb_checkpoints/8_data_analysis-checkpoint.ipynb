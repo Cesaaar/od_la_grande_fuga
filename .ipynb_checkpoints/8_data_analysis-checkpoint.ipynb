{
 "cells": [
  {
   "cell_type": "markdown",
   "metadata": {},
   "source": [
    "## G9 - Istruzione"
   ]
  },
  {
   "cell_type": "code",
   "execution_count": 1,
   "metadata": {
    "collapsed": true
   },
   "outputs": [],
   "source": [
    "# Import librerie per analisi dati (Pandas) e dati Istat\n",
    "import os\n",
    "import pandas as pd\n",
    "import numpy as np\n",
    "from IPython.core.display import HTML\n",
    "import istat\n",
    "import jsonstat\n",
    "\n",
    "# cache dir per velocizzare analisi in locale\n",
    "cache_dir = os.path.abspath(os.path.join(\"..\", \"tmp/od_la_grande_fuga\", \"istat_cached\"))\n",
    "istat.cache_dir(cache_dir)\n",
    "istat.lang(0)  # lingua italiano\n",
    "\n",
    "dir_df = os.path.join(os.path.abspath(''),'stg')"
   ]
  },
  {
   "cell_type": "code",
   "execution_count": 6,
   "metadata": {
    "collapsed": false
   },
   "outputs": [
    {
     "data": {
      "text/html": [
       "DCCV_POPTIT(8):Popolazione 15 anni e oltre per titolo di studio</br><table><tr><th>nr</th><th>name</th><th>nr. values</th><th>values (first 3 values)</th></tr><tr><td>0</td><td>Territorio</td><td>28</td><td>1:'Italia', 3:'Nord', 4:'Nord-ovest' ...</td></td></tr><tr><td>1</td><td>Tipo dato</td><td>1</td><td>12:'popolazione 15 anni e oltre'</td></td></tr><tr><td>2</td><td>Misura</td><td>1</td><td>9:'valori assoluti'</td></td></tr><tr><td>3</td><td>Sesso</td><td>3</td><td>1:'maschi', 2:'femmine', 3:'totale' ...</td></td></tr><tr><td>4</td><td>Classe di età</td><td>17</td><td>2:'15-19 anni', 3:'20-24 anni', 4:'15-24 anni' ...</td></td></tr><tr><td>5</td><td>Titolo di studio</td><td>7</td><td>3:'licenza di scuola elementare, nessun titolo di studio', 4:'licenza di scuola media', 5:'diploma 2-3 anni (qualifica professionale)' ...</td></td></tr><tr><td>6</td><td>Cittadinanza</td><td>3</td><td>1:'italiano-a', 2:'straniero-a', 3:'totale' ...</td></td></tr><tr><td>7</td><td>Tempo e frequenza</td><td>63</td><td>1977:'2004', 1979:'T1-2004', 1983:'T2-2004' ...</td></td></tr></table>"
      ],
      "text/plain": [
       "DCCV_POPTIT(8):Popolazione 15 anni e oltre per titolo di studio"
      ]
     },
     "execution_count": 6,
     "metadata": {},
     "output_type": "execute_result"
    }
   ],
   "source": [
    "area_istruzione = istat.area(12)\n",
    "ds_istruzione = area_istruzione.dataset('DCCV_POPTIT')\n",
    "ds_istruzione"
   ]
  },
  {
   "cell_type": "code",
   "execution_count": 13,
   "metadata": {
    "collapsed": false
   },
   "outputs": [
    {
     "data": {
      "text/plain": [
       "'Tempo e frequenza' (1977:'2004', 1979:'T1-2004', 1983:'T2-2004', 1988:'T3-2004', 1992:'T4-2004', 1996:'2005', 1998:'T1-2005', 2002:'T2-2005', 2007:'T3-2005', 2011:'T4-2005', 2015:'2006', 2017:'T1-2006', 2021:'T2-2006', 2026:'T3-2006', 2030:'T4-2006', 2034:'2007', 2036:'T1-2007', 2040:'T2-2007', 2045:'T3-2007', 2049:'T4-2007', 2053:'2008', 2055:'T1-2008', 2059:'T2-2008', 2064:'T3-2008', 2068:'T4-2008', 2072:'2009', 2074:'T1-2009', 2078:'T2-2009', 2083:'T3-2009', 2087:'T4-2009', 2091:'2010', 2093:'T1-2010', 2097:'T2-2010', 2102:'T3-2010', 2106:'T4-2010', 2110:'2011', 2112:'T1-2011', 2116:'T2-2011', 2121:'T3-2011', 2125:'T4-2011', 2129:'2012', 2131:'T1-2012', 2135:'T2-2012', 2140:'T3-2012', 2144:'T4-2012', 2148:'2013', 2150:'T1-2013', 2154:'T2-2013', 2159:'T3-2013', 2163:'T4-2013', 2167:'2014', 2169:'T1-2014', 2173:'T2-2014', 2178:'T3-2014', 2182:'T4-2014', 2186:'2015', 2188:'T1-2015', 2192:'T2-2015', 2197:'T3-2015', 2201:'T4-2015', 2207:'T1-2016', 2211:'T2-2016', 2216:'T3-2016')"
      ]
     },
     "execution_count": 13,
     "metadata": {},
     "output_type": "execute_result"
    }
   ],
   "source": [
    "ds_istruzione.dimension('Tempo e frequenza')"
   ]
  },
  {
   "cell_type": "code",
   "execution_count": 29,
   "metadata": {
    "collapsed": false
   },
   "outputs": [],
   "source": [
    "# NORD\n",
    "spec_n = {\n",
    "    \"Territorio\":4,\n",
    "    \"Sesso\":3,\n",
    "    \"Classe di età\":28,\n",
    "    \"Cittadinanza\":3,\n",
    "    \"Tempo e frequenza\":2186\n",
    "}\n",
    "\n",
    "#SUD\n",
    "spec_s = {\n",
    "    \"Territorio\":88,\n",
    "    \"Sesso\":3,\n",
    "    \"Classe di età\":28,\n",
    "    \"Cittadinanza\":3,\n",
    "    \"Tempo e frequenza\":2186\n",
    "}"
   ]
  },
  {
   "cell_type": "code",
   "execution_count": 33,
   "metadata": {
    "collapsed": false
   },
   "outputs": [],
   "source": [
    "def istr(ds, spec, nome):\n",
    "    c = ds.getvalues(spec)\n",
    "    ds = c.dataset(0)\n",
    "    df = ds.to_data_frame('Titolo di studio')\n",
    "    df.reset_index(level=0, inplace=True)\n",
    "    df.columns = ['Titolo',nome]\n",
    "    return df"
   ]
  },
  {
   "cell_type": "code",
   "execution_count": 34,
   "metadata": {
    "collapsed": true
   },
   "outputs": [],
   "source": [
    "df_s = istr(ds_istruzione,spec_s, 'Sud')\n",
    "df_n = istr(ds_istruzione,spec_n, 'Nord')"
   ]
  },
  {
   "cell_type": "code",
   "execution_count": 37,
   "metadata": {
    "collapsed": false
   },
   "outputs": [
    {
     "data": {
      "text/html": [
       "<div>\n",
       "<table border=\"1\" class=\"dataframe\">\n",
       "  <thead>\n",
       "    <tr style=\"text-align: right;\">\n",
       "      <th></th>\n",
       "      <th>Titolo</th>\n",
       "      <th>Sud</th>\n",
       "    </tr>\n",
       "  </thead>\n",
       "  <tbody>\n",
       "    <tr>\n",
       "      <th>0</th>\n",
       "      <td>licenza di scuola elementare, nessun titolo di...</td>\n",
       "      <td>4005.88</td>\n",
       "    </tr>\n",
       "    <tr>\n",
       "      <th>1</th>\n",
       "      <td>licenza di scuola media</td>\n",
       "      <td>6169.13</td>\n",
       "    </tr>\n",
       "    <tr>\n",
       "      <th>2</th>\n",
       "      <td>diploma 2-3 anni (qualifica professionale)</td>\n",
       "      <td>401.85</td>\n",
       "    </tr>\n",
       "    <tr>\n",
       "      <th>3</th>\n",
       "      <td>diploma 4-5 anni (maturità)</td>\n",
       "      <td>5331.22</td>\n",
       "    </tr>\n",
       "    <tr>\n",
       "      <th>4</th>\n",
       "      <td>diploma</td>\n",
       "      <td>5733.07</td>\n",
       "    </tr>\n",
       "    <tr>\n",
       "      <th>5</th>\n",
       "      <td>laurea e post-laurea</td>\n",
       "      <td>1960.92</td>\n",
       "    </tr>\n",
       "    <tr>\n",
       "      <th>6</th>\n",
       "      <td>totale</td>\n",
       "      <td>17869.00</td>\n",
       "    </tr>\n",
       "  </tbody>\n",
       "</table>\n",
       "</div>"
      ],
      "text/plain": [
       "                                              Titolo       Sud\n",
       "0  licenza di scuola elementare, nessun titolo di...   4005.88\n",
       "1                            licenza di scuola media   6169.13\n",
       "2         diploma 2-3 anni (qualifica professionale)    401.85\n",
       "3                        diploma 4-5 anni (maturità)   5331.22\n",
       "4                                            diploma   5733.07\n",
       "5                               laurea e post-laurea   1960.92\n",
       "6                                             totale  17869.00"
      ]
     },
     "execution_count": 37,
     "metadata": {},
     "output_type": "execute_result"
    }
   ],
   "source": [
    "df_s"
   ]
  }
 ],
 "metadata": {
  "kernelspec": {
   "display_name": "Python 3",
   "language": "python",
   "name": "python3"
  },
  "language_info": {
   "codemirror_mode": {
    "name": "ipython",
    "version": 3
   },
   "file_extension": ".py",
   "mimetype": "text/x-python",
   "name": "python",
   "nbconvert_exporter": "python",
   "pygments_lexer": "ipython3",
   "version": "3.6.0"
  }
 },
 "nbformat": 4,
 "nbformat_minor": 2
}
