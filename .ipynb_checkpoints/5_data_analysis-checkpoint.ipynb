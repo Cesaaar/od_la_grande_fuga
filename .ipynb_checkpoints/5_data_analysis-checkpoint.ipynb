{
 "cells": [
  {
   "cell_type": "markdown",
   "metadata": {},
   "source": [
    "## G6 - Tassi di Povertà"
   ]
  },
  {
   "cell_type": "code",
   "execution_count": 3,
   "metadata": {
    "collapsed": false
   },
   "outputs": [],
   "source": [
    "# Import librerie per analisi dati (Pandas) e dati Istat\n",
    "import os\n",
    "import pandas as pd\n",
    "import numpy as np\n",
    "from IPython.core.display import HTML\n",
    "import istat\n",
    "import jsonstat\n",
    "\n",
    "# cache dir per velocizzare analisi in locale\n",
    "cache_dir = os.path.abspath(os.path.join(\"..\", \"tmp/od_la_grande_fuga\", \"istat_cached\"))\n",
    "istat.cache_dir(cache_dir)\n",
    "istat.lang(0)  # lingua italiano\n",
    "\n",
    "dir_df = os.path.join(os.path.abspath(''),'stg')"
   ]
  },
  {
   "cell_type": "code",
   "execution_count": 7,
   "metadata": {
    "collapsed": false
   },
   "outputs": [
    {
     "data": {
      "text/html": [
       "<table><tr><th>cod</th><th>name</th><th>dim</th></tr><tr><td>DCCV_ABITAFFOLL</td><td>Affollamento nell'abitazione</td><td>14</td></td></tr><tr><td>DCCV_ABITPROBL</td><td>Problemi nell'abitazione</td><td>14</td></td></tr><tr><td>DCCV_ABITSPESA</td><td>Spesa per l'abitazione</td><td>12</td></td></tr><tr><td>DCCV_ABITSPESA_STRA</td><td>Spesa per l'abitazione delle famiglie con componenti stranieri </td><td>14</td></td></tr><tr><td>DCCV_ARRETRATI</td><td>Arretrati per alcune voci di spesa</td><td>13</td></td></tr><tr><td>DCCV_CARICOPES</td><td>Carico delle spese pesante</td><td>13</td></td></tr><tr><td>DCCV_DIFFBENDUR</td><td>Difficoltà acquisto beni durevoli</td><td>13</td></td></tr><tr><td>DCCV_FAMCOMPORT</td><td>Comportamento di spesa delle famiglia</td><td>6</td></td></tr><tr><td>DCCV_FAMNOVOCISPESA</td><td>Famiglie che non possono permettersi alcune voci di spesa</td><td>13</td></td></tr><tr><td>DCCV_FONTEPRED</td><td>Fonte principale di reddito familiare</td><td>13</td></td></tr><tr><td>DCCV_GINIREDD</td><td>Indicatori sulla distribuzione reddito netto familiare</td><td>5</td></td></tr><tr><td>DCCV_IMPREV</td><td>Capacità di risparmio e far fronte a spese impreviste</td><td>12</td></td></tr><tr><td>DCCV_INCPOVAFAM</td><td>Incidenza di povertà assoluta familiare</td><td>11</td></td></tr><tr><td>DCCV_INCPOVRFAM</td><td>Incidenza di povertà relativa familiare</td><td>11</td></td></tr><tr><td>DCCV_INDCONSUMI</td><td>Indicatori sulla distribuzione dei consumi</td><td>6</td></td></tr><tr><td>DCCV_INDPOVASS</td><td>Indicatori di povertà assoluta</td><td>3</td></td></tr><tr><td>DCCV_INDPOVREL</td><td>Indicatori di povertà relativa </td><td>3</td></td></tr><tr><td>DCCV_INTPOVAFAM</td><td>Intensità di povertà assoluta familiare</td><td>4</td></td></tr><tr><td>DCCV_INTPOVRFAM</td><td>Intensità di povertà relativa familiare</td><td>4</td></td></tr><tr><td>DCCV_NOSOLDI</td><td>Famiglie che dichiarano in alcuni periodi dell anno di non avere soldi per voci di spesa</td><td>13</td></td></tr><tr><td>DCCV_POVERTA</td><td>Povertà nuove serie</td><td>11</td></td></tr><tr><td>DCCV_PROBLZONRES_2</td><td>Presenza di problemi nella zona di residenza delle famiglie</td><td>14</td></td></tr><tr><td>DCCV_QUINTOREDD</td><td>Quinto di reddito equivalente</td><td>14</td></td></tr><tr><td>DCCV_REDDFINMES</td><td>Giudizio sul reddito minimo per arrivare a fine mese senza difficoltà</td><td>13</td></td></tr><tr><td>DCCV_REDNETFAMFONTERED</td><td>Reddito  netto familiare</td><td>14</td></td></tr><tr><td>DCCV_SOGLIAPOVA</td><td>Soglia di povertà assoluta</td><td>6</td></td></tr><tr><td>DCCV_SOGLIAPOVR</td><td>Soglia di povertà relativa</td><td>5</td></td></tr><tr><td>DCCV_SPEFFCOMP</td><td>famiglie che hanno effettuato la spesa per alcune voci di spesa</td><td>5</td></td></tr><tr><td>DCCV_SPEFFDETT</td><td>Dettaglio della spesa effettiva</td><td>5</td></td></tr><tr><td>DCCV_SPEMEFAM</td><td>Spese nuove serie</td><td>11</td></td></tr><tr><td>DCCV_SPEMMFAM</td><td>Spesa media mensile familiare</td><td>8</td></td></tr><tr><td>DCCV_SPQUINTO</td><td>Quinto di spesa della famiglia</td><td>8</td></td></tr><tr><td>DCCV_TITGODABIT</td><td>Titolo di godimento dell'abitazione </td><td>14</td></td></tr><tr><td>DCSC_FIDCONS</td><td>Fiducia dei consumatori</td><td>8</td></td></tr><tr><td>PERCEPIT</td><td>Giudizio sulla condizione economica percepita</td><td>13</td></td></tr></table>"
      ],
      "text/plain": [
       "[DCCV_ABITAFFOLL(14):Affollamento nell'abitazione,\n",
       " DCCV_ABITPROBL(14):Problemi nell'abitazione,\n",
       " DCCV_ABITSPESA(12):Spesa per l'abitazione,\n",
       " DCCV_ABITSPESA_STRA(14):Spesa per l'abitazione delle famiglie con componenti stranieri ,\n",
       " DCCV_ARRETRATI(13):Arretrati per alcune voci di spesa,\n",
       " DCCV_CARICOPES(13):Carico delle spese pesante,\n",
       " DCCV_DIFFBENDUR(13):Difficoltà acquisto beni durevoli,\n",
       " DCCV_FAMCOMPORT(6):Comportamento di spesa delle famiglia,\n",
       " DCCV_FAMNOVOCISPESA(13):Famiglie che non possono permettersi alcune voci di spesa,\n",
       " DCCV_FONTEPRED(13):Fonte principale di reddito familiare,\n",
       " DCCV_GINIREDD(5):Indicatori sulla distribuzione reddito netto familiare,\n",
       " DCCV_IMPREV(12):Capacità di risparmio e far fronte a spese impreviste,\n",
       " DCCV_INCPOVAFAM(11):Incidenza di povertà assoluta familiare,\n",
       " DCCV_INCPOVRFAM(11):Incidenza di povertà relativa familiare,\n",
       " DCCV_INDCONSUMI(6):Indicatori sulla distribuzione dei consumi,\n",
       " DCCV_INDPOVASS(3):Indicatori di povertà assoluta,\n",
       " DCCV_INDPOVREL(3):Indicatori di povertà relativa ,\n",
       " DCCV_INTPOVAFAM(4):Intensità di povertà assoluta familiare,\n",
       " DCCV_INTPOVRFAM(4):Intensità di povertà relativa familiare,\n",
       " DCCV_NOSOLDI(13):Famiglie che dichiarano in alcuni periodi dell anno di non avere soldi per voci di spesa,\n",
       " DCCV_POVERTA(11):Povertà nuove serie,\n",
       " DCCV_PROBLZONRES_2(14):Presenza di problemi nella zona di residenza delle famiglie,\n",
       " DCCV_QUINTOREDD(14):Quinto di reddito equivalente,\n",
       " DCCV_REDDFINMES(13):Giudizio sul reddito minimo per arrivare a fine mese senza difficoltà,\n",
       " DCCV_REDNETFAMFONTERED(14):Reddito  netto familiare,\n",
       " DCCV_SOGLIAPOVA(6):Soglia di povertà assoluta,\n",
       " DCCV_SOGLIAPOVR(5):Soglia di povertà relativa,\n",
       " DCCV_SPEFFCOMP(5):famiglie che hanno effettuato la spesa per alcune voci di spesa,\n",
       " DCCV_SPEFFDETT(5):Dettaglio della spesa effettiva,\n",
       " DCCV_SPEMEFAM(11):Spese nuove serie,\n",
       " DCCV_SPEMMFAM(8):Spesa media mensile familiare,\n",
       " DCCV_SPQUINTO(8):Quinto di spesa della famiglia,\n",
       " DCCV_TITGODABIT(14):Titolo di godimento dell'abitazione ,\n",
       " DCSC_FIDCONS(8):Fiducia dei consumatori,\n",
       " PERCEPIT(13):Giudizio sulla condizione economica percepita]"
      ]
     },
     "execution_count": 7,
     "metadata": {},
     "output_type": "execute_result"
    }
   ],
   "source": [
    "istat_area_condizioni = istat.area(9)\n",
    "istat_area_condizioni.datasets()"
   ]
  },
  {
   "cell_type": "code",
   "execution_count": 8,
   "metadata": {
    "collapsed": true
   },
   "outputs": [],
   "source": [
    "# Povertà Assoluta\n",
    "ds_poverta_assoluta = istat_area_condizioni.dataset('DCCV_INDPOVASS')"
   ]
  },
  {
   "cell_type": "code",
   "execution_count": 9,
   "metadata": {
    "collapsed": false
   },
   "outputs": [
    {
     "data": {
      "text/html": [
       "DCCV_INDPOVASS(3):Indicatori di povertà assoluta</br><table><tr><th>nr</th><th>name</th><th>nr. values</th><th>values (first 3 values)</th></tr><tr><td>0</td><td>Territorio</td><td>4</td><td>1:'Italia', 3:'Nord', 62:'Centro' ...</td></td></tr><tr><td>1</td><td>Tipo dato</td><td>4</td><td>5:'famiglie in povertà assoluta (val. perc.)', 15:'incidenza di povertà assoluta familiare (per 100 famiglie con le stesse caratteristiche)', 16:'incidenza di povertà assoluta individuale (per 100 individui con le stesse caratteristiche)' ...</td></td></tr><tr><td>2</td><td>Anno</td><td>9</td><td>1996:'2005', 2015:'2006', 2034:'2007' ...</td></td></tr></table>"
      ],
      "text/plain": [
       "DCCV_INDPOVASS(3):Indicatori di povertà assoluta"
      ]
     },
     "execution_count": 9,
     "metadata": {},
     "output_type": "execute_result"
    }
   ],
   "source": [
    "ds_poverta_assoluta"
   ]
  },
  {
   "cell_type": "code",
   "execution_count": 10,
   "metadata": {
    "collapsed": false
   },
   "outputs": [
    {
     "data": {
      "text/plain": [
       "dict_values(['Territorio' (1:'Italia', 3:'Nord', 62:'Centro', 88:'Mezzogiorno'), 'Tipo dato' (5:'famiglie in povertà assoluta (val. perc.)', 15:'incidenza di povertà assoluta familiare (per 100 famiglie con le stesse caratteristiche)', 16:'incidenza di povertà assoluta individuale (per 100 individui con le stesse caratteristiche)', 19:'individui in povertà assoluta (val. perc.)'), 'Anno' (1996:'2005', 2015:'2006', 2034:'2007', 2053:'2008', 2072:'2009', 2091:'2010', 2110:'2011', 2129:'2012', 2148:'2013')])"
      ]
     },
     "execution_count": 10,
     "metadata": {},
     "output_type": "execute_result"
    }
   ],
   "source": [
    "ds_poverta_assoluta.dimensions()"
   ]
  },
  {
   "cell_type": "code",
   "execution_count": 18,
   "metadata": {
    "collapsed": true
   },
   "outputs": [],
   "source": [
    "# NORD\n",
    "spec_n = {\n",
    "\"Territorio\":3,\n",
    "\"Tipo dato\":16\n",
    "}\n",
    "\n",
    "spec_s = {\n",
    "\"Territorio\":88,\n",
    "\"Tipo dato\":16\n",
    "}"
   ]
  },
  {
   "cell_type": "code",
   "execution_count": 22,
   "metadata": {
    "collapsed": false
   },
   "outputs": [],
   "source": [
    "def df_pov(ds, spec, nome):\n",
    "    c = ds.getvalues(spec)\n",
    "    ds = c.dataset(0)\n",
    "    df = ds.to_data_frame('Anno')\n",
    "    df.reset_index(level=0, inplace=True)\n",
    "    df.columns = ['Anno',nome]\n",
    "    return df"
   ]
  },
  {
   "cell_type": "code",
   "execution_count": 25,
   "metadata": {
    "collapsed": false
   },
   "outputs": [],
   "source": [
    "# incidenza di povertà assoluta individuale (per 100 individui con le stesse caratteristiche)\n",
    "df_n = df_pov(ds_poverta_assoluta,spec_n, 'Nord')\n",
    "df_s = df_pov(ds_poverta_assoluta,spec_s, 'Sud')"
   ]
  },
  {
   "cell_type": "code",
   "execution_count": 26,
   "metadata": {
    "collapsed": false
   },
   "outputs": [
    {
     "data": {
      "text/html": [
       "<div>\n",
       "<table border=\"1\" class=\"dataframe\">\n",
       "  <thead>\n",
       "    <tr style=\"text-align: right;\">\n",
       "      <th></th>\n",
       "      <th>Anno</th>\n",
       "      <th>Nord</th>\n",
       "      <th>Sud</th>\n",
       "    </tr>\n",
       "  </thead>\n",
       "  <tbody>\n",
       "    <tr>\n",
       "      <th>0</th>\n",
       "      <td>2005</td>\n",
       "      <td>2.5</td>\n",
       "      <td>7.0</td>\n",
       "    </tr>\n",
       "    <tr>\n",
       "      <th>1</th>\n",
       "      <td>2006</td>\n",
       "      <td>2.9</td>\n",
       "      <td>5.9</td>\n",
       "    </tr>\n",
       "    <tr>\n",
       "      <th>2</th>\n",
       "      <td>2007</td>\n",
       "      <td>3.3</td>\n",
       "      <td>6.0</td>\n",
       "    </tr>\n",
       "    <tr>\n",
       "      <th>3</th>\n",
       "      <td>2008</td>\n",
       "      <td>3.2</td>\n",
       "      <td>8.1</td>\n",
       "    </tr>\n",
       "    <tr>\n",
       "      <th>4</th>\n",
       "      <td>2009</td>\n",
       "      <td>3.7</td>\n",
       "      <td>8.5</td>\n",
       "    </tr>\n",
       "    <tr>\n",
       "      <th>5</th>\n",
       "      <td>2010</td>\n",
       "      <td>3.6</td>\n",
       "      <td>7.7</td>\n",
       "    </tr>\n",
       "    <tr>\n",
       "      <th>6</th>\n",
       "      <td>2011</td>\n",
       "      <td>4.0</td>\n",
       "      <td>8.8</td>\n",
       "    </tr>\n",
       "    <tr>\n",
       "      <th>7</th>\n",
       "      <td>2012</td>\n",
       "      <td>6.4</td>\n",
       "      <td>11.3</td>\n",
       "    </tr>\n",
       "    <tr>\n",
       "      <th>8</th>\n",
       "      <td>2013</td>\n",
       "      <td>7.3</td>\n",
       "      <td>14.8</td>\n",
       "    </tr>\n",
       "  </tbody>\n",
       "</table>\n",
       "</div>"
      ],
      "text/plain": [
       "   Anno  Nord   Sud\n",
       "0  2005   2.5   7.0\n",
       "1  2006   2.9   5.9\n",
       "2  2007   3.3   6.0\n",
       "3  2008   3.2   8.1\n",
       "4  2009   3.7   8.5\n",
       "5  2010   3.6   7.7\n",
       "6  2011   4.0   8.8\n",
       "7  2012   6.4  11.3\n",
       "8  2013   7.3  14.8"
      ]
     },
     "execution_count": 26,
     "metadata": {},
     "output_type": "execute_result"
    }
   ],
   "source": [
    "df = pd.merge(df_n,df_s, how='inner', on=['Anno', 'Anno'])\n",
    "df"
   ]
  },
  {
   "cell_type": "code",
   "execution_count": 27,
   "metadata": {
    "collapsed": true
   },
   "outputs": [],
   "source": [
    "df_filename = r'df_g6.pkl'\n",
    "df_fullpath = os.path.join(dir_df, df_filename)\n",
    "df.to_pickle(df_fullpath)"
   ]
  }
 ],
 "metadata": {
  "kernelspec": {
   "display_name": "Python 3",
   "language": "python",
   "name": "python3"
  },
  "language_info": {
   "codemirror_mode": {
    "name": "ipython",
    "version": 3
   },
   "file_extension": ".py",
   "mimetype": "text/x-python",
   "name": "python",
   "nbconvert_exporter": "python",
   "pygments_lexer": "ipython3",
   "version": "3.6.0"
  }
 },
 "nbformat": 4,
 "nbformat_minor": 2
}
