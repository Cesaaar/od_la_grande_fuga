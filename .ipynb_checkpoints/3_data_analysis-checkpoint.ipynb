{
 "cells": [
  {
   "cell_type": "markdown",
   "metadata": {},
   "source": [
    "## Tassi di Mortalità"
   ]
  },
  {
   "cell_type": "code",
   "execution_count": 1,
   "metadata": {
    "collapsed": false
   },
   "outputs": [
    {
     "name": "stdout",
     "output_type": "stream",
     "text": [
      "cache_dir is '/home/acesarini/opendata/tmp/od_la_grande_fuga/istat_cached'\n"
     ]
    }
   ],
   "source": [
    "# Import librerie per analisi dati (Pandas) e dati Istat\n",
    "import os\n",
    "import pandas as pd\n",
    "import numpy as np\n",
    "from IPython.core.display import HTML\n",
    "import istat\n",
    "import jsonstat\n",
    "\n",
    "# cache dir per velocizzare analisi in locale\n",
    "cache_dir = os.path.abspath(os.path.join(\"..\", \"tmp/od_la_grande_fuga\", \"istat_cached\"))\n",
    "istat.cache_dir(cache_dir)\n",
    "istat.lang(0)  # lingua italiano\n",
    "# print(\"cache_dir is '{}'\".format(istat.cache_dir()))"
   ]
  },
  {
   "cell_type": "code",
   "execution_count": 17,
   "metadata": {
    "collapsed": true
   },
   "outputs": [],
   "source": [
    "dir_df = os.path.join(os.path.abspath(''),'stg')"
   ]
  },
  {
   "cell_type": "code",
   "execution_count": 2,
   "metadata": {
    "collapsed": true
   },
   "outputs": [],
   "source": [
    "istat_area_pop = istat.area(8)"
   ]
  },
  {
   "cell_type": "code",
   "execution_count": 3,
   "metadata": {
    "collapsed": false
   },
   "outputs": [
    {
     "data": {
      "text/html": [
       "DCIS_MORTALITA1(5):Tavole</br><table><tr><th>nr</th><th>name</th><th>nr. values</th><th>values (first 3 values)</th></tr><tr><td>0</td><td>Territorio</td><td>140</td><td>1:'Italia', 3:'Nord', 4:'Nord-ovest' ...</td></td></tr><tr><td>1</td><td>Funzioni biometriche</td><td>6</td><td>58:'sopravviventi - lx', 59:'decessi - dx', 60:'probabilità di morte (per 1.000) - qx' ...</td></td></tr><tr><td>2</td><td>Sesso</td><td>2</td><td>1:'maschi', 2:'femmine'</td></td></tr><tr><td>3</td><td>Età e classi di età</td><td>144</td><td>1:'0 anni', 2:'1 anni', 3:'2 anni' ...</td></td></tr><tr><td>4</td><td>Anno</td><td>42</td><td>1920:'2001', 1730:'1991', 1540:'1981' ...</td></td></tr></table>"
      ],
      "text/plain": [
       "DCIS_MORTALITA1(5):Tavole"
      ]
     },
     "execution_count": 3,
     "metadata": {},
     "output_type": "execute_result"
    }
   ],
   "source": [
    "istat_dataset_popolazione = istat_area_pop.dataset('DCIS_MORTALITA1')\n",
    "istat_dataset_popolazione"
   ]
  },
  {
   "cell_type": "code",
   "execution_count": 72,
   "metadata": {
    "collapsed": false
   },
   "outputs": [],
   "source": [
    "# istat_dataset_popolazione.dimensions()"
   ]
  },
  {
   "cell_type": "code",
   "execution_count": 57,
   "metadata": {
    "collapsed": false
   },
   "outputs": [],
   "source": [
    "# Numero di Morti per Classi di Età nel 2015 Italia\n",
    "spec_it = {\n",
    "    \"Territorio\":1,                 \n",
    "    \"Funzioni biometriche\":59,            \n",
    "    #\"Sesso\":1, \n",
    "    #\"Età e classi di età\":1\n",
    "    \"Anno\": 2186\n",
    "}"
   ]
  },
  {
   "cell_type": "code",
   "execution_count": 58,
   "metadata": {
    "collapsed": true
   },
   "outputs": [],
   "source": [
    "# Numero di Morti per Classi di Età nel 2015 Nord\n",
    "spec_n = {\n",
    "    \"Territorio\":3,                 \n",
    "    \"Funzioni biometriche\":59,            \n",
    "    #\"Sesso\":1, \n",
    "    #\"Età e classi di età\":1\n",
    "    \"Anno\": 2186\n",
    "}"
   ]
  },
  {
   "cell_type": "code",
   "execution_count": 59,
   "metadata": {
    "collapsed": true
   },
   "outputs": [],
   "source": [
    "# Numero di Morti per Classi di Età nel 2015 Sud\n",
    "spec_s = {\n",
    "    \"Territorio\":89,                 \n",
    "    \"Funzioni biometriche\":59,            \n",
    "    #\"Sesso\":1, \n",
    "    #\"Età e classi di età\":1\n",
    "    \"Anno\": 2186\n",
    "}"
   ]
  },
  {
   "cell_type": "code",
   "execution_count": 64,
   "metadata": {
    "collapsed": true
   },
   "outputs": [],
   "source": [
    "def get_df(spec, value):\n",
    "    c = istat_dataset_popolazione.getvalues(spec)\n",
    "    ds = c.dataset(0)\n",
    "    df = ds.to_data_frame('Sesso')\n",
    "    df.columns = ['Eta', value]\n",
    "    df=df[(df['Eta']=='fino a 4 anni') |\n",
    "       (df['Eta']=='5-9 anni') |\n",
    "       (df['Eta']=='10-14 anni') |\n",
    "       (df['Eta']=='15-19 anni') |\n",
    "       (df['Eta']=='20-24 anni') |\n",
    "       (df['Eta']=='25-29 anni') |\n",
    "       (df['Eta']=='30-34 anni') |\n",
    "       (df['Eta']=='35-39 anni') |\n",
    "       (df['Eta']=='40-44 anni') |\n",
    "       (df['Eta']=='45-49 anni') |\n",
    "       (df['Eta']=='50-54 anni') |\n",
    "       (df['Eta']=='55-59 anni') |\n",
    "       (df['Eta']=='60-64 anni') |\n",
    "       (df['Eta']=='65-69 anni') |\n",
    "       (df['Eta']=='70-74 anni') |\n",
    "       (df['Eta']=='75-79 anni') |\n",
    "       (df['Eta']=='80-84 anni') |\n",
    "       (df['Eta']=='85-89 anni') \n",
    "      ]\n",
    "    df = df.groupby('Eta',as_index=False)\n",
    "    df = df.agg({value : np.sum})\n",
    "    return df"
   ]
  },
  {
   "cell_type": "code",
   "execution_count": 88,
   "metadata": {
    "collapsed": false
   },
   "outputs": [],
   "source": [
    "df_it = get_df(spec_it, 'Value_IT')\n",
    "df_n = get_df(spec_n, 'Value_N')\n",
    "df_s = get_df(spec_s, 'Value_S')"
   ]
  },
  {
   "cell_type": "code",
   "execution_count": 89,
   "metadata": {
    "collapsed": false
   },
   "outputs": [],
   "source": [
    "df = pd.merge(df_it,df_n, how='inner', on=['Eta', 'Eta'])"
   ]
  },
  {
   "cell_type": "code",
   "execution_count": 90,
   "metadata": {
    "collapsed": false
   },
   "outputs": [],
   "source": [
    "df = pd.merge(df,df_s, how='inner', on=['Eta', 'Eta'])"
   ]
  },
  {
   "cell_type": "code",
   "execution_count": 91,
   "metadata": {
    "collapsed": true
   },
   "outputs": [],
   "source": [
    "df.Eta.replace(['fino a 4 anni','5-9 anni'], ['00-04 anni','05-09 anni'], inplace=True)"
   ]
  },
  {
   "cell_type": "code",
   "execution_count": 92,
   "metadata": {
    "collapsed": false
   },
   "outputs": [
    {
     "data": {
      "text/html": [
       "<div>\n",
       "<table border=\"1\" class=\"dataframe\">\n",
       "  <thead>\n",
       "    <tr style=\"text-align: right;\">\n",
       "      <th></th>\n",
       "      <th>Eta</th>\n",
       "      <th>Value_IT</th>\n",
       "      <th>Value_N</th>\n",
       "      <th>Value_S</th>\n",
       "    </tr>\n",
       "  </thead>\n",
       "  <tbody>\n",
       "    <tr>\n",
       "      <th>17</th>\n",
       "      <td>00-04 anni</td>\n",
       "      <td>711.0</td>\n",
       "      <td>653.0</td>\n",
       "      <td>779.0</td>\n",
       "    </tr>\n",
       "    <tr>\n",
       "      <th>8</th>\n",
       "      <td>05-09 anni</td>\n",
       "      <td>75.0</td>\n",
       "      <td>71.0</td>\n",
       "      <td>79.0</td>\n",
       "    </tr>\n",
       "    <tr>\n",
       "      <th>0</th>\n",
       "      <td>10-14 anni</td>\n",
       "      <td>86.0</td>\n",
       "      <td>88.0</td>\n",
       "      <td>95.0</td>\n",
       "    </tr>\n",
       "    <tr>\n",
       "      <th>1</th>\n",
       "      <td>15-19 anni</td>\n",
       "      <td>209.0</td>\n",
       "      <td>201.0</td>\n",
       "      <td>230.0</td>\n",
       "    </tr>\n",
       "    <tr>\n",
       "      <th>2</th>\n",
       "      <td>20-24 anni</td>\n",
       "      <td>298.0</td>\n",
       "      <td>295.0</td>\n",
       "      <td>287.0</td>\n",
       "    </tr>\n",
       "    <tr>\n",
       "      <th>3</th>\n",
       "      <td>25-29 anni</td>\n",
       "      <td>332.0</td>\n",
       "      <td>322.0</td>\n",
       "      <td>338.0</td>\n",
       "    </tr>\n",
       "    <tr>\n",
       "      <th>4</th>\n",
       "      <td>30-34 anni</td>\n",
       "      <td>412.0</td>\n",
       "      <td>387.0</td>\n",
       "      <td>466.0</td>\n",
       "    </tr>\n",
       "    <tr>\n",
       "      <th>5</th>\n",
       "      <td>35-39 anni</td>\n",
       "      <td>604.0</td>\n",
       "      <td>550.0</td>\n",
       "      <td>677.0</td>\n",
       "    </tr>\n",
       "    <tr>\n",
       "      <th>6</th>\n",
       "      <td>40-44 anni</td>\n",
       "      <td>910.0</td>\n",
       "      <td>826.0</td>\n",
       "      <td>1047.0</td>\n",
       "    </tr>\n",
       "    <tr>\n",
       "      <th>7</th>\n",
       "      <td>45-49 anni</td>\n",
       "      <td>1517.0</td>\n",
       "      <td>1410.0</td>\n",
       "      <td>1710.0</td>\n",
       "    </tr>\n",
       "    <tr>\n",
       "      <th>9</th>\n",
       "      <td>50-54 anni</td>\n",
       "      <td>2457.0</td>\n",
       "      <td>2299.0</td>\n",
       "      <td>2734.0</td>\n",
       "    </tr>\n",
       "    <tr>\n",
       "      <th>10</th>\n",
       "      <td>55-59 anni</td>\n",
       "      <td>3903.0</td>\n",
       "      <td>3685.0</td>\n",
       "      <td>4393.0</td>\n",
       "    </tr>\n",
       "    <tr>\n",
       "      <th>11</th>\n",
       "      <td>60-64 anni</td>\n",
       "      <td>6154.0</td>\n",
       "      <td>5940.0</td>\n",
       "      <td>6425.0</td>\n",
       "    </tr>\n",
       "    <tr>\n",
       "      <th>12</th>\n",
       "      <td>65-69 anni</td>\n",
       "      <td>9255.0</td>\n",
       "      <td>9106.0</td>\n",
       "      <td>9886.0</td>\n",
       "    </tr>\n",
       "    <tr>\n",
       "      <th>13</th>\n",
       "      <td>70-74 anni</td>\n",
       "      <td>14520.0</td>\n",
       "      <td>14080.0</td>\n",
       "      <td>15583.0</td>\n",
       "    </tr>\n",
       "    <tr>\n",
       "      <th>14</th>\n",
       "      <td>75-79 anni</td>\n",
       "      <td>22041.0</td>\n",
       "      <td>21334.0</td>\n",
       "      <td>23709.0</td>\n",
       "    </tr>\n",
       "    <tr>\n",
       "      <th>15</th>\n",
       "      <td>80-84 anni</td>\n",
       "      <td>34677.0</td>\n",
       "      <td>34170.0</td>\n",
       "      <td>35768.0</td>\n",
       "    </tr>\n",
       "    <tr>\n",
       "      <th>16</th>\n",
       "      <td>85-89 anni</td>\n",
       "      <td>44315.0</td>\n",
       "      <td>44657.0</td>\n",
       "      <td>43350.0</td>\n",
       "    </tr>\n",
       "  </tbody>\n",
       "</table>\n",
       "</div>"
      ],
      "text/plain": [
       "           Eta  Value_IT  Value_N  Value_S\n",
       "17  00-04 anni     711.0    653.0    779.0\n",
       "8   05-09 anni      75.0     71.0     79.0\n",
       "0   10-14 anni      86.0     88.0     95.0\n",
       "1   15-19 anni     209.0    201.0    230.0\n",
       "2   20-24 anni     298.0    295.0    287.0\n",
       "3   25-29 anni     332.0    322.0    338.0\n",
       "4   30-34 anni     412.0    387.0    466.0\n",
       "5   35-39 anni     604.0    550.0    677.0\n",
       "6   40-44 anni     910.0    826.0   1047.0\n",
       "7   45-49 anni    1517.0   1410.0   1710.0\n",
       "9   50-54 anni    2457.0   2299.0   2734.0\n",
       "10  55-59 anni    3903.0   3685.0   4393.0\n",
       "11  60-64 anni    6154.0   5940.0   6425.0\n",
       "12  65-69 anni    9255.0   9106.0   9886.0\n",
       "13  70-74 anni   14520.0  14080.0  15583.0\n",
       "14  75-79 anni   22041.0  21334.0  23709.0\n",
       "15  80-84 anni   34677.0  34170.0  35768.0\n",
       "16  85-89 anni   44315.0  44657.0  43350.0"
      ]
     },
     "execution_count": 92,
     "metadata": {},
     "output_type": "execute_result"
    }
   ],
   "source": [
    "df.sort_values(by=['Eta'], ascending=[1])"
   ]
  },
  {
   "cell_type": "code",
   "execution_count": 93,
   "metadata": {
    "collapsed": true
   },
   "outputs": [],
   "source": [
    "df_filename = r'df_morte.pkl'\n",
    "df_fullpath = os.path.join(dir_df, df_filename)\n",
    "df.to_pickle(df_fullpath)"
   ]
  },
  {
   "cell_type": "code",
   "execution_count": 18,
   "metadata": {
    "collapsed": false
   },
   "outputs": [],
   "source": [
    "# writer = pd.ExcelWriter('Eta.xlsx')\n",
    "# df.to_excel(writer,'eta')\n",
    "# writer.save()"
   ]
  }
 ],
 "metadata": {
  "kernelspec": {
   "display_name": "Python [conda env:opendata]",
   "language": "python",
   "name": "conda-env-opendata-py"
  },
  "language_info": {
   "codemirror_mode": {
    "name": "ipython",
    "version": 3
   },
   "file_extension": ".py",
   "mimetype": "text/x-python",
   "name": "python",
   "nbconvert_exporter": "python",
   "pygments_lexer": "ipython3",
   "version": "3.5.2"
  }
 },
 "nbformat": 4,
 "nbformat_minor": 1
}
