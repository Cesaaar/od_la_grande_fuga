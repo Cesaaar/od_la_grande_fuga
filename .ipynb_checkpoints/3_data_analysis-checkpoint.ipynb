{
 "cells": [
  {
   "cell_type": "markdown",
   "metadata": {},
   "source": [
    "## Tassi di Mortalità"
   ]
  },
  {
   "cell_type": "code",
   "execution_count": 15,
   "metadata": {
    "collapsed": false
   },
   "outputs": [
    {
     "data": {
      "text/plain": [
       "0"
      ]
     },
     "execution_count": 15,
     "metadata": {},
     "output_type": "execute_result"
    }
   ],
   "source": [
    "# Import librerie per analisi dati (Pandas) e dati Istat\n",
    "import os\n",
    "import pandas as pd\n",
    "import numpy as np\n",
    "from IPython.core.display import HTML\n",
    "import istat\n",
    "import jsonstat\n",
    "\n",
    "# cache dir per velocizzare analisi in locale\n",
    "cache_dir = os.path.abspath(os.path.join(\"..\", \"tmp/od_la_grande_fuga\", \"istat_cached\"))\n",
    "istat.cache_dir(cache_dir)\n",
    "istat.lang(0)  # lingua italiano\n",
    "# print(\"cache_dir is '{}'\".format(istat.cache_dir()))"
   ]
  },
  {
   "cell_type": "code",
   "execution_count": 16,
   "metadata": {
    "collapsed": true
   },
   "outputs": [],
   "source": [
    "dir_df = os.path.join(os.path.abspath(''),'stg')"
   ]
  },
  {
   "cell_type": "code",
   "execution_count": 21,
   "metadata": {
    "collapsed": true
   },
   "outputs": [],
   "source": [
    "istat_area_pop = istat.area('POP')"
   ]
  },
  {
   "cell_type": "code",
   "execution_count": 23,
   "metadata": {
    "collapsed": false
   },
   "outputs": [],
   "source": [
    "#istat_area_pop.datasets()"
   ]
  },
  {
   "cell_type": "code",
   "execution_count": 24,
   "metadata": {
    "collapsed": false
   },
   "outputs": [
    {
     "data": {
      "text/html": [
       "DCIS_DECESSI(9):Decessi</br><table><tr><th>nr</th><th>name</th><th>nr. values</th><th>values (first 3 values)</th></tr><tr><td>0</td><td>Territorio</td><td>140</td><td>1:'Italia', 3:'Nord', 4:'Nord-ovest' ...</td></td></tr><tr><td>1</td><td>Tipo dato</td><td>9</td><td>65:'tasso di mortalità (per mille abitanti)', 4:'morti', 264:'tasso specifico di mortalità per età (per mille abitanti)' ...</td></td></tr><tr><td>2</td><td>Sesso</td><td>3</td><td>1:'maschi', 2:'femmine', 3:'totale' ...</td></td></tr><tr><td>3</td><td>Età</td><td>21</td><td>65:'35-39 anni', 130:'80-84 anni', 101:'60-64 anni' ...</td></td></tr><tr><td>4</td><td>Stato civile</td><td>7</td><td>1:'nubile/celibe', 2:'coniugata/o', 3:'divorziata/o' ...</td></td></tr><tr><td>5</td><td>Paese di cittadinanza</td><td>132</td><td>368:'Montenegro', 269:'Finlandia', 275:'Francia' ...</td></td></tr><tr><td>6</td><td>Paese di nascita</td><td>157</td><td>256:'Zambia', 1:'Afghanistan', 3:'Albania' ...</td></td></tr><tr><td>7</td><td>Titolo di studio</td><td>7</td><td>48:'titoli di studio post-laurea o post-diploma A.F.A.M.', 3:'licenza di scuola elementare, nessun titolo di studio', 4:'licenza di scuola media' ...</td></td></tr><tr><td>8</td><td>Tempo</td><td>5</td><td>2129:'2012', 2186:'2015', 2148:'2013' ...</td></td></tr></table>"
      ],
      "text/plain": [
       "DCIS_DECESSI(9):Decessi"
      ]
     },
     "execution_count": 24,
     "metadata": {},
     "output_type": "execute_result"
    }
   ],
   "source": [
    "istat_dataset_popolazione = istat_area_pop.dataset('DCIS_DECESSI')\n",
    "istat_dataset_popolazione"
   ]
  },
  {
   "cell_type": "code",
   "execution_count": 52,
   "metadata": {
    "collapsed": false
   },
   "outputs": [],
   "source": [
    "# istat_dataset_popolazione.dimensions()"
   ]
  },
  {
   "cell_type": "code",
   "execution_count": 118,
   "metadata": {
    "collapsed": false
   },
   "outputs": [],
   "source": [
    "# Numero di Morti per Classi di Età nel 2015 Nord\n",
    "spec_n = {\n",
    "    \"Territorio\":3,                 \n",
    "    \"Tipo dato\":4,            \n",
    "    \"Sesso\":3, \n",
    "    \"Paese di nascita\":118,\n",
    "    \"Titolo di studio\":12,\n",
    "    \"Stato civile\":8,\n",
    "    \"Tempo\": 2186\n",
    "}"
   ]
  },
  {
   "cell_type": "code",
   "execution_count": 119,
   "metadata": {
    "collapsed": true
   },
   "outputs": [],
   "source": [
    "# Numero di Morti per Classi di Età nel 2015 Sud\n",
    "spec_s = {\n",
    "    \"Territorio\":89,                 \n",
    "    \"Tipo dato\":4,            \n",
    "    \"Sesso\":3, \n",
    "    \"Paese di nascita\":118,\n",
    "    \"Titolo di studio\":12,\n",
    "    \"Stato civile\":8,\n",
    "    \"Tempo\": 2186\n",
    "}"
   ]
  },
  {
   "cell_type": "code",
   "execution_count": 120,
   "metadata": {
    "collapsed": true
   },
   "outputs": [],
   "source": [
    "def get_df(spec, value):\n",
    "    c = istat_dataset_popolazione.getvalues(spec)\n",
    "    ds = c.dataset(0)\n",
    "    df = ds.to_data_frame('Paese di cittadinanza')\n",
    "    df.reset_index(level=0, inplace=True)\n",
    "    df = df[df['Paese di cittadinanza']=='Italia']\n",
    "    df.columns = ['Paese di cittadinanza','Eta', value]\n",
    "    df=df[(df['Eta']=='fino a 4 anni') |\n",
    "       (df['Eta']=='5-9 anni') |\n",
    "       (df['Eta']=='10-14 anni') |\n",
    "       (df['Eta']=='15-19 anni') |\n",
    "       (df['Eta']=='20-24 anni') |\n",
    "       (df['Eta']=='25-29 anni') |\n",
    "       (df['Eta']=='30-34 anni') |\n",
    "       (df['Eta']=='35-39 anni') |\n",
    "       (df['Eta']=='40-44 anni') |\n",
    "       (df['Eta']=='45-49 anni') |\n",
    "       (df['Eta']=='50-54 anni') |\n",
    "       (df['Eta']=='55-59 anni') |\n",
    "       (df['Eta']=='60-64 anni') |\n",
    "       (df['Eta']=='65-69 anni') |\n",
    "       (df['Eta']=='70-74 anni') |\n",
    "       (df['Eta']=='75-79 anni') |\n",
    "       (df['Eta']=='80-84 anni') |\n",
    "       (df['Eta']=='85-89 anni') \n",
    "      ]\n",
    "    df = df.groupby('Eta',as_index=False)\n",
    "    df = df.agg({value : np.sum})\n",
    "    return df"
   ]
  },
  {
   "cell_type": "code",
   "execution_count": 121,
   "metadata": {
    "collapsed": false
   },
   "outputs": [],
   "source": [
    "df_n = get_df(spec_n, 'Value_N')\n",
    "df_s = get_df(spec_s, 'Value_S')"
   ]
  },
  {
   "cell_type": "code",
   "execution_count": 122,
   "metadata": {
    "collapsed": false
   },
   "outputs": [],
   "source": [
    "df = pd.merge(df_s,df_n, how='inner', on=['Eta', 'Eta'])"
   ]
  },
  {
   "cell_type": "code",
   "execution_count": 123,
   "metadata": {
    "collapsed": true
   },
   "outputs": [],
   "source": [
    "df.Eta.replace(['fino a 4 anni','5-9 anni'], ['00-04 anni','05-09 anni'], inplace=True)"
   ]
  },
  {
   "cell_type": "code",
   "execution_count": 124,
   "metadata": {
    "collapsed": false
   },
   "outputs": [],
   "source": [
    "df = df.sort_values(by=['Eta'], ascending=[1])"
   ]
  },
  {
   "cell_type": "code",
   "execution_count": 125,
   "metadata": {
    "collapsed": true
   },
   "outputs": [],
   "source": [
    "df_filename = r'df_morte.pkl'\n",
    "df_fullpath = os.path.join(dir_df, df_filename)\n",
    "df.to_pickle(df_fullpath)"
   ]
  },
  {
   "cell_type": "code",
   "execution_count": 18,
   "metadata": {
    "collapsed": false
   },
   "outputs": [],
   "source": [
    "# writer = pd.ExcelWriter('Eta.xlsx')\n",
    "# df.to_excel(writer,'eta')\n",
    "# writer.save()"
   ]
  }
 ],
 "metadata": {
  "kernelspec": {
   "display_name": "Python [conda env:opendata]",
   "language": "python",
   "name": "conda-env-opendata-py"
  },
  "language_info": {
   "codemirror_mode": {
    "name": "ipython",
    "version": 3
   },
   "file_extension": ".py",
   "mimetype": "text/x-python",
   "name": "python",
   "nbconvert_exporter": "python",
   "pygments_lexer": "ipython3",
   "version": "3.5.2"
  }
 },
 "nbformat": 4,
 "nbformat_minor": 1
}
