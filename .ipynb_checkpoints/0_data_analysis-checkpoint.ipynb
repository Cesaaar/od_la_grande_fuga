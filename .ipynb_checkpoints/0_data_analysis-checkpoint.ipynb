{
 "cells": [
  {
   "cell_type": "markdown",
   "metadata": {},
   "source": [
    "# La Grande Fuga\n",
    "Sulla base del libro di Angus Deaton \"La Grande Fuga - salute, ricchezza e origini della disuguaglianza\", sarà replicata a livello base l'analisi svolta approfondendo le dinamiche di \"speranza di vita\" e \"reddito\" che caratterizzano l'Italia e le regioni italiane\n",
    "\n",
    "- Open Data -> ISTAT"
   ]
  },
  {
   "cell_type": "code",
   "execution_count": 5,
   "metadata": {
    "collapsed": false
   },
   "outputs": [
    {
     "name": "stdout",
     "output_type": "stream",
     "text": [
      "cache_dir is '/home/acesarini/opendata/tmp/od_la_grande_fuga/istat_cached'\n"
     ]
    }
   ],
   "source": [
    "# Import librerie per analisi dati (Pandas) e dati Istat\n",
    "import os\n",
    "import pandas as pd\n",
    "import numpy as np\n",
    "from IPython.core.display import HTML\n",
    "import istat\n",
    "import jsonstat\n",
    "\n",
    "# cache dir per velocizzare analisi in locale\n",
    "cache_dir = os.path.abspath(os.path.join(\"..\", \"tmp/od_la_grande_fuga\", \"istat_cached\"))\n",
    "istat.cache_dir(cache_dir)\n",
    "istat.lang(0)  # lingua italiano\n",
    "print(\"cache_dir is '{}'\".format(istat.cache_dir()))"
   ]
  },
  {
   "cell_type": "code",
   "execution_count": 10,
   "metadata": {
    "collapsed": false
   },
   "outputs": [],
   "source": [
    "# Lista Aree\n",
    "# istat.areas()\n",
    "istat_area_pop = istat.area(8)"
   ]
  },
  {
   "cell_type": "markdown",
   "metadata": {},
   "source": [
    "## Speranza di vita alla nascita"
   ]
  },
  {
   "cell_type": "code",
   "execution_count": 12,
   "metadata": {
    "collapsed": false
   },
   "outputs": [
    {
     "data": {
      "text/html": [
       "DCIS_INDDEMOG1(3):Indicatori  demografici</br><table><tr><th>nr</th><th>name</th><th>nr. values</th><th>values (first 3 values)</th></tr><tr><td>0</td><td>Territorio</td><td>140</td><td>1:'Italia', 3:'Nord', 4:'Nord-ovest' ...</td></td></tr><tr><td>1</td><td>Tipo indicatore</td><td>22</td><td>64:'tasso di natalità (per mille abitanti)', 65:'tasso di mortalità (per mille abitanti)', 66:'tasso di nuzialità (per mille abitanti)' ...</td></td></tr><tr><td>2</td><td>Anno</td><td>15</td><td>2148:'2013', 2053:'2008', 1958:'2003' ...</td></td></tr></table>"
      ],
      "text/plain": [
       "DCIS_INDDEMOG1(3):Indicatori  demografici"
      ]
     },
     "execution_count": 12,
     "metadata": {},
     "output_type": "execute_result"
    }
   ],
   "source": [
    "# Lista Dataset - Popolazione -> KPI: Speranza di vita alla nascita\n",
    "istat_dataset_popolazione = istat_area_pop.dataset('DCIS_INDDEMOG1')\n",
    "istat_dataset_popolazione"
   ]
  },
  {
   "cell_type": "code",
   "execution_count": 34,
   "metadata": {
    "collapsed": false
   },
   "outputs": [],
   "source": [
    "# Lista di tutte le Dimensioni\n",
    "#istat_dataset_popolazione.dimensions()"
   ]
  },
  {
   "cell_type": "code",
   "execution_count": 28,
   "metadata": {
    "collapsed": false
   },
   "outputs": [],
   "source": [
    "# Speranza di Vita Maschi\n",
    "spec1 = {\n",
    "    #\"Territorio\":1,                 # 1 -> Italia\n",
    "    #\"Anno\":2167,                   # ALL\n",
    "    \"Tipo indicatore\":75            # 75 -> Speranza di vita alla nascita - maschi\n",
    "}\n",
    "\n",
    "collection1 = istat_dataset_popolazione.getvalues(spec1)\n",
    "ds = collection1.dataset(0)\n",
    "df_m = ds.to_data_frame('Territorio')"
   ]
  },
  {
   "cell_type": "code",
   "execution_count": 29,
   "metadata": {
    "collapsed": false
   },
   "outputs": [],
   "source": [
    "# Speranza di Vita Femmine\n",
    "spec2 = {\n",
    "    #\"Territorio\":1,                # 1 -> Italia\n",
    "    #\"Anno\":2167,                   # ALL\n",
    "    \"Tipo indicatore\":77            # 77 -> Speranza di vita alla nascita - femmine\n",
    "}\n",
    "\n",
    "collection2 = istat_dataset_popolazione.getvalues(spec2)\n",
    "ds2 = collection2.dataset(0)\n",
    "df_f = ds2.to_data_frame('Territorio')"
   ]
  },
  {
   "cell_type": "code",
   "execution_count": 32,
   "metadata": {
    "collapsed": false
   },
   "outputs": [
    {
     "data": {
      "text/plain": [
       "Anno     1946\n",
       "Value    1946\n",
       "dtype: int64"
      ]
     },
     "execution_count": 32,
     "metadata": {},
     "output_type": "execute_result"
    }
   ],
   "source": [
    "df_f.count()"
   ]
  },
  {
   "cell_type": "code",
   "execution_count": 33,
   "metadata": {
    "collapsed": false
   },
   "outputs": [
    {
     "data": {
      "text/plain": [
       "Anno     1946\n",
       "Value    1946\n",
       "dtype: int64"
      ]
     },
     "execution_count": 33,
     "metadata": {},
     "output_type": "execute_result"
    }
   ],
   "source": [
    "df_m.count()"
   ]
  },
  {
   "cell_type": "code",
   "execution_count": null,
   "metadata": {
    "collapsed": true
   },
   "outputs": [],
   "source": [
    "# Merge e Media dei due valori"
   ]
  },
  {
   "cell_type": "code",
   "execution_count": null,
   "metadata": {
    "collapsed": true
   },
   "outputs": [],
   "source": []
  },
  {
   "cell_type": "markdown",
   "metadata": {},
   "source": [
    "## Reddito pro capite"
   ]
  }
 ],
 "metadata": {
  "kernelspec": {
   "display_name": "Python [conda env:opendata]",
   "language": "python",
   "name": "conda-env-opendata-py"
  },
  "language_info": {
   "codemirror_mode": {
    "name": "ipython",
    "version": 3
   },
   "file_extension": ".py",
   "mimetype": "text/x-python",
   "name": "python",
   "nbconvert_exporter": "python",
   "pygments_lexer": "ipython3",
   "version": "3.5.2"
  }
 },
 "nbformat": 4,
 "nbformat_minor": 1
}
