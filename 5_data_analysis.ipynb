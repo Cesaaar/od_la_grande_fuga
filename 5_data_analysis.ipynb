{
 "cells": [
  {
   "cell_type": "markdown",
   "metadata": {},
   "source": [
    "## G6 - Tassi di Povertà"
   ]
  },
  {
   "cell_type": "code",
   "execution_count": 3,
   "metadata": {
    "collapsed": false
   },
   "outputs": [],
   "source": [
    "# Import librerie per analisi dati (Pandas) e dati Istat\n",
    "import os\n",
    "import pandas as pd\n",
    "import numpy as np\n",
    "from IPython.core.display import HTML\n",
    "import istat\n",
    "import jsonstat\n",
    "\n",
    "# cache dir per velocizzare analisi in locale\n",
    "cache_dir = os.path.abspath(os.path.join(\"..\", \"tmp/od_la_grande_fuga\", \"istat_cached\"))\n",
    "istat.cache_dir(cache_dir)\n",
    "istat.lang(0)  # lingua italiano\n",
    "\n",
    "dir_df = os.path.join(os.path.abspath(''),'stg')"
   ]
  },
  {
   "cell_type": "code",
   "execution_count": 7,
   "metadata": {
    "collapsed": false
   },
   "outputs": [
    {
     "data": {
      "text/html": [
       "<table><tr><th>cod</th><th>name</th><th>dim</th></tr><tr><td>DCCV_ABITAFFOLL</td><td>Affollamento nell'abitazione</td><td>14</td></td></tr><tr><td>DCCV_ABITPROBL</td><td>Problemi nell'abitazione</td><td>14</td></td></tr><tr><td>DCCV_ABITSPESA</td><td>Spesa per l'abitazione</td><td>12</td></td></tr><tr><td>DCCV_ABITSPESA_STRA</td><td>Spesa per l'abitazione delle famiglie con componenti stranieri </td><td>14</td></td></tr><tr><td>DCCV_ARRETRATI</td><td>Arretrati per alcune voci di spesa</td><td>13</td></td></tr><tr><td>DCCV_CARICOPES</td><td>Carico delle spese pesante</td><td>13</td></td></tr><tr><td>DCCV_DIFFBENDUR</td><td>Difficoltà acquisto beni durevoli</td><td>13</td></td></tr><tr><td>DCCV_FAMCOMPORT</td><td>Comportamento di spesa delle famiglia</td><td>6</td></td></tr><tr><td>DCCV_FAMNOVOCISPESA</td><td>Famiglie che non possono permettersi alcune voci di spesa</td><td>13</td></td></tr><tr><td>DCCV_FONTEPRED</td><td>Fonte principale di reddito familiare</td><td>13</td></td></tr><tr><td>DCCV_GINIREDD</td><td>Indicatori sulla distribuzione reddito netto familiare</td><td>5</td></td></tr><tr><td>DCCV_IMPREV</td><td>Capacità di risparmio e far fronte a spese impreviste</td><td>12</td></td></tr><tr><td>DCCV_INCPOVAFAM</td><td>Incidenza di povertà assoluta familiare</td><td>11</td></td></tr><tr><td>DCCV_INCPOVRFAM</td><td>Incidenza di povertà relativa familiare</td><td>11</td></td></tr><tr><td>DCCV_INDCONSUMI</td><td>Indicatori sulla distribuzione dei consumi</td><td>6</td></td></tr><tr><td>DCCV_INDPOVASS</td><td>Indicatori di povertà assoluta</td><td>3</td></td></tr><tr><td>DCCV_INDPOVREL</td><td>Indicatori di povertà relativa </td><td>3</td></td></tr><tr><td>DCCV_INTPOVAFAM</td><td>Intensità di povertà assoluta familiare</td><td>4</td></td></tr><tr><td>DCCV_INTPOVRFAM</td><td>Intensità di povertà relativa familiare</td><td>4</td></td></tr><tr><td>DCCV_NOSOLDI</td><td>Famiglie che dichiarano in alcuni periodi dell anno di non avere soldi per voci di spesa</td><td>13</td></td></tr><tr><td>DCCV_POVERTA</td><td>Povertà nuove serie</td><td>11</td></td></tr><tr><td>DCCV_PROBLZONRES_2</td><td>Presenza di problemi nella zona di residenza delle famiglie</td><td>14</td></td></tr><tr><td>DCCV_QUINTOREDD</td><td>Quinto di reddito equivalente</td><td>14</td></td></tr><tr><td>DCCV_REDDFINMES</td><td>Giudizio sul reddito minimo per arrivare a fine mese senza difficoltà</td><td>13</td></td></tr><tr><td>DCCV_REDNETFAMFONTERED</td><td>Reddito  netto familiare</td><td>14</td></td></tr><tr><td>DCCV_SOGLIAPOVA</td><td>Soglia di povertà assoluta</td><td>6</td></td></tr><tr><td>DCCV_SOGLIAPOVR</td><td>Soglia di povertà relativa</td><td>5</td></td></tr><tr><td>DCCV_SPEFFCOMP</td><td>famiglie che hanno effettuato la spesa per alcune voci di spesa</td><td>5</td></td></tr><tr><td>DCCV_SPEFFDETT</td><td>Dettaglio della spesa effettiva</td><td>5</td></td></tr><tr><td>DCCV_SPEMEFAM</td><td>Spese nuove serie</td><td>11</td></td></tr><tr><td>DCCV_SPEMMFAM</td><td>Spesa media mensile familiare</td><td>8</td></td></tr><tr><td>DCCV_SPQUINTO</td><td>Quinto di spesa della famiglia</td><td>8</td></td></tr><tr><td>DCCV_TITGODABIT</td><td>Titolo di godimento dell'abitazione </td><td>14</td></td></tr><tr><td>DCSC_FIDCONS</td><td>Fiducia dei consumatori</td><td>8</td></td></tr><tr><td>PERCEPIT</td><td>Giudizio sulla condizione economica percepita</td><td>13</td></td></tr></table>"
      ],
      "text/plain": [
       "[DCCV_ABITAFFOLL(14):Affollamento nell'abitazione,\n",
       " DCCV_ABITPROBL(14):Problemi nell'abitazione,\n",
       " DCCV_ABITSPESA(12):Spesa per l'abitazione,\n",
       " DCCV_ABITSPESA_STRA(14):Spesa per l'abitazione delle famiglie con componenti stranieri ,\n",
       " DCCV_ARRETRATI(13):Arretrati per alcune voci di spesa,\n",
       " DCCV_CARICOPES(13):Carico delle spese pesante,\n",
       " DCCV_DIFFBENDUR(13):Difficoltà acquisto beni durevoli,\n",
       " DCCV_FAMCOMPORT(6):Comportamento di spesa delle famiglia,\n",
       " DCCV_FAMNOVOCISPESA(13):Famiglie che non possono permettersi alcune voci di spesa,\n",
       " DCCV_FONTEPRED(13):Fonte principale di reddito familiare,\n",
       " DCCV_GINIREDD(5):Indicatori sulla distribuzione reddito netto familiare,\n",
       " DCCV_IMPREV(12):Capacità di risparmio e far fronte a spese impreviste,\n",
       " DCCV_INCPOVAFAM(11):Incidenza di povertà assoluta familiare,\n",
       " DCCV_INCPOVRFAM(11):Incidenza di povertà relativa familiare,\n",
       " DCCV_INDCONSUMI(6):Indicatori sulla distribuzione dei consumi,\n",
       " DCCV_INDPOVASS(3):Indicatori di povertà assoluta,\n",
       " DCCV_INDPOVREL(3):Indicatori di povertà relativa ,\n",
       " DCCV_INTPOVAFAM(4):Intensità di povertà assoluta familiare,\n",
       " DCCV_INTPOVRFAM(4):Intensità di povertà relativa familiare,\n",
       " DCCV_NOSOLDI(13):Famiglie che dichiarano in alcuni periodi dell anno di non avere soldi per voci di spesa,\n",
       " DCCV_POVERTA(11):Povertà nuove serie,\n",
       " DCCV_PROBLZONRES_2(14):Presenza di problemi nella zona di residenza delle famiglie,\n",
       " DCCV_QUINTOREDD(14):Quinto di reddito equivalente,\n",
       " DCCV_REDDFINMES(13):Giudizio sul reddito minimo per arrivare a fine mese senza difficoltà,\n",
       " DCCV_REDNETFAMFONTERED(14):Reddito  netto familiare,\n",
       " DCCV_SOGLIAPOVA(6):Soglia di povertà assoluta,\n",
       " DCCV_SOGLIAPOVR(5):Soglia di povertà relativa,\n",
       " DCCV_SPEFFCOMP(5):famiglie che hanno effettuato la spesa per alcune voci di spesa,\n",
       " DCCV_SPEFFDETT(5):Dettaglio della spesa effettiva,\n",
       " DCCV_SPEMEFAM(11):Spese nuove serie,\n",
       " DCCV_SPEMMFAM(8):Spesa media mensile familiare,\n",
       " DCCV_SPQUINTO(8):Quinto di spesa della famiglia,\n",
       " DCCV_TITGODABIT(14):Titolo di godimento dell'abitazione ,\n",
       " DCSC_FIDCONS(8):Fiducia dei consumatori,\n",
       " PERCEPIT(13):Giudizio sulla condizione economica percepita]"
      ]
     },
     "execution_count": 7,
     "metadata": {},
     "output_type": "execute_result"
    }
   ],
   "source": [
    "istat_area_condizioni = istat.area(9)\n",
    "istat_area_condizioni.datasets()"
   ]
  },
  {
   "cell_type": "code",
   "execution_count": 54,
   "metadata": {
    "collapsed": true
   },
   "outputs": [],
   "source": [
    "# Povertà Assoluta\n",
    "ds_poverta_assoluta = istat_area_condizioni.dataset('DCCV_POVERTA')"
   ]
  },
  {
   "cell_type": "code",
   "execution_count": 55,
   "metadata": {
    "collapsed": false
   },
   "outputs": [
    {
     "data": {
      "text/html": [
       "DCCV_INCPOVAFAM(11):Incidenza di povertà assoluta familiare</br><table><tr><th>nr</th><th>name</th><th>nr. values</th><th>values (first 3 values)</th></tr><tr><td>0</td><td>Territorio</td><td>1</td><td>1:'Italia'</td></td></tr><tr><td>1</td><td>Tipo dato</td><td>1</td><td>15:'incidenza di povertà assoluta familiare (per 100 famiglie con le stesse caratteristiche)'</td></td></tr><tr><td>2</td><td>Misura</td><td>1</td><td>1:'valori percentuali'</td></td></tr><tr><td>3</td><td>Numero di componenti</td><td>6</td><td>1:'uno', 2:'due', 3:'tre' ...</td></td></tr><tr><td>4</td><td>Tipologia familiare</td><td>10</td><td>2:'persona sola con meno di 65 anni', 5:'persona sola con 65 anni o più', 7:'coppia senza figli con p.r. con meno di 65 anni' ...</td></td></tr><tr><td>5</td><td>Famiglia con figli minori</td><td>5</td><td>1:'1 figlio minore', 2:'2 figli minori', 3:'3 figli minori o più' ...</td></td></tr><tr><td>6</td><td>Famiglia con anziani</td><td>4</td><td>1:'1 anziano', 2:'2 anziani o più', 3:'almeno un anziano' ...</td></td></tr><tr><td>7</td><td>Età della persona di riferimento</td><td>6</td><td>1:'fino a 35 anni', 2:'35-44 anni', 3:'45-54 anni' ...</td></td></tr><tr><td>8</td><td>Titolo di studio della persona di riferimento</td><td>4</td><td>3:'licenza di scuola elementare, nessun titolo di studio', 4:'licenza di scuola media', 8:'diploma e oltre' ...</td></td></tr><tr><td>9</td><td>Occupazione della persona di riferimento</td><td>12</td><td>1:'occupato', 2:'indipendente', 5:'dipendente' ...</td></td></tr><tr><td>10</td><td>Anno</td><td>9</td><td>1996:'2005', 2015:'2006', 2034:'2007' ...</td></td></tr></table>"
      ],
      "text/plain": [
       "DCCV_INCPOVAFAM(11):Incidenza di povertà assoluta familiare"
      ]
     },
     "execution_count": 55,
     "metadata": {},
     "output_type": "execute_result"
    }
   ],
   "source": [
    "ds_poverta_assoluta"
   ]
  },
  {
   "cell_type": "code",
   "execution_count": 47,
   "metadata": {
    "collapsed": false
   },
   "outputs": [
    {
     "data": {
      "text/plain": [
       "'Tipo dato' (24:'soglia di povertà relativa (spesa mensile) - euro', 5:'famiglie in povertà assoluta (val. perc.)', 6:'famiglie in povertà relativa (val. perc.)', 15:'incidenza di povertà assoluta familiare (per 100 famiglie con le stesse caratteristiche)', 17:'incidenza di povertà relativa familiare (per 100 famiglie con le stesse caratteristiche)', 21:'intensità di povertà assoluta familiare (val. perc. rispetto al denominatore)', 22:'intensità di povertà relativa familiare (val. perc. rispetto al denominatore)', 58:'famiglie in povertà assoluta (migliaia)', 60:'famiglie in povertà relativa (migliaia)', 62:'famiglie (val. perc.)', 16:'incidenza di povertà assoluta individuale (per 100 individui con le stesse caratteristiche)', 18:'incidenza di povertà relativa individuale (per 100 individui con le stesse caratteristiche)', 19:'individui in povertà assoluta (val. perc.)', 20:'individui in povertà relativa (val. perc.)', 59:'individui in povertà assoluta (migliaia)', 61:'individui in povertà relativa (migliaia)')"
      ]
     },
     "execution_count": 47,
     "metadata": {},
     "output_type": "execute_result"
    }
   ],
   "source": [
    "ds_poverta_assoluta.dimension('Tipo dato')"
   ]
  },
  {
   "cell_type": "code",
   "execution_count": 56,
   "metadata": {
    "collapsed": true
   },
   "outputs": [],
   "source": [
    "# NORD\n",
    "spec_n = {\n",
    "\"Territorio\":3,\n",
    "\"Tipo dato\":15\n",
    "}\n",
    "\n",
    "spec_s = {\n",
    "\"Territorio\":89,\n",
    "\"Tipo dato\":15\n",
    "}"
   ]
  },
  {
   "cell_type": "code",
   "execution_count": 57,
   "metadata": {
    "collapsed": false
   },
   "outputs": [],
   "source": [
    "def df_pov(ds, spec, nome):\n",
    "    c = ds.getvalues(spec)\n",
    "    ds = c.dataset(0)\n",
    "    df = ds.to_data_frame('Tempo e frequenza')\n",
    "    df.reset_index(level=0, inplace=True)\n",
    "    df = df[['Tempo e frequenza', 'Value']]\n",
    "    df.columns = ['Anno',nome]\n",
    "    return df"
   ]
  },
  {
   "cell_type": "code",
   "execution_count": 58,
   "metadata": {
    "collapsed": false
   },
   "outputs": [
    {
     "ename": "TypeError",
     "evalue": "'str' object is not callable",
     "output_type": "error",
     "traceback": [
      "\u001b[0;31m---------------------------------------------------------------------------\u001b[0m",
      "\u001b[0;31mTypeError\u001b[0m                                 Traceback (most recent call last)",
      "\u001b[0;32m<ipython-input-58-3c1a10ad153d>\u001b[0m in \u001b[0;36m<module>\u001b[0;34m()\u001b[0m\n\u001b[1;32m      1\u001b[0m \u001b[0;31m# incidenza di povertà assoluta individuale (per 100 individui con le stesse caratteristiche)\u001b[0m\u001b[0;34m\u001b[0m\u001b[0;34m\u001b[0m\u001b[0m\n\u001b[0;32m----> 2\u001b[0;31m \u001b[0mdf_n\u001b[0m \u001b[0;34m=\u001b[0m \u001b[0mdf_pov\u001b[0m\u001b[0;34m(\u001b[0m\u001b[0mds_poverta_assoluta\u001b[0m\u001b[0;34m,\u001b[0m\u001b[0mspec_n\u001b[0m\u001b[0;34m,\u001b[0m \u001b[0;34m'Nord'\u001b[0m\u001b[0;34m)\u001b[0m\u001b[0;34m\u001b[0m\u001b[0m\n\u001b[0m\u001b[1;32m      3\u001b[0m \u001b[0mdf_s\u001b[0m \u001b[0;34m=\u001b[0m \u001b[0mdf_pov\u001b[0m\u001b[0;34m(\u001b[0m\u001b[0mds_poverta_assoluta\u001b[0m\u001b[0;34m,\u001b[0m\u001b[0mspec_s\u001b[0m\u001b[0;34m,\u001b[0m \u001b[0;34m'Sud'\u001b[0m\u001b[0;34m)\u001b[0m\u001b[0;34m\u001b[0m\u001b[0m\n\u001b[1;32m      4\u001b[0m \u001b[0mdf_s\u001b[0m\u001b[0;34m\u001b[0m\u001b[0m\n",
      "\u001b[0;32m<ipython-input-57-12a873644ac7>\u001b[0m in \u001b[0;36mdf_pov\u001b[0;34m(ds, spec, nome)\u001b[0m\n\u001b[1;32m      1\u001b[0m \u001b[0;32mdef\u001b[0m \u001b[0mdf_pov\u001b[0m\u001b[0;34m(\u001b[0m\u001b[0mds\u001b[0m\u001b[0;34m,\u001b[0m \u001b[0mspec\u001b[0m\u001b[0;34m,\u001b[0m \u001b[0mnome\u001b[0m\u001b[0;34m)\u001b[0m\u001b[0;34m:\u001b[0m\u001b[0;34m\u001b[0m\u001b[0m\n\u001b[0;32m----> 2\u001b[0;31m     \u001b[0mc\u001b[0m \u001b[0;34m=\u001b[0m \u001b[0mds\u001b[0m\u001b[0;34m.\u001b[0m\u001b[0mgetvalues\u001b[0m\u001b[0;34m(\u001b[0m\u001b[0mspec\u001b[0m\u001b[0;34m)\u001b[0m\u001b[0;34m\u001b[0m\u001b[0m\n\u001b[0m\u001b[1;32m      3\u001b[0m     \u001b[0mds\u001b[0m \u001b[0;34m=\u001b[0m \u001b[0mc\u001b[0m\u001b[0;34m.\u001b[0m\u001b[0mdataset\u001b[0m\u001b[0;34m(\u001b[0m\u001b[0;36m0\u001b[0m\u001b[0;34m)\u001b[0m\u001b[0;34m\u001b[0m\u001b[0m\n\u001b[1;32m      4\u001b[0m     \u001b[0mdf\u001b[0m \u001b[0;34m=\u001b[0m \u001b[0mds\u001b[0m\u001b[0;34m.\u001b[0m\u001b[0mto_data_frame\u001b[0m\u001b[0;34m(\u001b[0m\u001b[0;34m'Tempo e frequenza'\u001b[0m\u001b[0;34m)\u001b[0m\u001b[0;34m\u001b[0m\u001b[0m\n\u001b[1;32m      5\u001b[0m     \u001b[0mdf\u001b[0m\u001b[0;34m.\u001b[0m\u001b[0mreset_index\u001b[0m\u001b[0;34m(\u001b[0m\u001b[0mlevel\u001b[0m\u001b[0;34m=\u001b[0m\u001b[0;36m0\u001b[0m\u001b[0;34m,\u001b[0m \u001b[0minplace\u001b[0m\u001b[0;34m=\u001b[0m\u001b[0;32mTrue\u001b[0m\u001b[0;34m)\u001b[0m\u001b[0;34m\u001b[0m\u001b[0m\n",
      "\u001b[0;32m/Users/cesar/anaconda/envs/opendata/lib/python3.6/site-packages/istat/istat_dataset.py\u001b[0m in \u001b[0;36mgetvalues\u001b[0;34m(self, spec, rtype)\u001b[0m\n\u001b[1;32m    152\u001b[0m                 \u001b[0;32mif\u001b[0m \u001b[0mvalue\u001b[0m \u001b[0;34m!=\u001b[0m \u001b[0;36m0\u001b[0m \u001b[0;32mand\u001b[0m \u001b[0mdim\u001b[0m\u001b[0;34m.\u001b[0m\u001b[0mcod2desc\u001b[0m\u001b[0;34m(\u001b[0m\u001b[0mvalue\u001b[0m\u001b[0;34m)\u001b[0m \u001b[0;32mis\u001b[0m \u001b[0;32mNone\u001b[0m\u001b[0;34m:\u001b[0m\u001b[0;34m\u001b[0m\u001b[0m\n\u001b[1;32m    153\u001b[0m                     \u001b[0;32mif\u001b[0m \u001b[0mdim\u001b[0m\u001b[0;34m.\u001b[0m\u001b[0mdesc2cod\u001b[0m\u001b[0;34m(\u001b[0m\u001b[0mvalue\u001b[0m\u001b[0;34m)\u001b[0m \u001b[0;32mis\u001b[0m \u001b[0;32mNone\u001b[0m\u001b[0;34m:\u001b[0m\u001b[0;34m\u001b[0m\u001b[0m\n\u001b[0;32m--> 154\u001b[0;31m                         \u001b[0mmsg\u001b[0m \u001b[0;34m=\u001b[0m \u001b[0;34m\"unknown value '{}' for dimension '{}'\"\u001b[0m\u001b[0;34m.\u001b[0m\u001b[0mformat\u001b[0m\u001b[0;34m(\u001b[0m\u001b[0mvalue\u001b[0m\u001b[0;34m,\u001b[0m \u001b[0mdim\u001b[0m\u001b[0;34m.\u001b[0m\u001b[0mname\u001b[0m\u001b[0;34m(\u001b[0m\u001b[0;34m)\u001b[0m\u001b[0;34m)\u001b[0m\u001b[0;34m\u001b[0m\u001b[0m\n\u001b[0m\u001b[1;32m    155\u001b[0m                         \u001b[0;32mraise\u001b[0m \u001b[0mIstatException\u001b[0m\u001b[0;34m(\u001b[0m\u001b[0mmsg\u001b[0m\u001b[0;34m)\u001b[0m\u001b[0;34m\u001b[0m\u001b[0m\n\u001b[1;32m    156\u001b[0m                     \u001b[0mvalue\u001b[0m \u001b[0;34m=\u001b[0m \u001b[0mdim\u001b[0m\u001b[0;34m.\u001b[0m\u001b[0mdesc2cod\u001b[0m\u001b[0;34m(\u001b[0m\u001b[0mvalue\u001b[0m\u001b[0;34m)\u001b[0m\u001b[0;34m\u001b[0m\u001b[0m\n",
      "\u001b[0;31mTypeError\u001b[0m: 'str' object is not callable"
     ]
    }
   ],
   "source": [
    "# incidenza di povertà assoluta individuale (per 100 individui con le stesse caratteristiche)\n",
    "df_n = df_pov(ds_poverta_assoluta,spec_n, 'Nord')\n",
    "df_s = df_pov(ds_poverta_assoluta,spec_s, 'Sud')\n",
    "df_s"
   ]
  },
  {
   "cell_type": "code",
   "execution_count": 44,
   "metadata": {
    "collapsed": false
   },
   "outputs": [
    {
     "data": {
      "text/html": [
       "<div>\n",
       "<table border=\"1\" class=\"dataframe\">\n",
       "  <thead>\n",
       "    <tr style=\"text-align: right;\">\n",
       "      <th></th>\n",
       "      <th>Anno</th>\n",
       "      <th>Nord</th>\n",
       "      <th>Sud</th>\n",
       "    </tr>\n",
       "  </thead>\n",
       "  <tbody>\n",
       "    <tr>\n",
       "      <th>0</th>\n",
       "      <td>2014</td>\n",
       "      <td>5.7</td>\n",
       "      <td>8.4</td>\n",
       "    </tr>\n",
       "    <tr>\n",
       "      <th>1</th>\n",
       "      <td>2015</td>\n",
       "      <td>6.7</td>\n",
       "      <td>9.4</td>\n",
       "    </tr>\n",
       "  </tbody>\n",
       "</table>\n",
       "</div>"
      ],
      "text/plain": [
       "   Anno  Nord  Sud\n",
       "0  2014   5.7  8.4\n",
       "1  2015   6.7  9.4"
      ]
     },
     "execution_count": 44,
     "metadata": {},
     "output_type": "execute_result"
    }
   ],
   "source": [
    "df = pd.merge(df_n,df_s, how='inner', on=['Anno', 'Anno'])\n",
    "df"
   ]
  },
  {
   "cell_type": "code",
   "execution_count": 27,
   "metadata": {
    "collapsed": true
   },
   "outputs": [],
   "source": [
    "df_filename = r'df_g6.pkl'\n",
    "df_fullpath = os.path.join(dir_df, df_filename)\n",
    "df.to_pickle(df_fullpath)"
   ]
  }
 ],
 "metadata": {
  "kernelspec": {
   "display_name": "Python 3",
   "language": "python",
   "name": "python3"
  },
  "language_info": {
   "codemirror_mode": {
    "name": "ipython",
    "version": 3
   },
   "file_extension": ".py",
   "mimetype": "text/x-python",
   "name": "python",
   "nbconvert_exporter": "python",
   "pygments_lexer": "ipython3",
   "version": "3.6.0"
  }
 },
 "nbformat": 4,
 "nbformat_minor": 2
}
