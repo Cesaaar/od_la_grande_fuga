{
 "cells": [
  {
   "cell_type": "code",
   "execution_count": 1,
   "metadata": {
    "collapsed": false
   },
   "outputs": [
    {
     "name": "stdout",
     "output_type": "stream",
     "text": [
      "Populating the interactive namespace from numpy and matplotlib\n"
     ]
    }
   ],
   "source": [
    "import os\n",
    "import pandas as pd\n",
    "import numpy as np\n",
    "import matplotlib.pyplot as plt\n",
    "import matplotlib.gridspec as gridspec\n",
    "plt.style.use('ggplot')\n",
    "get_ipython().magic('pylab inline')"
   ]
  },
  {
   "cell_type": "code",
   "execution_count": 2,
   "metadata": {
    "collapsed": true
   },
   "outputs": [],
   "source": [
    "# Cartelle Input/Output\n",
    "dir_df = os.path.join(os.path.abspath(''),'stg')\n",
    "dir_out = os.path.join(os.path.abspath(''),'output')"
   ]
  },
  {
   "cell_type": "code",
   "execution_count": 3,
   "metadata": {
    "collapsed": true
   },
   "outputs": [],
   "source": [
    "df_g7_n_filename = r'df_g7_nord.pkl'\n",
    "df_g7_n_fullpath = os.path.join(dir_df, df_g7_n_filename)\n",
    "df_g7_nord = pd.read_pickle(df_g7_n_fullpath)\n",
    "\n",
    "df_g7_s_filename = r'df_g7_sud.pkl'\n",
    "df_g7_s_fullpath = os.path.join(dir_df, df_g7_s_filename)\n",
    "df_g7_sud = pd.read_pickle(df_g7_s_fullpath)"
   ]
  },
  {
   "cell_type": "code",
   "execution_count": 4,
   "metadata": {
    "collapsed": false
   },
   "outputs": [
    {
     "data": {
      "text/plain": [
       "<matplotlib.gridspec.GridSpec at 0x11a31e240>"
      ]
     },
     "execution_count": 4,
     "metadata": {},
     "output_type": "execute_result"
    },
    {
     "data": {
      "text/plain": [
       "<matplotlib.figure.Figure at 0x11a31e208>"
      ]
     },
     "metadata": {},
     "output_type": "display_data"
    }
   ],
   "source": [
    "# Plot figure with subplots of different sizes\n",
    "fig = plt.figure(1)\n",
    "# set up subplot grid\n",
    "gridspec.GridSpec(1,2)"
   ]
  },
  {
   "cell_type": "code",
   "execution_count": 5,
   "metadata": {
    "collapsed": false
   },
   "outputs": [
    {
     "data": {
      "image/png": "[encoded data removed]",
      "text/plain": [
       "<matplotlib.figure.Figure at 0x11a346da0>"
      ]
     },
     "metadata": {},
     "output_type": "display_data"
    }
   ],
   "source": [
    "fig, axes = plt.subplots(nrows=1, ncols=2)\n",
    "tp1 = df_g7_nord.plot(\n",
    "                kind='line',\n",
    "                legend = True,\n",
    "                ylim=(0,40),\n",
    "                ax=axes[0]\n",
    "                    )\n",
    "\n",
    "tp2 = df_g7_sud.plot(\n",
    "                kind='line',\n",
    "                legend = False,\n",
    "                ylim=(0,40),\n",
    "                ax=axes[1]\n",
    "                    )\n",
    "\n",
    "tp1.set_xlabel(\"\")\n",
    "tp1.set_ylabel(\"\")\n",
    "\n",
    "axes[0].set_title('Nord')\n",
    "axes[1].set_title('Sud')\n",
    "\n",
    "tp2.set_xlabel(\"\")\n",
    "tp2.grid(True)\n",
    "tp2.set_yticklabels([])\n",
    "tp1.legend(loc='upper right',prop={'size':8})\n",
    "\n",
    "plt.subplots_adjust(hspace=0.0, wspace=0.02, bottom=0.2)\n",
    "\n",
    "fig.savefig(os.path.join(dir_out,'G7_Reddito_Popolazione.png'), format='png', dpi=1000)"
   ]
  }
 ],
 "metadata": {
  "kernelspec": {
   "display_name": "Python 3",
   "language": "python",
   "name": "python3"
  },
  "language_info": {
   "codemirror_mode": {
    "name": "ipython",
    "version": 3
   },
   "file_extension": ".py",
   "mimetype": "text/x-python",
   "name": "python",
   "nbconvert_exporter": "python",
   "pygments_lexer": "ipython3",
   "version": "3.6.0"
  }
 },
 "nbformat": 4,
 "nbformat_minor": 2
}
