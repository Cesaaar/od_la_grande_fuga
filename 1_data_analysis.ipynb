{
 "cells": [
  {
   "cell_type": "markdown",
   "metadata": {},
   "source": [
    "## G2 - Grado di soddisfazione della vita"
   ]
  },
  {
   "cell_type": "code",
   "execution_count": 1,
   "metadata": {
    "collapsed": false
   },
   "outputs": [
    {
     "name": "stdout",
     "output_type": "stream",
     "text": [
      "cache_dir is '/home/acesarini/opendata/tmp/od_la_grande_fuga/istat_cached'\n"
     ]
    }
   ],
   "source": [
    "# Import librerie per analisi dati (Pandas) e dati Istat\n",
    "import os\n",
    "import pandas as pd\n",
    "import numpy as np\n",
    "from IPython.core.display import HTML\n",
    "import istat\n",
    "import jsonstat\n",
    "\n",
    "# cache dir per velocizzare analisi in locale\n",
    "cache_dir = os.path.abspath(os.path.join(\"..\", \"tmp/od_la_grande_fuga\", \"istat_cached\"))\n",
    "istat.cache_dir(cache_dir)\n",
    "istat.lang(0)  # lingua italiano\n",
    "print(\"cache_dir is '{}'\".format(istat.cache_dir()))"
   ]
  },
  {
   "cell_type": "code",
   "execution_count": 93,
   "metadata": {
    "collapsed": true
   },
   "outputs": [],
   "source": [
    "# Directory\n",
    "dir_df = os.path.join(os.path.abspath(''),'stg')"
   ]
  },
  {
   "cell_type": "code",
   "execution_count": 3,
   "metadata": {
    "collapsed": false
   },
   "outputs": [],
   "source": [
    "# AREA -> Opinioni dei cittadini e soddisfazione per la vita: 15\n",
    "istat_area_sodd = istat.area(15)"
   ]
  },
  {
   "cell_type": "code",
   "execution_count": 15,
   "metadata": {
    "collapsed": false
   },
   "outputs": [
    {
     "data": {
      "text/html": [
       "<table><tr><th>cod</th><th>name</th><th>dim</th></tr><tr><td>DCCV_AVQ_FAMIGLIE</td><td>Aspetti della vita quotidiana - Famiglie</td><td>5</td></td></tr><tr><td>DCCV_AVQ_PERSONE</td><td>Aspetti della vita quotidiana</td><td>8</td></td></tr><tr><td>DCCV_AVQ_PERSONE1</td><td>Aspetti della vita quotidiana - Persone</td><td>8</td></td></tr></table>"
      ],
      "text/plain": [
       "[DCCV_AVQ_FAMIGLIE(5):Aspetti della vita quotidiana - Famiglie,\n",
       " DCCV_AVQ_PERSONE(8):Aspetti della vita quotidiana,\n",
       " DCCV_AVQ_PERSONE1(8):Aspetti della vita quotidiana - Persone]"
      ]
     },
     "execution_count": 15,
     "metadata": {},
     "output_type": "execute_result"
    }
   ],
   "source": [
    "istat_area_sodd.datasets()"
   ]
  },
  {
   "cell_type": "code",
   "execution_count": 52,
   "metadata": {
    "collapsed": false
   },
   "outputs": [
    {
     "data": {
      "text/html": [
       "DCCV_AVQ_PERSONE(8):Aspetti della vita quotidiana</br><table><tr><th>nr</th><th>name</th><th>nr. values</th><th>values (first 3 values)</th></tr><tr><td>0</td><td>Territorio</td><td>36</td><td>1:'Italia', 130:'Sardegna', 3:'Nord' ...</td></td></tr><tr><td>1</td><td>Tipo dato</td><td>782</td><td>2:'persone di 18 anni e più che si sono recate all'anagrafe', 4:'fino a 10 minuti', 5:'11-20 minuti' ...</td></td></tr><tr><td>2</td><td>Misura</td><td>5</td><td>1:'valori in migliaia', 2:'per 100 persone con le stesse caratteristiche', 3:'numero medio' ...</td></td></tr><tr><td>3</td><td>Sesso</td><td>3</td><td>1:'maschi', 2:'femmine', 3:'totale' ...</td></td></tr><tr><td>4</td><td>Classe di età</td><td>44</td><td>129:'80 anni e più', 259:'14 anni e più', 260:'14-24 anni' ...</td></td></tr><tr><td>5</td><td>Titolo di studio</td><td>5</td><td>11:'laurea e post-laurea', 12:'totale', 3:'licenza di scuola elementare, nessun titolo di studio' ...</td></td></tr><tr><td>6</td><td>Condizione e posizione nella professione</td><td>13</td><td>1:'occupato', 2:'dirigenti, imprenditori, liberi professionisti', 3:'direttivo, quadro, impiegato' ...</td></td></tr><tr><td>7</td><td>Tempo e frequenza</td><td>16</td><td>1920:'2001', 2148:'2013', 2053:'2008' ...</td></td></tr></table>"
      ],
      "text/plain": [
       "DCCV_AVQ_PERSONE(8):Aspetti della vita quotidiana"
      ]
     },
     "execution_count": 52,
     "metadata": {},
     "output_type": "execute_result"
    }
   ],
   "source": [
    "# DATASET -> Soddisfazione per la vita\n",
    "istat_dataset_soddisfazione = istat_area_sodd.dataset('DCCV_AVQ_PERSONE')\n",
    "istat_dataset_soddisfazione"
   ]
  },
  {
   "cell_type": "code",
   "execution_count": 70,
   "metadata": {
    "collapsed": false
   },
   "outputs": [],
   "source": [
    "# istat_dataset_soddisfazione.dimensions()"
   ]
  },
  {
   "cell_type": "code",
   "execution_count": 84,
   "metadata": {
    "collapsed": false
   },
   "outputs": [],
   "source": [
    "spec = {\n",
    "    #\"Territorio\":1,                 \n",
    "    \"Tipo dato\":1079,\n",
    "    \"Misura\":3, \n",
    "    \"Sesso\":3,\n",
    "    \"Classe di età\":259,\n",
    "    \"Titolo di studio\":12,\n",
    "    \"Condizione e posizione nella professione\":12,\n",
    "    \"Tempo e frequenza\":2186\n",
    "}\n",
    "\n",
    "collection = istat_dataset_soddisfazione.getvalues(spec)"
   ]
  },
  {
   "cell_type": "code",
   "execution_count": 85,
   "metadata": {
    "collapsed": false
   },
   "outputs": [
    {
     "data": {
      "text/html": [
       "name:   'IDITTER107'</br>label:  'Aspetti della vita quotidiana per Territorio - media - numero medio - 14 anni e più - 2015'</br>size: 36</br><table><tr><td>pos</td><td>id</td><td>label</td><td>size</td><td>role</td></tr><tr><td>0</td><td>IDITTER107</td><td>Territorio</td><td>36</td><td></td></tr></table>"
      ],
      "text/plain": [
       "name:   'IDITTER107'\n",
       "label:  'Aspetti della vita quotidiana per Territorio - media - numero medio - 14 anni e più - 2015'\n",
       "size: 36\n",
       "+-----+------------+------------+------+------+\n",
       "| pos | id         | label      | size | role |\n",
       "+-----+------------+------------+------+------+\n",
       "| 0   | IDITTER107 | Territorio | 36   |      |\n",
       "+-----+------------+------------+------+------+"
      ]
     },
     "execution_count": 85,
     "metadata": {},
     "output_type": "execute_result"
    }
   ],
   "source": [
    "ds = collection.dataset(0)\n",
    "ds"
   ]
  },
  {
   "cell_type": "code",
   "execution_count": 89,
   "metadata": {
    "collapsed": false,
    "scrolled": true
   },
   "outputs": [],
   "source": [
    "df = ds.to_data_frame('Territorio')\n",
    "df.reset_index(level=0, inplace=True)"
   ]
  },
  {
   "cell_type": "code",
   "execution_count": 90,
   "metadata": {
    "collapsed": false
   },
   "outputs": [],
   "source": [
    "df=df[(df['Territorio']=='Italia') |\n",
    "        (df['Territorio']=='Nord') |\n",
    "        (df['Territorio']=='Sud')]"
   ]
  },
  {
   "cell_type": "code",
   "execution_count": 91,
   "metadata": {
    "collapsed": false
   },
   "outputs": [
    {
     "data": {
      "text/html": [
       "<div>\n",
       "<table border=\"1\" class=\"dataframe\">\n",
       "  <thead>\n",
       "    <tr style=\"text-align: right;\">\n",
       "      <th></th>\n",
       "      <th>Territorio</th>\n",
       "      <th>Value</th>\n",
       "    </tr>\n",
       "  </thead>\n",
       "  <tbody>\n",
       "    <tr>\n",
       "      <th>0</th>\n",
       "      <td>Italia</td>\n",
       "      <td>6.8</td>\n",
       "    </tr>\n",
       "    <tr>\n",
       "      <th>1</th>\n",
       "      <td>Nord</td>\n",
       "      <td>6.9</td>\n",
       "    </tr>\n",
       "    <tr>\n",
       "      <th>20</th>\n",
       "      <td>Sud</td>\n",
       "      <td>6.5</td>\n",
       "    </tr>\n",
       "  </tbody>\n",
       "</table>\n",
       "</div>"
      ],
      "text/plain": [
       "   Territorio  Value\n",
       "0      Italia    6.8\n",
       "1        Nord    6.9\n",
       "20        Sud    6.5"
      ]
     },
     "execution_count": 91,
     "metadata": {},
     "output_type": "execute_result"
    }
   ],
   "source": [
    "df.head()"
   ]
  },
  {
   "cell_type": "code",
   "execution_count": 94,
   "metadata": {
    "collapsed": false
   },
   "outputs": [],
   "source": [
    "df_filename = r'df_soddisfazione.pkl'\n",
    "df_fullpath = os.path.join(dir_df, df_filename)\n",
    "df.to_pickle(df_fullpath)"
   ]
  },
  {
   "cell_type": "markdown",
   "metadata": {},
   "source": [
    "### Calcolo Dataset: Soddisfazione Vita | Reddito | Popolazione"
   ]
  },
  {
   "cell_type": "code",
   "execution_count": 105,
   "metadata": {
    "collapsed": true
   },
   "outputs": [],
   "source": [
    "df_g1_filename = r'df_g1.pkl'\n",
    "df_g1_fullpath = os.path.join(dir_df, df_g1_filename)\n",
    "df_g1 = pd.read_pickle(df_g1_fullpath)"
   ]
  },
  {
   "cell_type": "code",
   "execution_count": 106,
   "metadata": {
    "collapsed": false
   },
   "outputs": [],
   "source": [
    "result = pd.merge(df_g1, df, on='Territorio')"
   ]
  },
  {
   "cell_type": "code",
   "execution_count": 107,
   "metadata": {
    "collapsed": false
   },
   "outputs": [],
   "source": [
    "result.drop(['Speranza di Vita alla nascita'], axis=1, inplace=True)\n",
    "result.rename(columns={'Value': 'Gradio di soddisfazione per la vita'}, inplace=True)"
   ]
  },
  {
   "cell_type": "code",
   "execution_count": 108,
   "metadata": {
    "collapsed": false
   },
   "outputs": [
    {
     "data": {
      "text/html": [
       "<div>\n",
       "<table border=\"1\" class=\"dataframe\">\n",
       "  <thead>\n",
       "    <tr style=\"text-align: right;\">\n",
       "      <th></th>\n",
       "      <th>Territorio</th>\n",
       "      <th>Popolazione</th>\n",
       "      <th>Reddito pro capite</th>\n",
       "      <th>Gradio di soddisfazione per la vita</th>\n",
       "    </tr>\n",
       "  </thead>\n",
       "  <tbody>\n",
       "    <tr>\n",
       "      <th>0</th>\n",
       "      <td>Italia</td>\n",
       "      <td>60795612</td>\n",
       "      <td>27044.75</td>\n",
       "      <td>6.8</td>\n",
       "    </tr>\n",
       "    <tr>\n",
       "      <th>1</th>\n",
       "      <td>Nord</td>\n",
       "      <td>27799803</td>\n",
       "      <td>32964.21</td>\n",
       "      <td>6.9</td>\n",
       "    </tr>\n",
       "    <tr>\n",
       "      <th>2</th>\n",
       "      <td>Sud</td>\n",
       "      <td>14149806</td>\n",
       "      <td>17867.38</td>\n",
       "      <td>6.5</td>\n",
       "    </tr>\n",
       "  </tbody>\n",
       "</table>\n",
       "</div>"
      ],
      "text/plain": [
       "  Territorio  Popolazione  Reddito pro capite  \\\n",
       "0     Italia     60795612            27044.75   \n",
       "1       Nord     27799803            32964.21   \n",
       "2        Sud     14149806            17867.38   \n",
       "\n",
       "   Gradio di soddisfazione per la vita  \n",
       "0                                  6.8  \n",
       "1                                  6.9  \n",
       "2                                  6.5  "
      ]
     },
     "execution_count": 108,
     "metadata": {},
     "output_type": "execute_result"
    }
   ],
   "source": [
    "result"
   ]
  },
  {
   "cell_type": "code",
   "execution_count": 109,
   "metadata": {
    "collapsed": true
   },
   "outputs": [],
   "source": [
    "result_filename = r'df_g2.pkl'\n",
    "result_fullpath = os.path.join(dir_df, result_filename)\n",
    "result.to_pickle(result_fullpath)"
   ]
  }
 ],
 "metadata": {
  "anaconda-cloud": {},
  "kernelspec": {
   "display_name": "Python [conda env:opendata]",
   "language": "python",
   "name": "conda-env-opendata-py"
  },
  "language_info": {
   "codemirror_mode": {
    "name": "ipython",
    "version": 3
   },
   "file_extension": ".py",
   "mimetype": "text/x-python",
   "name": "python",
   "nbconvert_exporter": "python",
   "pygments_lexer": "ipython3",
   "version": "3.5.2"
  }
 },
 "nbformat": 4,
 "nbformat_minor": 1
}
