{
 "cells": [
  {
   "cell_type": "markdown",
   "metadata": {},
   "source": [
    "## G1 - Salute e Reddito"
   ]
  },
  {
   "cell_type": "code",
   "execution_count": 1,
   "metadata": {
    "collapsed": false
   },
   "outputs": [
    {
     "name": "stdout",
     "output_type": "stream",
     "text": [
      "cache_dir is '/Users/cesar/Documents/opendata/tmp/od_la_grande_fuga/istat_cached'\n"
     ]
    }
   ],
   "source": [
    "# Import librerie per analisi dati (Pandas) e dati Istat\n",
    "import os\n",
    "import pandas as pd\n",
    "import numpy as np\n",
    "from IPython.core.display import HTML\n",
    "import istat\n",
    "import jsonstat\n",
    "\n",
    "# cache dir per velocizzare analisi in locale\n",
    "cache_dir = os.path.abspath(os.path.join(\"..\", \"tmp/od_la_grande_fuga\", \"istat_cached\"))\n",
    "istat.cache_dir(cache_dir)\n",
    "istat.lang(0)  # lingua italiano\n",
    "print(\"cache_dir is '{}'\".format(istat.cache_dir()))"
   ]
  },
  {
   "cell_type": "code",
   "execution_count": 2,
   "metadata": {
    "collapsed": false
   },
   "outputs": [],
   "source": [
    "# Lista Aree\n",
    "# istat.areas()\n",
    "istat_area_pop = istat.area(8)"
   ]
  },
  {
   "cell_type": "markdown",
   "metadata": {},
   "source": [
    "## Speranza di vita alla nascita"
   ]
  },
  {
   "cell_type": "code",
   "execution_count": 3,
   "metadata": {
    "collapsed": false
   },
   "outputs": [],
   "source": [
    "# Lista Dataset - Popolazione -> KPI: Speranza di vita alla nascita\n",
    "istat_dataset_popolazione = istat_area_pop.dataset('DCIS_INDDEMOG1')\n",
    "# istat_dataset_popolazione"
   ]
  },
  {
   "cell_type": "code",
   "execution_count": 4,
   "metadata": {
    "collapsed": false
   },
   "outputs": [],
   "source": [
    "# Lista di tutte le Dimensioni\n",
    "#istat_dataset_popolazione.dimensions()"
   ]
  },
  {
   "cell_type": "code",
   "execution_count": 5,
   "metadata": {
    "collapsed": false
   },
   "outputs": [],
   "source": [
    "# Speranza di Vita Maschi\n",
    "spec1 = {\n",
    "    #\"Territorio\":1,                 # 1 -> Italia\n",
    "    #\"Anno\":2167,                   # ALL\n",
    "    \"Tipo indicatore\":75            # 75 -> Speranza di vita alla nascita - maschi\n",
    "}\n",
    "\n",
    "collection1 = istat_dataset_popolazione.getvalues(spec1)\n",
    "ds = collection1.dataset(0)\n",
    "df_m = ds.to_data_frame('Territorio')"
   ]
  },
  {
   "cell_type": "code",
   "execution_count": 6,
   "metadata": {
    "collapsed": false
   },
   "outputs": [],
   "source": [
    "# Speranza di Vita Femmine\n",
    "spec2 = {\n",
    "    #\"Territorio\":1,                # 1 -> Italia\n",
    "    #\"Anno\":2167,                   # ALL\n",
    "    \"Tipo indicatore\":77            # 77 -> Speranza di vita alla nascita - femmine\n",
    "}\n",
    "\n",
    "collection2 = istat_dataset_popolazione.getvalues(spec2)\n",
    "ds2 = collection2.dataset(0)\n",
    "df_f = ds2.to_data_frame('Territorio')"
   ]
  },
  {
   "cell_type": "code",
   "execution_count": 7,
   "metadata": {
    "collapsed": false
   },
   "outputs": [
    {
     "data": {
      "text/plain": [
       "Anno     2085\n",
       "Value    1976\n",
       "dtype: int64"
      ]
     },
     "execution_count": 7,
     "metadata": {},
     "output_type": "execute_result"
    }
   ],
   "source": [
    "df_f.count()"
   ]
  },
  {
   "cell_type": "code",
   "execution_count": 8,
   "metadata": {
    "collapsed": false
   },
   "outputs": [
    {
     "data": {
      "text/plain": [
       "Anno     2085\n",
       "Value    1976\n",
       "dtype: int64"
      ]
     },
     "execution_count": 8,
     "metadata": {},
     "output_type": "execute_result"
    }
   ],
   "source": [
    "df_m.count()"
   ]
  },
  {
   "cell_type": "code",
   "execution_count": 9,
   "metadata": {
    "collapsed": true
   },
   "outputs": [],
   "source": [
    "# Calcolo Speranza di Vita alla Nascita (media tra maschi e femmine) - Territorio Italia, Nord e Sud\n",
    "df_merge = pd.concat([df_m, df_f], axis=1)\n",
    "df_merge.columns = ['Anno', 'Value_M', 'Anno_F', 'Value_F']\n",
    "df_merge = df_merge.drop('Anno_F', 1)\n",
    "df_merge.reset_index(level=0, inplace=True)\n",
    "\n",
    "def value(x):\n",
    "    return round(((x['Value_F'] + x['Value_M'])/2),1)\n",
    "\n",
    "df_merge['Value'] = df_merge.apply(lambda x: value(x), axis=1)\n",
    "df_merge = df_merge.drop('Value_F', 1)\n",
    "df_merge = df_merge.drop('Value_M', 1)\n",
    "\n",
    "df_merge=df_merge[(df_merge['Territorio']=='Italia') |\n",
    "                  (df_merge['Territorio']=='Nord') |\n",
    "                  (df_merge['Territorio']=='Sud')]"
   ]
  },
  {
   "cell_type": "code",
   "execution_count": 10,
   "metadata": {
    "collapsed": false
   },
   "outputs": [
    {
     "data": {
      "text/html": [
       "<div>\n",
       "<table border=\"1\" class=\"dataframe\">\n",
       "  <thead>\n",
       "    <tr style=\"text-align: right;\">\n",
       "      <th></th>\n",
       "      <th>Territorio</th>\n",
       "      <th>Anno</th>\n",
       "      <th>Value</th>\n",
       "    </tr>\n",
       "  </thead>\n",
       "  <tbody>\n",
       "    <tr>\n",
       "      <th>0</th>\n",
       "      <td>Italia</td>\n",
       "      <td>2002</td>\n",
       "      <td>80.1</td>\n",
       "    </tr>\n",
       "    <tr>\n",
       "      <th>1</th>\n",
       "      <td>Italia</td>\n",
       "      <td>2003</td>\n",
       "      <td>80.0</td>\n",
       "    </tr>\n",
       "  </tbody>\n",
       "</table>\n",
       "</div>"
      ],
      "text/plain": [
       "  Territorio  Anno  Value\n",
       "0     Italia  2002   80.1\n",
       "1     Italia  2003   80.0"
      ]
     },
     "execution_count": 10,
     "metadata": {},
     "output_type": "execute_result"
    }
   ],
   "source": [
    "df_merge.head(2)\n",
    "\n",
    "# writer = pd.ExcelWriter('Vita.xlsx')\n",
    "# df_merge.to_excel(writer,'vita')\n",
    "# writer.save()\n"
   ]
  },
  {
   "cell_type": "code",
   "execution_count": 11,
   "metadata": {
    "collapsed": false
   },
   "outputs": [],
   "source": [
    "# Directory dove salvare i file, da utilizzare in data_visualization\n",
    "dir_df = os.path.join(os.path.abspath(''),'stg')\n",
    "\n",
    "df_merge_filename = r'df_vita.pkl'\n",
    "df_merge_fullpath = os.path.join(dir_df, df_merge_filename)\n",
    "df_merge.to_pickle(df_merge_fullpath)"
   ]
  },
  {
   "cell_type": "markdown",
   "metadata": {},
   "source": [
    "## Reddito pro capite"
   ]
  },
  {
   "cell_type": "code",
   "execution_count": 13,
   "metadata": {
    "collapsed": false
   },
   "outputs": [],
   "source": [
    "istat_area_cn = istat.area(17)\n",
    "istat_dataset_reddito = istat_area_cn.dataset('DCCN_TNA')\n",
    "# istat_dataset_reddito"
   ]
  },
  {
   "cell_type": "code",
   "execution_count": 14,
   "metadata": {
    "collapsed": false
   },
   "outputs": [],
   "source": [
    "#istat_dataset_reddito.dimensions()"
   ]
  },
  {
   "cell_type": "code",
   "execution_count": 15,
   "metadata": {
    "collapsed": false
   },
   "outputs": [],
   "source": [
    "# Prodotto Interno Lordo ai prezzi di mercato per abitante\n",
    "\n",
    "spec2 = {\n",
    "#\"Territorio\":1,\n",
    "\"Tipo aggregato\":27,\n",
    "#\"Branca di attività (NACE Rev2)\":128,\n",
    "#\"Attività non finanziarie\":3,\n",
    "#\"Funzione di spesa (coicop/cofog)\":3,\n",
    "\"Valutazione\":9,\n",
    "#\"Correzione\":1,\n",
    "#\"Tipologia di prezzo\":1,\n",
    "\"Edizione\":2223\n",
    "#\"Tempo e frequenza\":1920\n",
    "}\n",
    "\n",
    "collection2 = istat_dataset_reddito.getvalues(spec2)\n",
    "#ds = collection.dataset(0)"
   ]
  },
  {
   "cell_type": "code",
   "execution_count": 16,
   "metadata": {
    "collapsed": false,
    "scrolled": true
   },
   "outputs": [],
   "source": [
    "ds = collection2.dataset(0)\n",
    "df_red = ds.to_data_frame('Tempo e frequenza')\n",
    "df_red.reset_index(level=0, inplace=True)\n",
    "df_red = df_red[['Tempo e frequenza','Territorio', 'Value']]"
   ]
  },
  {
   "cell_type": "code",
   "execution_count": 17,
   "metadata": {
    "collapsed": false
   },
   "outputs": [],
   "source": [
    "df_red=df_red[(df_red['Territorio']=='Italia') |\n",
    "                  (df_red['Territorio']=='Nord') |\n",
    "                  (df_red['Territorio']=='Sud')]"
   ]
  },
  {
   "cell_type": "code",
   "execution_count": 18,
   "metadata": {
    "collapsed": false
   },
   "outputs": [],
   "source": [
    "#writer = pd.ExcelWriter('Reddito.xlsx')\n",
    "#df_red.to_excel(writer,'reddito')\n",
    "#writer.save()"
   ]
  },
  {
   "cell_type": "code",
   "execution_count": 19,
   "metadata": {
    "collapsed": true
   },
   "outputs": [],
   "source": [
    "df_red_filename = r'df_reddito.pkl'\n",
    "df_red_fullpath = os.path.join(dir_df, df_red_filename)\n",
    "df_red.to_pickle(df_red_fullpath)"
   ]
  },
  {
   "cell_type": "code",
   "execution_count": 20,
   "metadata": {
    "collapsed": false
   },
   "outputs": [
    {
     "data": {
      "text/html": [
       "<div>\n",
       "<table border=\"1\" class=\"dataframe\">\n",
       "  <thead>\n",
       "    <tr style=\"text-align: right;\">\n",
       "      <th></th>\n",
       "      <th>Tempo e frequenza</th>\n",
       "      <th>Territorio</th>\n",
       "      <th>Value</th>\n",
       "    </tr>\n",
       "  </thead>\n",
       "  <tbody>\n",
       "    <tr>\n",
       "      <th>0</th>\n",
       "      <td>1995</td>\n",
       "      <td>Italia</td>\n",
       "      <td>17327.71</td>\n",
       "    </tr>\n",
       "    <tr>\n",
       "      <th>1</th>\n",
       "      <td>1996</td>\n",
       "      <td>Italia</td>\n",
       "      <td>18344.68</td>\n",
       "    </tr>\n",
       "  </tbody>\n",
       "</table>\n",
       "</div>"
      ],
      "text/plain": [
       "  Tempo e frequenza Territorio     Value\n",
       "0              1995     Italia  17327.71\n",
       "1              1996     Italia  18344.68"
      ]
     },
     "execution_count": 20,
     "metadata": {},
     "output_type": "execute_result"
    }
   ],
   "source": [
    "df_red.head(2)"
   ]
  },
  {
   "cell_type": "markdown",
   "metadata": {},
   "source": [
    "## Numerosità popolazione"
   ]
  },
  {
   "cell_type": "code",
   "execution_count": 21,
   "metadata": {
    "collapsed": false
   },
   "outputs": [
    {
     "data": {
      "text/html": [
       "DCIS_POPRES1(6):Popolazione residente  al 1° gennaio </br><table><tr><th>nr</th><th>name</th><th>nr. values</th><th>values (first 3 values)</th></tr><tr><td>0</td><td>Territorio</td><td>8514</td><td>1:'Italia', 3:'Nord', 4:'Nord-ovest' ...</td></td></tr><tr><td>1</td><td>Tipo di indicatore demografico</td><td>1</td><td>1:'popolazione al 1º gennaio'</td></td></tr><tr><td>2</td><td>Sesso</td><td>3</td><td>1:'maschi', 2:'femmine', 3:'totale' ...</td></td></tr><tr><td>3</td><td>Età</td><td>102</td><td>1:'0 anni', 2:'1 anni', 3:'2 anni' ...</td></td></tr><tr><td>4</td><td>Stato civile</td><td>5</td><td>1:'nubile/celibe', 2:'coniugata/o', 3:'divorziata/o' ...</td></td></tr><tr><td>5</td><td>Anno</td><td>15</td><td>1939:'2002', 1958:'2003', 1977:'2004' ...</td></td></tr></table>"
      ],
      "text/plain": [
       "DCIS_POPRES1(6):Popolazione residente  al 1° gennaio "
      ]
     },
     "execution_count": 21,
     "metadata": {},
     "output_type": "execute_result"
    }
   ],
   "source": [
    "# Popolazione Residente\n",
    "istat_dataset_residenti = istat_area_pop.dataset('DCIS_POPRES1')\n",
    "istat_dataset_residenti"
   ]
  },
  {
   "cell_type": "code",
   "execution_count": 22,
   "metadata": {
    "collapsed": false,
    "scrolled": true
   },
   "outputs": [],
   "source": [
    "# istat_dataset_residenti.dimensions()"
   ]
  },
  {
   "cell_type": "code",
   "execution_count": 23,
   "metadata": {
    "collapsed": false
   },
   "outputs": [
    {
     "data": {
      "text/html": [
       "name:   'IDITTER107'</br>label:  'Popolazione residente  al 1° gennaio  per Territorio - popolazione al 1º gennaio - 2015'</br>size: 8089</br><table><tr><td>pos</td><td>id</td><td>label</td><td>size</td><td>role</td></tr><tr><td>0</td><td>IDITTER107</td><td>Territorio</td><td>8089</td><td></td></tr></table>"
      ],
      "text/plain": [
       "name:   'IDITTER107'\n",
       "label:  'Popolazione residente  al 1° gennaio  per Territorio - popolazione al 1º gennaio - 2015'\n",
       "size: 8089\n",
       "+-----+------------+------------+------+------+\n",
       "| pos | id         | label      | size | role |\n",
       "+-----+------------+------------+------+------+\n",
       "| 0   | IDITTER107 | Territorio | 8089 |      |\n",
       "+-----+------------+------------+------+------+"
      ]
     },
     "execution_count": 23,
     "metadata": {},
     "output_type": "execute_result"
    }
   ],
   "source": [
    "# Popolazione Residente\n",
    "spec_pr = {\n",
    "    #\"Territorio\":1,\n",
    "    \"Sesso\":3,\n",
    "    \"Stato civile\":8,\n",
    "    \"Tipo di indicatore demografico\":1,\n",
    "    \"Età\":182,\n",
    "    \"Anno\":2186,\n",
    "}\n",
    "\n",
    "collection_pr = istat_dataset_residenti.getvalues(spec_pr)\n",
    "ds_pr = collection_pr.dataset(0)\n",
    "ds_pr"
   ]
  },
  {
   "cell_type": "code",
   "execution_count": 24,
   "metadata": {
    "collapsed": true
   },
   "outputs": [],
   "source": [
    "df_pr = ds_pr.to_data_frame('Territorio')\n",
    "df_pr.reset_index(level=0, inplace=True)"
   ]
  },
  {
   "cell_type": "code",
   "execution_count": 25,
   "metadata": {
    "collapsed": false
   },
   "outputs": [],
   "source": [
    "df_pr_2015=df_pr[(df_pr['Territorio']=='Italia') |\n",
    "                  (df_pr['Territorio']=='Nord') |\n",
    "                  (df_pr['Territorio']=='Sud')]"
   ]
  },
  {
   "cell_type": "markdown",
   "metadata": {},
   "source": [
    "## 1° Dataset - Dati per Grafico di Preston"
   ]
  },
  {
   "cell_type": "code",
   "execution_count": 26,
   "metadata": {
    "collapsed": false
   },
   "outputs": [
    {
     "name": "stderr",
     "output_type": "stream",
     "text": [
      "/Users/cesar/anaconda/lib/python3.6/site-packages/pandas/core/frame.py:2754: SettingWithCopyWarning: \n",
      "A value is trying to be set on a copy of a slice from a DataFrame\n",
      "\n",
      "See the caveats in the documentation: http://pandas.pydata.org/pandas-docs/stable/indexing.html#indexing-view-versus-copy\n",
      "  **kwargs)\n"
     ]
    },
    {
     "data": {
      "text/html": [
       "<div>\n",
       "<table border=\"1\" class=\"dataframe\">\n",
       "  <thead>\n",
       "    <tr style=\"text-align: right;\">\n",
       "      <th></th>\n",
       "      <th>Territorio</th>\n",
       "      <th>Popolazione residente</th>\n",
       "    </tr>\n",
       "  </thead>\n",
       "  <tbody>\n",
       "    <tr>\n",
       "      <th>0</th>\n",
       "      <td>Italia</td>\n",
       "      <td>60795612</td>\n",
       "    </tr>\n",
       "    <tr>\n",
       "      <th>1</th>\n",
       "      <td>Nord</td>\n",
       "      <td>27799803</td>\n",
       "    </tr>\n",
       "    <tr>\n",
       "      <th>86</th>\n",
       "      <td>Sud</td>\n",
       "      <td>14149806</td>\n",
       "    </tr>\n",
       "  </tbody>\n",
       "</table>\n",
       "</div>"
      ],
      "text/plain": [
       "   Territorio  Popolazione residente\n",
       "0      Italia               60795612\n",
       "1        Nord               27799803\n",
       "86        Sud               14149806"
      ]
     },
     "execution_count": 26,
     "metadata": {},
     "output_type": "execute_result"
    }
   ],
   "source": [
    "# df_red -> reddito\n",
    "# df_merge -> speranza di vita\n",
    "# df_pr_2015 -> popolazione\n",
    "df_pr_2015.rename(columns={'Value': 'Popolazione residente'}, inplace=True)\n",
    "df_pr_2015"
   ]
  },
  {
   "cell_type": "code",
   "execution_count": 27,
   "metadata": {
    "collapsed": false
   },
   "outputs": [
    {
     "name": "stderr",
     "output_type": "stream",
     "text": [
      "/Users/cesar/anaconda/lib/python3.6/site-packages/ipykernel/__main__.py:2: SettingWithCopyWarning: \n",
      "A value is trying to be set on a copy of a slice from a DataFrame\n",
      "\n",
      "See the caveats in the documentation: http://pandas.pydata.org/pandas-docs/stable/indexing.html#indexing-view-versus-copy\n",
      "  from ipykernel import kernelapp as app\n",
      "/Users/cesar/anaconda/lib/python3.6/site-packages/pandas/core/frame.py:2754: SettingWithCopyWarning: \n",
      "A value is trying to be set on a copy of a slice from a DataFrame\n",
      "\n",
      "See the caveats in the documentation: http://pandas.pydata.org/pandas-docs/stable/indexing.html#indexing-view-versus-copy\n",
      "  **kwargs)\n"
     ]
    },
    {
     "data": {
      "text/html": [
       "<div>\n",
       "<table border=\"1\" class=\"dataframe\">\n",
       "  <thead>\n",
       "    <tr style=\"text-align: right;\">\n",
       "      <th></th>\n",
       "      <th>Territorio</th>\n",
       "      <th>Reddito pro capite</th>\n",
       "    </tr>\n",
       "  </thead>\n",
       "  <tbody>\n",
       "    <tr>\n",
       "      <th>20</th>\n",
       "      <td>Italia</td>\n",
       "      <td>27044.75</td>\n",
       "    </tr>\n",
       "    <tr>\n",
       "      <th>62</th>\n",
       "      <td>Nord</td>\n",
       "      <td>32964.21</td>\n",
       "    </tr>\n",
       "    <tr>\n",
       "      <th>461</th>\n",
       "      <td>Sud</td>\n",
       "      <td>17867.38</td>\n",
       "    </tr>\n",
       "  </tbody>\n",
       "</table>\n",
       "</div>"
      ],
      "text/plain": [
       "    Territorio  Reddito pro capite\n",
       "20      Italia            27044.75\n",
       "62        Nord            32964.21\n",
       "461        Sud            17867.38"
      ]
     },
     "execution_count": 27,
     "metadata": {},
     "output_type": "execute_result"
    }
   ],
   "source": [
    "df_red_2015 = df_red[df_red['Tempo e frequenza']=='2015']\n",
    "df_red_2015.drop(['Tempo e frequenza'], axis=1, inplace=True)\n",
    "df_red_2015.rename(columns={'Value': 'Reddito pro capite'}, inplace=True)\n",
    "df_red_2015"
   ]
  },
  {
   "cell_type": "code",
   "execution_count": 28,
   "metadata": {
    "collapsed": false
   },
   "outputs": [
    {
     "name": "stderr",
     "output_type": "stream",
     "text": [
      "/Users/cesar/anaconda/lib/python3.6/site-packages/ipykernel/__main__.py:2: SettingWithCopyWarning: \n",
      "A value is trying to be set on a copy of a slice from a DataFrame\n",
      "\n",
      "See the caveats in the documentation: http://pandas.pydata.org/pandas-docs/stable/indexing.html#indexing-view-versus-copy\n",
      "  from ipykernel import kernelapp as app\n",
      "/Users/cesar/anaconda/lib/python3.6/site-packages/pandas/core/frame.py:2754: SettingWithCopyWarning: \n",
      "A value is trying to be set on a copy of a slice from a DataFrame\n",
      "\n",
      "See the caveats in the documentation: http://pandas.pydata.org/pandas-docs/stable/indexing.html#indexing-view-versus-copy\n",
      "  **kwargs)\n"
     ]
    },
    {
     "data": {
      "text/html": [
       "<div>\n",
       "<table border=\"1\" class=\"dataframe\">\n",
       "  <thead>\n",
       "    <tr style=\"text-align: right;\">\n",
       "      <th></th>\n",
       "      <th>Territorio</th>\n",
       "      <th>Speranza di vita alla nascita</th>\n",
       "    </tr>\n",
       "  </thead>\n",
       "  <tbody>\n",
       "    <tr>\n",
       "      <th>13</th>\n",
       "      <td>Italia</td>\n",
       "      <td>82.3</td>\n",
       "    </tr>\n",
       "    <tr>\n",
       "      <th>28</th>\n",
       "      <td>Nord</td>\n",
       "      <td>82.8</td>\n",
       "    </tr>\n",
       "    <tr>\n",
       "      <th>1303</th>\n",
       "      <td>Sud</td>\n",
       "      <td>81.7</td>\n",
       "    </tr>\n",
       "  </tbody>\n",
       "</table>\n",
       "</div>"
      ],
      "text/plain": [
       "     Territorio  Speranza di vita alla nascita\n",
       "13       Italia                           82.3\n",
       "28         Nord                           82.8\n",
       "1303        Sud                           81.7"
      ]
     },
     "execution_count": 28,
     "metadata": {},
     "output_type": "execute_result"
    }
   ],
   "source": [
    "df_merge_2015 = df_merge[df_merge['Anno']=='2015']\n",
    "df_merge_2015.drop(['Anno'], axis=1, inplace=True)\n",
    "df_merge_2015.rename(columns={'Value': 'Speranza di vita alla nascita'}, inplace=True)\n",
    "df_merge_2015"
   ]
  },
  {
   "cell_type": "code",
   "execution_count": 29,
   "metadata": {
    "collapsed": false
   },
   "outputs": [
    {
     "data": {
      "text/html": [
       "<div>\n",
       "<table border=\"1\" class=\"dataframe\">\n",
       "  <thead>\n",
       "    <tr style=\"text-align: right;\">\n",
       "      <th></th>\n",
       "      <th>Territorio</th>\n",
       "      <th>Popolazione residente</th>\n",
       "      <th>Speranza di vita alla nascita</th>\n",
       "      <th>Reddito pro capite</th>\n",
       "    </tr>\n",
       "  </thead>\n",
       "  <tbody>\n",
       "    <tr>\n",
       "      <th>0</th>\n",
       "      <td>Italia</td>\n",
       "      <td>60795612</td>\n",
       "      <td>82.3</td>\n",
       "      <td>27044.75</td>\n",
       "    </tr>\n",
       "    <tr>\n",
       "      <th>1</th>\n",
       "      <td>Nord</td>\n",
       "      <td>27799803</td>\n",
       "      <td>82.8</td>\n",
       "      <td>32964.21</td>\n",
       "    </tr>\n",
       "    <tr>\n",
       "      <th>2</th>\n",
       "      <td>Sud</td>\n",
       "      <td>14149806</td>\n",
       "      <td>81.7</td>\n",
       "      <td>17867.38</td>\n",
       "    </tr>\n",
       "  </tbody>\n",
       "</table>\n",
       "</div>"
      ],
      "text/plain": [
       "  Territorio  Popolazione residente  Speranza di vita alla nascita  \\\n",
       "0     Italia               60795612                           82.3   \n",
       "1       Nord               27799803                           82.8   \n",
       "2        Sud               14149806                           81.7   \n",
       "\n",
       "   Reddito pro capite  \n",
       "0            27044.75  \n",
       "1            32964.21  \n",
       "2            17867.38  "
      ]
     },
     "execution_count": 29,
     "metadata": {},
     "output_type": "execute_result"
    }
   ],
   "source": [
    "# Dataset Finale df_pr_2015, df_merge_2015,df_red_2015\n",
    "result = pd.merge(df_pr_2015, df_merge_2015, on='Territorio')\n",
    "df_g1 = pd.merge(result,df_red_2015, on='Territorio')\n",
    "df_g1"
   ]
  },
  {
   "cell_type": "code",
   "execution_count": 30,
   "metadata": {
    "collapsed": false
   },
   "outputs": [],
   "source": [
    "df_g1_filename = r'df_g1.pkl'\n",
    "df_g1_fullpath = os.path.join(dir_df, df_g1_filename)\n",
    "df_g1.to_pickle(df_g1_fullpath)"
   ]
  }
 ],
 "metadata": {
  "anaconda-cloud": {},
  "kernelspec": {
   "display_name": "Python 3",
   "language": "python",
   "name": "python3"
  },
  "language_info": {
   "codemirror_mode": {
    "name": "ipython",
    "version": 3
   },
   "file_extension": ".py",
   "mimetype": "text/x-python",
   "name": "python",
   "nbconvert_exporter": "python",
   "pygments_lexer": "ipython3",
   "version": "3.6.0"
  }
 },
 "nbformat": 4,
 "nbformat_minor": 1
}
